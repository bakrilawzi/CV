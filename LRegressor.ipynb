{
  "nbformat": 4,
  "nbformat_minor": 0,
  "metadata": {
    "colab": {
      "provenance": [],
      "include_colab_link": true
    },
    "kernelspec": {
      "name": "python3",
      "display_name": "Python 3"
    }
  },
  "cells": [
    {
      "cell_type": "markdown",
      "metadata": {
        "id": "view-in-github",
        "colab_type": "text"
      },
      "source": [
        "<a href=\"https://colab.research.google.com/github/bakrilawzi/CV/blob/main/LRegressor.ipynb\" target=\"_parent\"><img src=\"https://colab.research.google.com/assets/colab-badge.svg\" alt=\"Open In Colab\"/></a>"
      ]
    },
    {
      "cell_type": "code",
      "metadata": {
        "id": "F1f4kxx8PGI1"
      },
      "source": [
        "import pandas as pd\n",
        "import numpy as np\n",
        "# Plotting.\n",
        "import matplotlib.pyplot as plt\n",
        "plt.style.use('fivethirtyeight')\n",
        "plt.rcParams['figure.figsize'] = (10, 6)\n",
        "%config InlineBackend.figure_formats = ['svg']"
      ],
      "execution_count": null,
      "outputs": []
    },
    {
      "cell_type": "markdown",
      "metadata": {
        "id": "2h84j9lvVycx"
      },
      "source": [
        "## Fitting a linear regression model with Gradient Descent."
      ]
    },
    {
      "cell_type": "code",
      "metadata": {
        "id": "O9hvb-4IV-G7",
        "colab": {
          "base_uri": "https://localhost:8080/",
          "height": 530
        },
        "outputId": "89c83111-b084-4701-bc9d-c197513c938c"
      },
      "source": [
        "#@title We generate datapoints from a polynomial function.\n",
        "n_points = 10\n",
        "noise_magnitude = 0.2\n",
        "\n",
        "x = np.linspace(0.0, 1.0, n_points)\n",
        "x.sort()\n",
        "\n",
        "y_real = 1.5 * x ** 1.8 - 0.3\n",
        "\n",
        "# We add some artificial noise, as it is quite common to train on noisy data.\n",
        "#y = y_real\n",
        "\n",
        "y = y_real + noise_magnitude * np.random.normal(size=n_points)\n",
        "\n",
        "#plt.plot(x, y_real, '--', label='Real function')\n",
        "plt.scatter(x, y, s=100, c='g', label='Data points observed')\n",
        "_ = plt.legend(loc='best')"
      ],
      "execution_count": null,
      "outputs": [
        {
          "output_type": "display_data",
          "data": {
            "text/plain": [
              "<Figure size 1000x600 with 1 Axes>"
            ],
            "image/svg+xml": "<?xml version=\"1.0\" encoding=\"utf-8\" standalone=\"no\"?>\n<!DOCTYPE svg PUBLIC \"-//W3C//DTD SVG 1.1//EN\"\n  \"http://www.w3.org/Graphics/SVG/1.1/DTD/svg11.dtd\">\n<svg xmlns:xlink=\"http://www.w3.org/1999/xlink\" width=\"678.295937pt\" height=\"381.369375pt\" viewBox=\"0 0 678.295937 381.369375\" xmlns=\"http://www.w3.org/2000/svg\" version=\"1.1\">\n <metadata>\n  <rdf:RDF xmlns:dc=\"http://purl.org/dc/elements/1.1/\" xmlns:cc=\"http://creativecommons.org/ns#\" xmlns:rdf=\"http://www.w3.org/1999/02/22-rdf-syntax-ns#\">\n   <cc:Work>\n    <dc:type rdf:resource=\"http://purl.org/dc/dcmitype/StillImage\"/>\n    <dc:date>2023-05-07T13:19:00.690450</dc:date>\n    <dc:format>image/svg+xml</dc:format>\n    <dc:creator>\n     <cc:Agent>\n      <dc:title>Matplotlib v3.7.1, https://matplotlib.org/</dc:title>\n     </cc:Agent>\n    </dc:creator>\n   </cc:Work>\n  </rdf:RDF>\n </metadata>\n <defs>\n  <style type=\"text/css\">*{stroke-linejoin: round; stroke-linecap: butt}</style>\n </defs>\n <g id=\"figure_1\">\n  <g id=\"patch_1\">\n   <path d=\"M -0 381.369375 \nL 678.295937 381.369375 \nL 678.295937 0 \nL -0 0 \nz\n\" style=\"fill: #f0f0f0\"/>\n  </g>\n  <g id=\"axes_1\">\n   <g id=\"patch_2\">\n    <path d=\"M 44.695937 357.12 \nL 671.095937 357.12 \nL 671.095937 7.2 \nL 44.695937 7.2 \nz\n\" style=\"fill: #f0f0f0\"/>\n   </g>\n   <g id=\"matplotlib.axis_1\">\n    <g id=\"xtick_1\">\n     <g id=\"line2d_1\">\n      <path d=\"M 73.168665 357.12 \nL 73.168665 7.2 \n\" clip-path=\"url(#p3e7e69645c)\" style=\"fill: none; stroke: #cbcbcb\"/>\n     </g>\n     <g id=\"line2d_2\"/>\n     <g id=\"text_1\">\n      <!-- 0.0 -->\n      <g transform=\"translate(62.036477 371.257813) scale(0.14 -0.14)\">\n       <defs>\n        <path id=\"DejaVuSans-30\" d=\"M 2034 4250 \nQ 1547 4250 1301 3770 \nQ 1056 3291 1056 2328 \nQ 1056 1369 1301 889 \nQ 1547 409 2034 409 \nQ 2525 409 2770 889 \nQ 3016 1369 3016 2328 \nQ 3016 3291 2770 3770 \nQ 2525 4250 2034 4250 \nz\nM 2034 4750 \nQ 2819 4750 3233 4129 \nQ 3647 3509 3647 2328 \nQ 3647 1150 3233 529 \nQ 2819 -91 2034 -91 \nQ 1250 -91 836 529 \nQ 422 1150 422 2328 \nQ 422 3509 836 4129 \nQ 1250 4750 2034 4750 \nz\n\" transform=\"scale(0.015625)\"/>\n        <path id=\"DejaVuSans-2e\" d=\"M 684 794 \nL 1344 794 \nL 1344 0 \nL 684 0 \nL 684 794 \nz\n\" transform=\"scale(0.015625)\"/>\n       </defs>\n       <use xlink:href=\"#DejaVuSans-30\"/>\n       <use xlink:href=\"#DejaVuSans-2e\" x=\"63.623047\"/>\n       <use xlink:href=\"#DejaVuSans-30\" x=\"95.410156\"/>\n      </g>\n     </g>\n    </g>\n    <g id=\"xtick_2\">\n     <g id=\"line2d_3\">\n      <path d=\"M 187.059574 357.12 \nL 187.059574 7.2 \n\" clip-path=\"url(#p3e7e69645c)\" style=\"fill: none; stroke: #cbcbcb\"/>\n     </g>\n     <g id=\"line2d_4\"/>\n     <g id=\"text_2\">\n      <!-- 0.2 -->\n      <g transform=\"translate(175.927386 371.257813) scale(0.14 -0.14)\">\n       <defs>\n        <path id=\"DejaVuSans-32\" d=\"M 1228 531 \nL 3431 531 \nL 3431 0 \nL 469 0 \nL 469 531 \nQ 828 903 1448 1529 \nQ 2069 2156 2228 2338 \nQ 2531 2678 2651 2914 \nQ 2772 3150 2772 3378 \nQ 2772 3750 2511 3984 \nQ 2250 4219 1831 4219 \nQ 1534 4219 1204 4116 \nQ 875 4013 500 3803 \nL 500 4441 \nQ 881 4594 1212 4672 \nQ 1544 4750 1819 4750 \nQ 2544 4750 2975 4387 \nQ 3406 4025 3406 3419 \nQ 3406 3131 3298 2873 \nQ 3191 2616 2906 2266 \nQ 2828 2175 2409 1742 \nQ 1991 1309 1228 531 \nz\n\" transform=\"scale(0.015625)\"/>\n       </defs>\n       <use xlink:href=\"#DejaVuSans-30\"/>\n       <use xlink:href=\"#DejaVuSans-2e\" x=\"63.623047\"/>\n       <use xlink:href=\"#DejaVuSans-32\" x=\"95.410156\"/>\n      </g>\n     </g>\n    </g>\n    <g id=\"xtick_3\">\n     <g id=\"line2d_5\">\n      <path d=\"M 300.950483 357.12 \nL 300.950483 7.2 \n\" clip-path=\"url(#p3e7e69645c)\" style=\"fill: none; stroke: #cbcbcb\"/>\n     </g>\n     <g id=\"line2d_6\"/>\n     <g id=\"text_3\">\n      <!-- 0.4 -->\n      <g transform=\"translate(289.818295 371.257813) scale(0.14 -0.14)\">\n       <defs>\n        <path id=\"DejaVuSans-34\" d=\"M 2419 4116 \nL 825 1625 \nL 2419 1625 \nL 2419 4116 \nz\nM 2253 4666 \nL 3047 4666 \nL 3047 1625 \nL 3713 1625 \nL 3713 1100 \nL 3047 1100 \nL 3047 0 \nL 2419 0 \nL 2419 1100 \nL 313 1100 \nL 313 1709 \nL 2253 4666 \nz\n\" transform=\"scale(0.015625)\"/>\n       </defs>\n       <use xlink:href=\"#DejaVuSans-30\"/>\n       <use xlink:href=\"#DejaVuSans-2e\" x=\"63.623047\"/>\n       <use xlink:href=\"#DejaVuSans-34\" x=\"95.410156\"/>\n      </g>\n     </g>\n    </g>\n    <g id=\"xtick_4\">\n     <g id=\"line2d_7\">\n      <path d=\"M 414.841392 357.12 \nL 414.841392 7.2 \n\" clip-path=\"url(#p3e7e69645c)\" style=\"fill: none; stroke: #cbcbcb\"/>\n     </g>\n     <g id=\"line2d_8\"/>\n     <g id=\"text_4\">\n      <!-- 0.6 -->\n      <g transform=\"translate(403.709205 371.257813) scale(0.14 -0.14)\">\n       <defs>\n        <path id=\"DejaVuSans-36\" d=\"M 2113 2584 \nQ 1688 2584 1439 2293 \nQ 1191 2003 1191 1497 \nQ 1191 994 1439 701 \nQ 1688 409 2113 409 \nQ 2538 409 2786 701 \nQ 3034 994 3034 1497 \nQ 3034 2003 2786 2293 \nQ 2538 2584 2113 2584 \nz\nM 3366 4563 \nL 3366 3988 \nQ 3128 4100 2886 4159 \nQ 2644 4219 2406 4219 \nQ 1781 4219 1451 3797 \nQ 1122 3375 1075 2522 \nQ 1259 2794 1537 2939 \nQ 1816 3084 2150 3084 \nQ 2853 3084 3261 2657 \nQ 3669 2231 3669 1497 \nQ 3669 778 3244 343 \nQ 2819 -91 2113 -91 \nQ 1303 -91 875 529 \nQ 447 1150 447 2328 \nQ 447 3434 972 4092 \nQ 1497 4750 2381 4750 \nQ 2619 4750 2861 4703 \nQ 3103 4656 3366 4563 \nz\n\" transform=\"scale(0.015625)\"/>\n       </defs>\n       <use xlink:href=\"#DejaVuSans-30\"/>\n       <use xlink:href=\"#DejaVuSans-2e\" x=\"63.623047\"/>\n       <use xlink:href=\"#DejaVuSans-36\" x=\"95.410156\"/>\n      </g>\n     </g>\n    </g>\n    <g id=\"xtick_5\">\n     <g id=\"line2d_9\">\n      <path d=\"M 528.732301 357.12 \nL 528.732301 7.2 \n\" clip-path=\"url(#p3e7e69645c)\" style=\"fill: none; stroke: #cbcbcb\"/>\n     </g>\n     <g id=\"line2d_10\"/>\n     <g id=\"text_5\">\n      <!-- 0.8 -->\n      <g transform=\"translate(517.600114 371.257813) scale(0.14 -0.14)\">\n       <defs>\n        <path id=\"DejaVuSans-38\" d=\"M 2034 2216 \nQ 1584 2216 1326 1975 \nQ 1069 1734 1069 1313 \nQ 1069 891 1326 650 \nQ 1584 409 2034 409 \nQ 2484 409 2743 651 \nQ 3003 894 3003 1313 \nQ 3003 1734 2745 1975 \nQ 2488 2216 2034 2216 \nz\nM 1403 2484 \nQ 997 2584 770 2862 \nQ 544 3141 544 3541 \nQ 544 4100 942 4425 \nQ 1341 4750 2034 4750 \nQ 2731 4750 3128 4425 \nQ 3525 4100 3525 3541 \nQ 3525 3141 3298 2862 \nQ 3072 2584 2669 2484 \nQ 3125 2378 3379 2068 \nQ 3634 1759 3634 1313 \nQ 3634 634 3220 271 \nQ 2806 -91 2034 -91 \nQ 1263 -91 848 271 \nQ 434 634 434 1313 \nQ 434 1759 690 2068 \nQ 947 2378 1403 2484 \nz\nM 1172 3481 \nQ 1172 3119 1398 2916 \nQ 1625 2713 2034 2713 \nQ 2441 2713 2670 2916 \nQ 2900 3119 2900 3481 \nQ 2900 3844 2670 4047 \nQ 2441 4250 2034 4250 \nQ 1625 4250 1398 4047 \nQ 1172 3844 1172 3481 \nz\n\" transform=\"scale(0.015625)\"/>\n       </defs>\n       <use xlink:href=\"#DejaVuSans-30\"/>\n       <use xlink:href=\"#DejaVuSans-2e\" x=\"63.623047\"/>\n       <use xlink:href=\"#DejaVuSans-38\" x=\"95.410156\"/>\n      </g>\n     </g>\n    </g>\n    <g id=\"xtick_6\">\n     <g id=\"line2d_11\">\n      <path d=\"M 642.62321 357.12 \nL 642.62321 7.2 \n\" clip-path=\"url(#p3e7e69645c)\" style=\"fill: none; stroke: #cbcbcb\"/>\n     </g>\n     <g id=\"line2d_12\"/>\n     <g id=\"text_6\">\n      <!-- 1.0 -->\n      <g transform=\"translate(631.491023 371.257813) scale(0.14 -0.14)\">\n       <defs>\n        <path id=\"DejaVuSans-31\" d=\"M 794 531 \nL 1825 531 \nL 1825 4091 \nL 703 3866 \nL 703 4441 \nL 1819 4666 \nL 2450 4666 \nL 2450 531 \nL 3481 531 \nL 3481 0 \nL 794 0 \nL 794 531 \nz\n\" transform=\"scale(0.015625)\"/>\n       </defs>\n       <use xlink:href=\"#DejaVuSans-31\"/>\n       <use xlink:href=\"#DejaVuSans-2e\" x=\"63.623047\"/>\n       <use xlink:href=\"#DejaVuSans-30\" x=\"95.410156\"/>\n      </g>\n     </g>\n    </g>\n   </g>\n   <g id=\"matplotlib.axis_2\">\n    <g id=\"ytick_1\">\n     <g id=\"line2d_13\">\n      <path d=\"M 44.695937 308.808101 \nL 671.095937 308.808101 \n\" clip-path=\"url(#p3e7e69645c)\" style=\"fill: none; stroke: #cbcbcb\"/>\n     </g>\n     <g id=\"line2d_14\"/>\n     <g id=\"text_7\">\n      <!-- −0.2 -->\n      <g transform=\"translate(7.2 314.127007) scale(0.14 -0.14)\">\n       <defs>\n        <path id=\"DejaVuSans-2212\" d=\"M 678 2272 \nL 4684 2272 \nL 4684 1741 \nL 678 1741 \nL 678 2272 \nz\n\" transform=\"scale(0.015625)\"/>\n       </defs>\n       <use xlink:href=\"#DejaVuSans-2212\"/>\n       <use xlink:href=\"#DejaVuSans-30\" x=\"83.789062\"/>\n       <use xlink:href=\"#DejaVuSans-2e\" x=\"147.412109\"/>\n       <use xlink:href=\"#DejaVuSans-32\" x=\"179.199219\"/>\n      </g>\n     </g>\n    </g>\n    <g id=\"ytick_2\">\n     <g id=\"line2d_15\">\n      <path d=\"M 44.695937 258.390067 \nL 671.095937 258.390067 \n\" clip-path=\"url(#p3e7e69645c)\" style=\"fill: none; stroke: #cbcbcb\"/>\n     </g>\n     <g id=\"line2d_16\"/>\n     <g id=\"text_8\">\n      <!-- 0.0 -->\n      <g transform=\"translate(18.931562 263.708973) scale(0.14 -0.14)\">\n       <use xlink:href=\"#DejaVuSans-30\"/>\n       <use xlink:href=\"#DejaVuSans-2e\" x=\"63.623047\"/>\n       <use xlink:href=\"#DejaVuSans-30\" x=\"95.410156\"/>\n      </g>\n     </g>\n    </g>\n    <g id=\"ytick_3\">\n     <g id=\"line2d_17\">\n      <path d=\"M 44.695937 207.972032 \nL 671.095937 207.972032 \n\" clip-path=\"url(#p3e7e69645c)\" style=\"fill: none; stroke: #cbcbcb\"/>\n     </g>\n     <g id=\"line2d_18\"/>\n     <g id=\"text_9\">\n      <!-- 0.2 -->\n      <g transform=\"translate(18.931562 213.290939) scale(0.14 -0.14)\">\n       <use xlink:href=\"#DejaVuSans-30\"/>\n       <use xlink:href=\"#DejaVuSans-2e\" x=\"63.623047\"/>\n       <use xlink:href=\"#DejaVuSans-32\" x=\"95.410156\"/>\n      </g>\n     </g>\n    </g>\n    <g id=\"ytick_4\">\n     <g id=\"line2d_19\">\n      <path d=\"M 44.695937 157.553998 \nL 671.095937 157.553998 \n\" clip-path=\"url(#p3e7e69645c)\" style=\"fill: none; stroke: #cbcbcb\"/>\n     </g>\n     <g id=\"line2d_20\"/>\n     <g id=\"text_10\">\n      <!-- 0.4 -->\n      <g transform=\"translate(18.931562 162.872904) scale(0.14 -0.14)\">\n       <use xlink:href=\"#DejaVuSans-30\"/>\n       <use xlink:href=\"#DejaVuSans-2e\" x=\"63.623047\"/>\n       <use xlink:href=\"#DejaVuSans-34\" x=\"95.410156\"/>\n      </g>\n     </g>\n    </g>\n    <g id=\"ytick_5\">\n     <g id=\"line2d_21\">\n      <path d=\"M 44.695937 107.135964 \nL 671.095937 107.135964 \n\" clip-path=\"url(#p3e7e69645c)\" style=\"fill: none; stroke: #cbcbcb\"/>\n     </g>\n     <g id=\"line2d_22\"/>\n     <g id=\"text_11\">\n      <!-- 0.6 -->\n      <g transform=\"translate(18.931562 112.45487) scale(0.14 -0.14)\">\n       <use xlink:href=\"#DejaVuSans-30\"/>\n       <use xlink:href=\"#DejaVuSans-2e\" x=\"63.623047\"/>\n       <use xlink:href=\"#DejaVuSans-36\" x=\"95.410156\"/>\n      </g>\n     </g>\n    </g>\n    <g id=\"ytick_6\">\n     <g id=\"line2d_23\">\n      <path d=\"M 44.695937 56.717929 \nL 671.095937 56.717929 \n\" clip-path=\"url(#p3e7e69645c)\" style=\"fill: none; stroke: #cbcbcb\"/>\n     </g>\n     <g id=\"line2d_24\"/>\n     <g id=\"text_12\">\n      <!-- 0.8 -->\n      <g transform=\"translate(18.931562 62.036836) scale(0.14 -0.14)\">\n       <use xlink:href=\"#DejaVuSans-30\"/>\n       <use xlink:href=\"#DejaVuSans-2e\" x=\"63.623047\"/>\n       <use xlink:href=\"#DejaVuSans-38\" x=\"95.410156\"/>\n      </g>\n     </g>\n    </g>\n   </g>\n   <g id=\"PathCollection_1\">\n    <defs>\n     <path id=\"m4933b5fbf3\" d=\"M 0 5 \nC 1.326016 5 2.597899 4.473168 3.535534 3.535534 \nC 4.473168 2.597899 5 1.326016 5 0 \nC 5 -1.326016 4.473168 -2.597899 3.535534 -3.535534 \nC 2.597899 -4.473168 1.326016 -5 0 -5 \nC -1.326016 -5 -2.597899 -4.473168 -3.535534 -3.535534 \nC -4.473168 -2.597899 -5 -1.326016 -5 0 \nC -5 1.326016 -4.473168 2.597899 -3.535534 3.535534 \nC -2.597899 4.473168 -1.326016 5 0 5 \nz\n\" style=\"stroke: #008000; stroke-width: 0.5\"/>\n    </defs>\n    <g clip-path=\"url(#p3e7e69645c)\">\n     <use xlink:href=\"#m4933b5fbf3\" x=\"73.168665\" y=\"259.292967\" style=\"fill: #008000; stroke: #008000; stroke-width: 0.5\"/>\n     <use xlink:href=\"#m4933b5fbf3\" x=\"136.441392\" y=\"308.736521\" style=\"fill: #008000; stroke: #008000; stroke-width: 0.5\"/>\n     <use xlink:href=\"#m4933b5fbf3\" x=\"199.714119\" y=\"341.214545\" style=\"fill: #008000; stroke: #008000; stroke-width: 0.5\"/>\n     <use xlink:href=\"#m4933b5fbf3\" x=\"262.986847\" y=\"331.227218\" style=\"fill: #008000; stroke: #008000; stroke-width: 0.5\"/>\n     <use xlink:href=\"#m4933b5fbf3\" x=\"326.259574\" y=\"269.540821\" style=\"fill: #008000; stroke: #008000; stroke-width: 0.5\"/>\n     <use xlink:href=\"#m4933b5fbf3\" x=\"389.532301\" y=\"280.613497\" style=\"fill: #008000; stroke: #008000; stroke-width: 0.5\"/>\n     <use xlink:href=\"#m4933b5fbf3\" x=\"452.805028\" y=\"118.734204\" style=\"fill: #008000; stroke: #008000; stroke-width: 0.5\"/>\n     <use xlink:href=\"#m4933b5fbf3\" x=\"516.077756\" y=\"23.105455\" style=\"fill: #008000; stroke: #008000; stroke-width: 0.5\"/>\n     <use xlink:href=\"#m4933b5fbf3\" x=\"579.350483\" y=\"48.735031\" style=\"fill: #008000; stroke: #008000; stroke-width: 0.5\"/>\n     <use xlink:href=\"#m4933b5fbf3\" x=\"642.62321\" y=\"64.959318\" style=\"fill: #008000; stroke: #008000; stroke-width: 0.5\"/>\n    </g>\n   </g>\n   <g id=\"patch_3\">\n    <path d=\"M 44.695937 357.12 \nL 44.695937 7.2 \n\" style=\"fill: none; stroke: #f0f0f0; stroke-width: 3; stroke-linejoin: miter; stroke-linecap: square\"/>\n   </g>\n   <g id=\"patch_4\">\n    <path d=\"M 671.095937 357.12 \nL 671.095937 7.2 \n\" style=\"fill: none; stroke: #f0f0f0; stroke-width: 3; stroke-linejoin: miter; stroke-linecap: square\"/>\n   </g>\n   <g id=\"patch_5\">\n    <path d=\"M 44.695937 357.12 \nL 671.095937 357.12 \n\" style=\"fill: none; stroke: #f0f0f0; stroke-width: 3; stroke-linejoin: miter; stroke-linecap: square\"/>\n   </g>\n   <g id=\"patch_6\">\n    <path d=\"M 44.695937 7.2 \nL 671.095937 7.2 \n\" style=\"fill: none; stroke: #f0f0f0; stroke-width: 3; stroke-linejoin: miter; stroke-linecap: square\"/>\n   </g>\n   <g id=\"legend_1\">\n    <g id=\"patch_7\">\n     <path d=\"M 54.495937 38.949375 \nL 249.524688 38.949375 \nQ 252.324688 38.949375 252.324688 36.149375 \nL 252.324688 17 \nQ 252.324688 14.2 249.524688 14.2 \nL 54.495937 14.2 \nQ 51.695937 14.2 51.695937 17 \nL 51.695937 36.149375 \nQ 51.695937 38.949375 54.495937 38.949375 \nz\n\" style=\"fill: #f0f0f0; opacity: 0.8; stroke: #cccccc; stroke-width: 0.5; stroke-linejoin: miter\"/>\n    </g>\n    <g id=\"PathCollection_2\">\n     <g>\n      <use xlink:href=\"#m4933b5fbf3\" x=\"71.295938\" y=\"26.762812\" style=\"fill: #008000; stroke: #008000; stroke-width: 0.5\"/>\n     </g>\n    </g>\n    <g id=\"text_13\">\n     <!-- Data points observed -->\n     <g transform=\"translate(96.495937 30.437812) scale(0.14 -0.14)\">\n      <defs>\n       <path id=\"DejaVuSans-44\" d=\"M 1259 4147 \nL 1259 519 \nL 2022 519 \nQ 2988 519 3436 956 \nQ 3884 1394 3884 2338 \nQ 3884 3275 3436 3711 \nQ 2988 4147 2022 4147 \nL 1259 4147 \nz\nM 628 4666 \nL 1925 4666 \nQ 3281 4666 3915 4102 \nQ 4550 3538 4550 2338 \nQ 4550 1131 3912 565 \nQ 3275 0 1925 0 \nL 628 0 \nL 628 4666 \nz\n\" transform=\"scale(0.015625)\"/>\n       <path id=\"DejaVuSans-61\" d=\"M 2194 1759 \nQ 1497 1759 1228 1600 \nQ 959 1441 959 1056 \nQ 959 750 1161 570 \nQ 1363 391 1709 391 \nQ 2188 391 2477 730 \nQ 2766 1069 2766 1631 \nL 2766 1759 \nL 2194 1759 \nz\nM 3341 1997 \nL 3341 0 \nL 2766 0 \nL 2766 531 \nQ 2569 213 2275 61 \nQ 1981 -91 1556 -91 \nQ 1019 -91 701 211 \nQ 384 513 384 1019 \nQ 384 1609 779 1909 \nQ 1175 2209 1959 2209 \nL 2766 2209 \nL 2766 2266 \nQ 2766 2663 2505 2880 \nQ 2244 3097 1772 3097 \nQ 1472 3097 1187 3025 \nQ 903 2953 641 2809 \nL 641 3341 \nQ 956 3463 1253 3523 \nQ 1550 3584 1831 3584 \nQ 2591 3584 2966 3190 \nQ 3341 2797 3341 1997 \nz\n\" transform=\"scale(0.015625)\"/>\n       <path id=\"DejaVuSans-74\" d=\"M 1172 4494 \nL 1172 3500 \nL 2356 3500 \nL 2356 3053 \nL 1172 3053 \nL 1172 1153 \nQ 1172 725 1289 603 \nQ 1406 481 1766 481 \nL 2356 481 \nL 2356 0 \nL 1766 0 \nQ 1100 0 847 248 \nQ 594 497 594 1153 \nL 594 3053 \nL 172 3053 \nL 172 3500 \nL 594 3500 \nL 594 4494 \nL 1172 4494 \nz\n\" transform=\"scale(0.015625)\"/>\n       <path id=\"DejaVuSans-20\" transform=\"scale(0.015625)\"/>\n       <path id=\"DejaVuSans-70\" d=\"M 1159 525 \nL 1159 -1331 \nL 581 -1331 \nL 581 3500 \nL 1159 3500 \nL 1159 2969 \nQ 1341 3281 1617 3432 \nQ 1894 3584 2278 3584 \nQ 2916 3584 3314 3078 \nQ 3713 2572 3713 1747 \nQ 3713 922 3314 415 \nQ 2916 -91 2278 -91 \nQ 1894 -91 1617 61 \nQ 1341 213 1159 525 \nz\nM 3116 1747 \nQ 3116 2381 2855 2742 \nQ 2594 3103 2138 3103 \nQ 1681 3103 1420 2742 \nQ 1159 2381 1159 1747 \nQ 1159 1113 1420 752 \nQ 1681 391 2138 391 \nQ 2594 391 2855 752 \nQ 3116 1113 3116 1747 \nz\n\" transform=\"scale(0.015625)\"/>\n       <path id=\"DejaVuSans-6f\" d=\"M 1959 3097 \nQ 1497 3097 1228 2736 \nQ 959 2375 959 1747 \nQ 959 1119 1226 758 \nQ 1494 397 1959 397 \nQ 2419 397 2687 759 \nQ 2956 1122 2956 1747 \nQ 2956 2369 2687 2733 \nQ 2419 3097 1959 3097 \nz\nM 1959 3584 \nQ 2709 3584 3137 3096 \nQ 3566 2609 3566 1747 \nQ 3566 888 3137 398 \nQ 2709 -91 1959 -91 \nQ 1206 -91 779 398 \nQ 353 888 353 1747 \nQ 353 2609 779 3096 \nQ 1206 3584 1959 3584 \nz\n\" transform=\"scale(0.015625)\"/>\n       <path id=\"DejaVuSans-69\" d=\"M 603 3500 \nL 1178 3500 \nL 1178 0 \nL 603 0 \nL 603 3500 \nz\nM 603 4863 \nL 1178 4863 \nL 1178 4134 \nL 603 4134 \nL 603 4863 \nz\n\" transform=\"scale(0.015625)\"/>\n       <path id=\"DejaVuSans-6e\" d=\"M 3513 2113 \nL 3513 0 \nL 2938 0 \nL 2938 2094 \nQ 2938 2591 2744 2837 \nQ 2550 3084 2163 3084 \nQ 1697 3084 1428 2787 \nQ 1159 2491 1159 1978 \nL 1159 0 \nL 581 0 \nL 581 3500 \nL 1159 3500 \nL 1159 2956 \nQ 1366 3272 1645 3428 \nQ 1925 3584 2291 3584 \nQ 2894 3584 3203 3211 \nQ 3513 2838 3513 2113 \nz\n\" transform=\"scale(0.015625)\"/>\n       <path id=\"DejaVuSans-73\" d=\"M 2834 3397 \nL 2834 2853 \nQ 2591 2978 2328 3040 \nQ 2066 3103 1784 3103 \nQ 1356 3103 1142 2972 \nQ 928 2841 928 2578 \nQ 928 2378 1081 2264 \nQ 1234 2150 1697 2047 \nL 1894 2003 \nQ 2506 1872 2764 1633 \nQ 3022 1394 3022 966 \nQ 3022 478 2636 193 \nQ 2250 -91 1575 -91 \nQ 1294 -91 989 -36 \nQ 684 19 347 128 \nL 347 722 \nQ 666 556 975 473 \nQ 1284 391 1588 391 \nQ 1994 391 2212 530 \nQ 2431 669 2431 922 \nQ 2431 1156 2273 1281 \nQ 2116 1406 1581 1522 \nL 1381 1569 \nQ 847 1681 609 1914 \nQ 372 2147 372 2553 \nQ 372 3047 722 3315 \nQ 1072 3584 1716 3584 \nQ 2034 3584 2315 3537 \nQ 2597 3491 2834 3397 \nz\n\" transform=\"scale(0.015625)\"/>\n       <path id=\"DejaVuSans-62\" d=\"M 3116 1747 \nQ 3116 2381 2855 2742 \nQ 2594 3103 2138 3103 \nQ 1681 3103 1420 2742 \nQ 1159 2381 1159 1747 \nQ 1159 1113 1420 752 \nQ 1681 391 2138 391 \nQ 2594 391 2855 752 \nQ 3116 1113 3116 1747 \nz\nM 1159 2969 \nQ 1341 3281 1617 3432 \nQ 1894 3584 2278 3584 \nQ 2916 3584 3314 3078 \nQ 3713 2572 3713 1747 \nQ 3713 922 3314 415 \nQ 2916 -91 2278 -91 \nQ 1894 -91 1617 61 \nQ 1341 213 1159 525 \nL 1159 0 \nL 581 0 \nL 581 4863 \nL 1159 4863 \nL 1159 2969 \nz\n\" transform=\"scale(0.015625)\"/>\n       <path id=\"DejaVuSans-65\" d=\"M 3597 1894 \nL 3597 1613 \nL 953 1613 \nQ 991 1019 1311 708 \nQ 1631 397 2203 397 \nQ 2534 397 2845 478 \nQ 3156 559 3463 722 \nL 3463 178 \nQ 3153 47 2828 -22 \nQ 2503 -91 2169 -91 \nQ 1331 -91 842 396 \nQ 353 884 353 1716 \nQ 353 2575 817 3079 \nQ 1281 3584 2069 3584 \nQ 2775 3584 3186 3129 \nQ 3597 2675 3597 1894 \nz\nM 3022 2063 \nQ 3016 2534 2758 2815 \nQ 2500 3097 2075 3097 \nQ 1594 3097 1305 2825 \nQ 1016 2553 972 2059 \nL 3022 2063 \nz\n\" transform=\"scale(0.015625)\"/>\n       <path id=\"DejaVuSans-72\" d=\"M 2631 2963 \nQ 2534 3019 2420 3045 \nQ 2306 3072 2169 3072 \nQ 1681 3072 1420 2755 \nQ 1159 2438 1159 1844 \nL 1159 0 \nL 581 0 \nL 581 3500 \nL 1159 3500 \nL 1159 2956 \nQ 1341 3275 1631 3429 \nQ 1922 3584 2338 3584 \nQ 2397 3584 2469 3576 \nQ 2541 3569 2628 3553 \nL 2631 2963 \nz\n\" transform=\"scale(0.015625)\"/>\n       <path id=\"DejaVuSans-76\" d=\"M 191 3500 \nL 800 3500 \nL 1894 563 \nL 2988 3500 \nL 3597 3500 \nL 2284 0 \nL 1503 0 \nL 191 3500 \nz\n\" transform=\"scale(0.015625)\"/>\n       <path id=\"DejaVuSans-64\" d=\"M 2906 2969 \nL 2906 4863 \nL 3481 4863 \nL 3481 0 \nL 2906 0 \nL 2906 525 \nQ 2725 213 2448 61 \nQ 2172 -91 1784 -91 \nQ 1150 -91 751 415 \nQ 353 922 353 1747 \nQ 353 2572 751 3078 \nQ 1150 3584 1784 3584 \nQ 2172 3584 2448 3432 \nQ 2725 3281 2906 2969 \nz\nM 947 1747 \nQ 947 1113 1208 752 \nQ 1469 391 1925 391 \nQ 2381 391 2643 752 \nQ 2906 1113 2906 1747 \nQ 2906 2381 2643 2742 \nQ 2381 3103 1925 3103 \nQ 1469 3103 1208 2742 \nQ 947 2381 947 1747 \nz\n\" transform=\"scale(0.015625)\"/>\n      </defs>\n      <use xlink:href=\"#DejaVuSans-44\"/>\n      <use xlink:href=\"#DejaVuSans-61\" x=\"77.001953\"/>\n      <use xlink:href=\"#DejaVuSans-74\" x=\"138.28125\"/>\n      <use xlink:href=\"#DejaVuSans-61\" x=\"177.490234\"/>\n      <use xlink:href=\"#DejaVuSans-20\" x=\"238.769531\"/>\n      <use xlink:href=\"#DejaVuSans-70\" x=\"270.556641\"/>\n      <use xlink:href=\"#DejaVuSans-6f\" x=\"334.033203\"/>\n      <use xlink:href=\"#DejaVuSans-69\" x=\"395.214844\"/>\n      <use xlink:href=\"#DejaVuSans-6e\" x=\"422.998047\"/>\n      <use xlink:href=\"#DejaVuSans-74\" x=\"486.376953\"/>\n      <use xlink:href=\"#DejaVuSans-73\" x=\"525.585938\"/>\n      <use xlink:href=\"#DejaVuSans-20\" x=\"577.685547\"/>\n      <use xlink:href=\"#DejaVuSans-6f\" x=\"609.472656\"/>\n      <use xlink:href=\"#DejaVuSans-62\" x=\"670.654297\"/>\n      <use xlink:href=\"#DejaVuSans-73\" x=\"734.130859\"/>\n      <use xlink:href=\"#DejaVuSans-65\" x=\"786.230469\"/>\n      <use xlink:href=\"#DejaVuSans-72\" x=\"847.753906\"/>\n      <use xlink:href=\"#DejaVuSans-76\" x=\"888.867188\"/>\n      <use xlink:href=\"#DejaVuSans-65\" x=\"948.046875\"/>\n      <use xlink:href=\"#DejaVuSans-64\" x=\"1009.570312\"/>\n     </g>\n    </g>\n   </g>\n  </g>\n </g>\n <defs>\n  <clipPath id=\"p3e7e69645c\">\n   <rect x=\"44.695937\" y=\"7.2\" width=\"626.4\" height=\"349.92\"/>\n  </clipPath>\n </defs>\n</svg>\n"
          },
          "metadata": {}
        }
      ]
    },
    {
      "cell_type": "code",
      "metadata": {
        "id": "-sCruPJ7V1N2"
      },
      "source": [
        "#@title Defining our linear model, its cost function, and a way to display its predictions.\n",
        "def linear_regression(x, w, b):\n",
        "  return x * w + b\n",
        "\n",
        "def mean_squared_error(y, y_pred):\n",
        "  return ((y - y_pred)**2).mean() / 2.0\n",
        "\n",
        "def plot_linear_regression(x, y, y_pred):\n",
        "  plt.ylim((-2.0, 2.0))\n",
        "  error = y - y_pred\n",
        "  mse = mean_squared_error(y, y_pred).round(2)\n",
        "  plt.fill_between(x, y, y_pred, color='r', alpha=0.25, label=f'Error (MSE = {mse})')\n",
        "  plt.bar(x, error, width=0.205, bottom=y_pred, color='red', alpha=0.25)\n",
        "  plt.scatter(x, y, s=100, c='g', label='Data point')\n",
        "  plt.rcParams['figure.figsize'] = (10, 6)\n",
        "  %config InlineBackend.figure_formats = ['svg']\n",
        "  plt.plot(x, y_pred, '--', label='Linear regression')\n",
        "  _ = plt.legend(loc='best')"
      ],
      "execution_count": null,
      "outputs": []
    },
    {
      "cell_type": "code",
      "metadata": {
        "id": "bIfPqgLEb79L",
        "colab": {
          "base_uri": "https://localhost:8080/",
          "height": 537
        },
        "outputId": "2d2c05c1-e9c4-48d3-d53f-4e8da8aa41d2"
      },
      "source": [
        "#@title Initializing weights randomly.\n",
        "w_0 = np.random.normal()\n",
        "plt.style.use('fivethirtyeight')\n",
        "plt.rcParams['figure.figsize'] = (10, 6)\n",
        "%config InlineBackend.figure_formats = ['svg']\n",
        "b_0 = np.random.normal()\n",
        "\n",
        "# Display the initial model.\n",
        "y_pred = linear_regression(x, w_0, b_0)\n",
        "plot_linear_regression(x, y, y_pred)"
      ],
      "execution_count": null,
      "outputs": [
        {
          "output_type": "display_data",
          "data": {
            "text/plain": [
              "<Figure size 1000x600 with 1 Axes>"
            ],
            "image/svg+xml": "<?xml version=\"1.0\" encoding=\"utf-8\" standalone=\"no\"?>\n<!DOCTYPE svg PUBLIC \"-//W3C//DTD SVG 1.1//EN\"\n  \"http://www.w3.org/Graphics/SVG/1.1/DTD/svg11.dtd\">\n<svg xmlns:xlink=\"http://www.w3.org/1999/xlink\" width=\"678.295937pt\" height=\"386.688281pt\" viewBox=\"0 0 678.295937 386.688281\" xmlns=\"http://www.w3.org/2000/svg\" version=\"1.1\">\n <metadata>\n  <rdf:RDF xmlns:dc=\"http://purl.org/dc/elements/1.1/\" xmlns:cc=\"http://creativecommons.org/ns#\" xmlns:rdf=\"http://www.w3.org/1999/02/22-rdf-syntax-ns#\">\n   <cc:Work>\n    <dc:type rdf:resource=\"http://purl.org/dc/dcmitype/StillImage\"/>\n    <dc:date>2023-05-07T13:19:02.117557</dc:date>\n    <dc:format>image/svg+xml</dc:format>\n    <dc:creator>\n     <cc:Agent>\n      <dc:title>Matplotlib v3.7.1, https://matplotlib.org/</dc:title>\n     </cc:Agent>\n    </dc:creator>\n   </cc:Work>\n  </rdf:RDF>\n </metadata>\n <defs>\n  <style type=\"text/css\">*{stroke-linejoin: round; stroke-linecap: butt}</style>\n </defs>\n <g id=\"figure_1\">\n  <g id=\"patch_1\">\n   <path d=\"M -0 386.688281 \nL 678.295937 386.688281 \nL 678.295937 0 \nL -0 0 \nz\n\" style=\"fill: #f0f0f0\"/>\n  </g>\n  <g id=\"axes_1\">\n   <g id=\"patch_2\">\n    <path d=\"M 44.695937 362.438906 \nL 671.095937 362.438906 \nL 671.095937 12.518906 \nL 44.695937 12.518906 \nz\n\" style=\"fill: #f0f0f0\"/>\n   </g>\n   <g id=\"matplotlib.axis_1\">\n    <g id=\"xtick_1\">\n     <g id=\"line2d_1\">\n      <path d=\"M 74.585218 362.438906 \nL 74.585218 12.518906 \n\" clip-path=\"url(#pa7a7721bb1)\" style=\"fill: none; stroke: #cbcbcb\"/>\n     </g>\n     <g id=\"line2d_2\"/>\n     <g id=\"text_1\">\n      <!-- 0.0 -->\n      <g transform=\"translate(63.453031 376.576719) scale(0.14 -0.14)\">\n       <defs>\n        <path id=\"DejaVuSans-30\" d=\"M 2034 4250 \nQ 1547 4250 1301 3770 \nQ 1056 3291 1056 2328 \nQ 1056 1369 1301 889 \nQ 1547 409 2034 409 \nQ 2525 409 2770 889 \nQ 3016 1369 3016 2328 \nQ 3016 3291 2770 3770 \nQ 2525 4250 2034 4250 \nz\nM 2034 4750 \nQ 2819 4750 3233 4129 \nQ 3647 3509 3647 2328 \nQ 3647 1150 3233 529 \nQ 2819 -91 2034 -91 \nQ 1250 -91 836 529 \nQ 422 1150 422 2328 \nQ 422 3509 836 4129 \nQ 1250 4750 2034 4750 \nz\n\" transform=\"scale(0.015625)\"/>\n        <path id=\"DejaVuSans-2e\" d=\"M 684 794 \nL 1344 794 \nL 1344 0 \nL 684 0 \nL 684 794 \nz\n\" transform=\"scale(0.015625)\"/>\n       </defs>\n       <use xlink:href=\"#DejaVuSans-30\"/>\n       <use xlink:href=\"#DejaVuSans-2e\" x=\"63.623047\"/>\n       <use xlink:href=\"#DejaVuSans-30\" x=\"95.410156\"/>\n      </g>\n     </g>\n    </g>\n    <g id=\"xtick_2\">\n     <g id=\"line2d_3\">\n      <path d=\"M 187.909506 362.438906 \nL 187.909506 12.518906 \n\" clip-path=\"url(#pa7a7721bb1)\" style=\"fill: none; stroke: #cbcbcb\"/>\n     </g>\n     <g id=\"line2d_4\"/>\n     <g id=\"text_2\">\n      <!-- 0.2 -->\n      <g transform=\"translate(176.777319 376.576719) scale(0.14 -0.14)\">\n       <defs>\n        <path id=\"DejaVuSans-32\" d=\"M 1228 531 \nL 3431 531 \nL 3431 0 \nL 469 0 \nL 469 531 \nQ 828 903 1448 1529 \nQ 2069 2156 2228 2338 \nQ 2531 2678 2651 2914 \nQ 2772 3150 2772 3378 \nQ 2772 3750 2511 3984 \nQ 2250 4219 1831 4219 \nQ 1534 4219 1204 4116 \nQ 875 4013 500 3803 \nL 500 4441 \nQ 881 4594 1212 4672 \nQ 1544 4750 1819 4750 \nQ 2544 4750 2975 4387 \nQ 3406 4025 3406 3419 \nQ 3406 3131 3298 2873 \nQ 3191 2616 2906 2266 \nQ 2828 2175 2409 1742 \nQ 1991 1309 1228 531 \nz\n\" transform=\"scale(0.015625)\"/>\n       </defs>\n       <use xlink:href=\"#DejaVuSans-30\"/>\n       <use xlink:href=\"#DejaVuSans-2e\" x=\"63.623047\"/>\n       <use xlink:href=\"#DejaVuSans-32\" x=\"95.410156\"/>\n      </g>\n     </g>\n    </g>\n    <g id=\"xtick_3\">\n     <g id=\"line2d_5\">\n      <path d=\"M 301.233794 362.438906 \nL 301.233794 12.518906 \n\" clip-path=\"url(#pa7a7721bb1)\" style=\"fill: none; stroke: #cbcbcb\"/>\n     </g>\n     <g id=\"line2d_6\"/>\n     <g id=\"text_3\">\n      <!-- 0.4 -->\n      <g transform=\"translate(290.101606 376.576719) scale(0.14 -0.14)\">\n       <defs>\n        <path id=\"DejaVuSans-34\" d=\"M 2419 4116 \nL 825 1625 \nL 2419 1625 \nL 2419 4116 \nz\nM 2253 4666 \nL 3047 4666 \nL 3047 1625 \nL 3713 1625 \nL 3713 1100 \nL 3047 1100 \nL 3047 0 \nL 2419 0 \nL 2419 1100 \nL 313 1100 \nL 313 1709 \nL 2253 4666 \nz\n\" transform=\"scale(0.015625)\"/>\n       </defs>\n       <use xlink:href=\"#DejaVuSans-30\"/>\n       <use xlink:href=\"#DejaVuSans-2e\" x=\"63.623047\"/>\n       <use xlink:href=\"#DejaVuSans-34\" x=\"95.410156\"/>\n      </g>\n     </g>\n    </g>\n    <g id=\"xtick_4\">\n     <g id=\"line2d_7\">\n      <path d=\"M 414.558081 362.438906 \nL 414.558081 12.518906 \n\" clip-path=\"url(#pa7a7721bb1)\" style=\"fill: none; stroke: #cbcbcb\"/>\n     </g>\n     <g id=\"line2d_8\"/>\n     <g id=\"text_4\">\n      <!-- 0.6 -->\n      <g transform=\"translate(403.425894 376.576719) scale(0.14 -0.14)\">\n       <defs>\n        <path id=\"DejaVuSans-36\" d=\"M 2113 2584 \nQ 1688 2584 1439 2293 \nQ 1191 2003 1191 1497 \nQ 1191 994 1439 701 \nQ 1688 409 2113 409 \nQ 2538 409 2786 701 \nQ 3034 994 3034 1497 \nQ 3034 2003 2786 2293 \nQ 2538 2584 2113 2584 \nz\nM 3366 4563 \nL 3366 3988 \nQ 3128 4100 2886 4159 \nQ 2644 4219 2406 4219 \nQ 1781 4219 1451 3797 \nQ 1122 3375 1075 2522 \nQ 1259 2794 1537 2939 \nQ 1816 3084 2150 3084 \nQ 2853 3084 3261 2657 \nQ 3669 2231 3669 1497 \nQ 3669 778 3244 343 \nQ 2819 -91 2113 -91 \nQ 1303 -91 875 529 \nQ 447 1150 447 2328 \nQ 447 3434 972 4092 \nQ 1497 4750 2381 4750 \nQ 2619 4750 2861 4703 \nQ 3103 4656 3366 4563 \nz\n\" transform=\"scale(0.015625)\"/>\n       </defs>\n       <use xlink:href=\"#DejaVuSans-30\"/>\n       <use xlink:href=\"#DejaVuSans-2e\" x=\"63.623047\"/>\n       <use xlink:href=\"#DejaVuSans-36\" x=\"95.410156\"/>\n      </g>\n     </g>\n    </g>\n    <g id=\"xtick_5\">\n     <g id=\"line2d_9\">\n      <path d=\"M 527.882369 362.438906 \nL 527.882369 12.518906 \n\" clip-path=\"url(#pa7a7721bb1)\" style=\"fill: none; stroke: #cbcbcb\"/>\n     </g>\n     <g id=\"line2d_10\"/>\n     <g id=\"text_5\">\n      <!-- 0.8 -->\n      <g transform=\"translate(516.750181 376.576719) scale(0.14 -0.14)\">\n       <defs>\n        <path id=\"DejaVuSans-38\" d=\"M 2034 2216 \nQ 1584 2216 1326 1975 \nQ 1069 1734 1069 1313 \nQ 1069 891 1326 650 \nQ 1584 409 2034 409 \nQ 2484 409 2743 651 \nQ 3003 894 3003 1313 \nQ 3003 1734 2745 1975 \nQ 2488 2216 2034 2216 \nz\nM 1403 2484 \nQ 997 2584 770 2862 \nQ 544 3141 544 3541 \nQ 544 4100 942 4425 \nQ 1341 4750 2034 4750 \nQ 2731 4750 3128 4425 \nQ 3525 4100 3525 3541 \nQ 3525 3141 3298 2862 \nQ 3072 2584 2669 2484 \nQ 3125 2378 3379 2068 \nQ 3634 1759 3634 1313 \nQ 3634 634 3220 271 \nQ 2806 -91 2034 -91 \nQ 1263 -91 848 271 \nQ 434 634 434 1313 \nQ 434 1759 690 2068 \nQ 947 2378 1403 2484 \nz\nM 1172 3481 \nQ 1172 3119 1398 2916 \nQ 1625 2713 2034 2713 \nQ 2441 2713 2670 2916 \nQ 2900 3119 2900 3481 \nQ 2900 3844 2670 4047 \nQ 2441 4250 2034 4250 \nQ 1625 4250 1398 4047 \nQ 1172 3844 1172 3481 \nz\n\" transform=\"scale(0.015625)\"/>\n       </defs>\n       <use xlink:href=\"#DejaVuSans-30\"/>\n       <use xlink:href=\"#DejaVuSans-2e\" x=\"63.623047\"/>\n       <use xlink:href=\"#DejaVuSans-38\" x=\"95.410156\"/>\n      </g>\n     </g>\n    </g>\n    <g id=\"xtick_6\">\n     <g id=\"line2d_11\">\n      <path d=\"M 641.206657 362.438906 \nL 641.206657 12.518906 \n\" clip-path=\"url(#pa7a7721bb1)\" style=\"fill: none; stroke: #cbcbcb\"/>\n     </g>\n     <g id=\"line2d_12\"/>\n     <g id=\"text_6\">\n      <!-- 1.0 -->\n      <g transform=\"translate(630.074469 376.576719) scale(0.14 -0.14)\">\n       <defs>\n        <path id=\"DejaVuSans-31\" d=\"M 794 531 \nL 1825 531 \nL 1825 4091 \nL 703 3866 \nL 703 4441 \nL 1819 4666 \nL 2450 4666 \nL 2450 531 \nL 3481 531 \nL 3481 0 \nL 794 0 \nL 794 531 \nz\n\" transform=\"scale(0.015625)\"/>\n       </defs>\n       <use xlink:href=\"#DejaVuSans-31\"/>\n       <use xlink:href=\"#DejaVuSans-2e\" x=\"63.623047\"/>\n       <use xlink:href=\"#DejaVuSans-30\" x=\"95.410156\"/>\n      </g>\n     </g>\n    </g>\n   </g>\n   <g id=\"matplotlib.axis_2\">\n    <g id=\"ytick_1\">\n     <g id=\"line2d_13\">\n      <path d=\"M 44.695937 362.438906 \nL 671.095937 362.438906 \n\" clip-path=\"url(#pa7a7721bb1)\" style=\"fill: none; stroke: #cbcbcb\"/>\n     </g>\n     <g id=\"line2d_14\"/>\n     <g id=\"text_7\">\n      <!-- −2.0 -->\n      <g transform=\"translate(7.2 367.757813) scale(0.14 -0.14)\">\n       <defs>\n        <path id=\"DejaVuSans-2212\" d=\"M 678 2272 \nL 4684 2272 \nL 4684 1741 \nL 678 1741 \nL 678 2272 \nz\n\" transform=\"scale(0.015625)\"/>\n       </defs>\n       <use xlink:href=\"#DejaVuSans-2212\"/>\n       <use xlink:href=\"#DejaVuSans-32\" x=\"83.789062\"/>\n       <use xlink:href=\"#DejaVuSans-2e\" x=\"147.412109\"/>\n       <use xlink:href=\"#DejaVuSans-30\" x=\"179.199219\"/>\n      </g>\n     </g>\n    </g>\n    <g id=\"ytick_2\">\n     <g id=\"line2d_15\">\n      <path d=\"M 44.695937 318.698906 \nL 671.095937 318.698906 \n\" clip-path=\"url(#pa7a7721bb1)\" style=\"fill: none; stroke: #cbcbcb\"/>\n     </g>\n     <g id=\"line2d_16\"/>\n     <g id=\"text_8\">\n      <!-- −1.5 -->\n      <g transform=\"translate(7.2 324.017813) scale(0.14 -0.14)\">\n       <defs>\n        <path id=\"DejaVuSans-35\" d=\"M 691 4666 \nL 3169 4666 \nL 3169 4134 \nL 1269 4134 \nL 1269 2991 \nQ 1406 3038 1543 3061 \nQ 1681 3084 1819 3084 \nQ 2600 3084 3056 2656 \nQ 3513 2228 3513 1497 \nQ 3513 744 3044 326 \nQ 2575 -91 1722 -91 \nQ 1428 -91 1123 -41 \nQ 819 9 494 109 \nL 494 744 \nQ 775 591 1075 516 \nQ 1375 441 1709 441 \nQ 2250 441 2565 725 \nQ 2881 1009 2881 1497 \nQ 2881 1984 2565 2268 \nQ 2250 2553 1709 2553 \nQ 1456 2553 1204 2497 \nQ 953 2441 691 2322 \nL 691 4666 \nz\n\" transform=\"scale(0.015625)\"/>\n       </defs>\n       <use xlink:href=\"#DejaVuSans-2212\"/>\n       <use xlink:href=\"#DejaVuSans-31\" x=\"83.789062\"/>\n       <use xlink:href=\"#DejaVuSans-2e\" x=\"147.412109\"/>\n       <use xlink:href=\"#DejaVuSans-35\" x=\"179.199219\"/>\n      </g>\n     </g>\n    </g>\n    <g id=\"ytick_3\">\n     <g id=\"line2d_17\">\n      <path d=\"M 44.695937 274.958906 \nL 671.095937 274.958906 \n\" clip-path=\"url(#pa7a7721bb1)\" style=\"fill: none; stroke: #cbcbcb\"/>\n     </g>\n     <g id=\"line2d_18\"/>\n     <g id=\"text_9\">\n      <!-- −1.0 -->\n      <g transform=\"translate(7.2 280.277813) scale(0.14 -0.14)\">\n       <use xlink:href=\"#DejaVuSans-2212\"/>\n       <use xlink:href=\"#DejaVuSans-31\" x=\"83.789062\"/>\n       <use xlink:href=\"#DejaVuSans-2e\" x=\"147.412109\"/>\n       <use xlink:href=\"#DejaVuSans-30\" x=\"179.199219\"/>\n      </g>\n     </g>\n    </g>\n    <g id=\"ytick_4\">\n     <g id=\"line2d_19\">\n      <path d=\"M 44.695937 231.218906 \nL 671.095937 231.218906 \n\" clip-path=\"url(#pa7a7721bb1)\" style=\"fill: none; stroke: #cbcbcb\"/>\n     </g>\n     <g id=\"line2d_20\"/>\n     <g id=\"text_10\">\n      <!-- −0.5 -->\n      <g transform=\"translate(7.2 236.537813) scale(0.14 -0.14)\">\n       <use xlink:href=\"#DejaVuSans-2212\"/>\n       <use xlink:href=\"#DejaVuSans-30\" x=\"83.789062\"/>\n       <use xlink:href=\"#DejaVuSans-2e\" x=\"147.412109\"/>\n       <use xlink:href=\"#DejaVuSans-35\" x=\"179.199219\"/>\n      </g>\n     </g>\n    </g>\n    <g id=\"ytick_5\">\n     <g id=\"line2d_21\">\n      <path d=\"M 44.695937 187.478906 \nL 671.095937 187.478906 \n\" clip-path=\"url(#pa7a7721bb1)\" style=\"fill: none; stroke: #cbcbcb\"/>\n     </g>\n     <g id=\"line2d_22\"/>\n     <g id=\"text_11\">\n      <!-- 0.0 -->\n      <g transform=\"translate(18.931562 192.797813) scale(0.14 -0.14)\">\n       <use xlink:href=\"#DejaVuSans-30\"/>\n       <use xlink:href=\"#DejaVuSans-2e\" x=\"63.623047\"/>\n       <use xlink:href=\"#DejaVuSans-30\" x=\"95.410156\"/>\n      </g>\n     </g>\n    </g>\n    <g id=\"ytick_6\">\n     <g id=\"line2d_23\">\n      <path d=\"M 44.695937 143.738906 \nL 671.095937 143.738906 \n\" clip-path=\"url(#pa7a7721bb1)\" style=\"fill: none; stroke: #cbcbcb\"/>\n     </g>\n     <g id=\"line2d_24\"/>\n     <g id=\"text_12\">\n      <!-- 0.5 -->\n      <g transform=\"translate(18.931562 149.057813) scale(0.14 -0.14)\">\n       <use xlink:href=\"#DejaVuSans-30\"/>\n       <use xlink:href=\"#DejaVuSans-2e\" x=\"63.623047\"/>\n       <use xlink:href=\"#DejaVuSans-35\" x=\"95.410156\"/>\n      </g>\n     </g>\n    </g>\n    <g id=\"ytick_7\">\n     <g id=\"line2d_25\">\n      <path d=\"M 44.695937 99.998906 \nL 671.095937 99.998906 \n\" clip-path=\"url(#pa7a7721bb1)\" style=\"fill: none; stroke: #cbcbcb\"/>\n     </g>\n     <g id=\"line2d_26\"/>\n     <g id=\"text_13\">\n      <!-- 1.0 -->\n      <g transform=\"translate(18.931562 105.317813) scale(0.14 -0.14)\">\n       <use xlink:href=\"#DejaVuSans-31\"/>\n       <use xlink:href=\"#DejaVuSans-2e\" x=\"63.623047\"/>\n       <use xlink:href=\"#DejaVuSans-30\" x=\"95.410156\"/>\n      </g>\n     </g>\n    </g>\n    <g id=\"ytick_8\">\n     <g id=\"line2d_27\">\n      <path d=\"M 44.695937 56.258906 \nL 671.095937 56.258906 \n\" clip-path=\"url(#pa7a7721bb1)\" style=\"fill: none; stroke: #cbcbcb\"/>\n     </g>\n     <g id=\"line2d_28\"/>\n     <g id=\"text_14\">\n      <!-- 1.5 -->\n      <g transform=\"translate(18.931562 61.577812) scale(0.14 -0.14)\">\n       <use xlink:href=\"#DejaVuSans-31\"/>\n       <use xlink:href=\"#DejaVuSans-2e\" x=\"63.623047\"/>\n       <use xlink:href=\"#DejaVuSans-35\" x=\"95.410156\"/>\n      </g>\n     </g>\n    </g>\n    <g id=\"ytick_9\">\n     <g id=\"line2d_29\">\n      <path d=\"M 44.695937 12.518906 \nL 671.095937 12.518906 \n\" clip-path=\"url(#pa7a7721bb1)\" style=\"fill: none; stroke: #cbcbcb\"/>\n     </g>\n     <g id=\"line2d_30\"/>\n     <g id=\"text_15\">\n      <!-- 2.0 -->\n      <g transform=\"translate(18.931562 17.837812) scale(0.14 -0.14)\">\n       <use xlink:href=\"#DejaVuSans-32\"/>\n       <use xlink:href=\"#DejaVuSans-2e\" x=\"63.623047\"/>\n       <use xlink:href=\"#DejaVuSans-30\" x=\"95.410156\"/>\n      </g>\n     </g>\n    </g>\n   </g>\n   <g id=\"PolyCollection_1\">\n    <defs>\n     <path id=\"m7afd78e3c9\" d=\"M 74.585218 -200.017758 \nL 74.585218 -198.896052 \nL 137.543156 -181.738214 \nL 200.501094 -170.467733 \nL 263.459031 -173.933522 \nL 326.416969 -195.339855 \nL 389.374906 -191.49743 \nL 452.332844 -247.672569 \nL 515.290781 -280.857532 \nL 578.248719 -271.96359 \nL 641.206657 -266.333459 \nL 641.206657 -107.066099 \nL 641.206657 -107.066099 \nL 578.248719 -117.394061 \nL 515.290781 -127.722023 \nL 452.332844 -138.049985 \nL 389.374906 -148.377947 \nL 326.416969 -158.705909 \nL 263.459031 -169.033872 \nL 200.501094 -179.361834 \nL 137.543156 -189.689796 \nL 74.585218 -200.017758 \nz\n\" style=\"stroke: #ff0000; stroke-opacity: 0.25; stroke-width: 0.5\"/>\n    </defs>\n    <g clip-path=\"url(#pa7a7721bb1)\">\n     <use xlink:href=\"#m7afd78e3c9\" x=\"0\" y=\"386.688281\" style=\"fill: #ff0000; fill-opacity: 0.25; stroke: #ff0000; stroke-opacity: 0.25; stroke-width: 0.5\"/>\n    </g>\n   </g>\n   <g id=\"patch_3\">\n    <path d=\"M 73.168665 186.670524 \nL 76.001772 186.670524 \nL 76.001772 187.792229 \nL 73.168665 187.792229 \nz\n\" clip-path=\"url(#pa7a7721bb1)\" style=\"fill: #ff0000; opacity: 0.25\"/>\n   </g>\n   <g id=\"patch_4\">\n    <path d=\"M 136.126602 196.998486 \nL 138.95971 196.998486 \nL 138.95971 204.950067 \nL 136.126602 204.950067 \nz\n\" clip-path=\"url(#pa7a7721bb1)\" style=\"fill: #ff0000; opacity: 0.25\"/>\n   </g>\n   <g id=\"patch_5\">\n    <path d=\"M 199.08454 207.326448 \nL 201.917647 207.326448 \nL 201.917647 216.220548 \nL 199.08454 216.220548 \nz\n\" clip-path=\"url(#pa7a7721bb1)\" style=\"fill: #ff0000; opacity: 0.25\"/>\n   </g>\n   <g id=\"patch_6\">\n    <path d=\"M 262.042478 217.65441 \nL 264.875585 217.65441 \nL 264.875585 212.754759 \nL 262.042478 212.754759 \nz\n\" clip-path=\"url(#pa7a7721bb1)\" style=\"fill: #ff0000; opacity: 0.25\"/>\n   </g>\n   <g id=\"patch_7\">\n    <path d=\"M 325.000415 227.982372 \nL 327.833522 227.982372 \nL 327.833522 191.348426 \nL 325.000415 191.348426 \nz\n\" clip-path=\"url(#pa7a7721bb1)\" style=\"fill: #ff0000; opacity: 0.25\"/>\n   </g>\n   <g id=\"patch_8\">\n    <path d=\"M 387.958353 238.310334 \nL 390.79146 238.310334 \nL 390.79146 195.190852 \nL 387.958353 195.190852 \nz\n\" clip-path=\"url(#pa7a7721bb1)\" style=\"fill: #ff0000; opacity: 0.25\"/>\n   </g>\n   <g id=\"patch_9\">\n    <path d=\"M 450.91629 248.638296 \nL 453.749397 248.638296 \nL 453.749397 139.015712 \nL 450.91629 139.015712 \nz\n\" clip-path=\"url(#pa7a7721bb1)\" style=\"fill: #ff0000; opacity: 0.25\"/>\n   </g>\n   <g id=\"patch_10\">\n    <path d=\"M 513.874228 258.966258 \nL 516.707335 258.966258 \nL 516.707335 105.830749 \nL 513.874228 105.830749 \nz\n\" clip-path=\"url(#pa7a7721bb1)\" style=\"fill: #ff0000; opacity: 0.25\"/>\n   </g>\n   <g id=\"patch_11\">\n    <path d=\"M 576.832165 269.29422 \nL 579.665273 269.29422 \nL 579.665273 114.724691 \nL 576.832165 114.724691 \nz\n\" clip-path=\"url(#pa7a7721bb1)\" style=\"fill: #ff0000; opacity: 0.25\"/>\n   </g>\n   <g id=\"patch_12\">\n    <path d=\"M 639.790103 279.622182 \nL 642.62321 279.622182 \nL 642.62321 120.354822 \nL 639.790103 120.354822 \nz\n\" clip-path=\"url(#pa7a7721bb1)\" style=\"fill: #ff0000; opacity: 0.25\"/>\n   </g>\n   <g id=\"PathCollection_1\">\n    <defs>\n     <path id=\"mf1e1adcb85\" d=\"M 0 5 \nC 1.326016 5 2.597899 4.473168 3.535534 3.535534 \nC 4.473168 2.597899 5 1.326016 5 0 \nC 5 -1.326016 4.473168 -2.597899 3.535534 -3.535534 \nC 2.597899 -4.473168 1.326016 -5 0 -5 \nC -1.326016 -5 -2.597899 -4.473168 -3.535534 -3.535534 \nC -4.473168 -2.597899 -5 -1.326016 -5 0 \nC -5 1.326016 -4.473168 2.597899 -3.535534 3.535534 \nC -2.597899 4.473168 -1.326016 5 0 5 \nz\n\" style=\"stroke: #008000; stroke-width: 0.5\"/>\n    </defs>\n    <g clip-path=\"url(#pa7a7721bb1)\">\n     <use xlink:href=\"#mf1e1adcb85\" x=\"74.585218\" y=\"187.792229\" style=\"fill: #008000; stroke: #008000; stroke-width: 0.5\"/>\n     <use xlink:href=\"#mf1e1adcb85\" x=\"137.543156\" y=\"204.950067\" style=\"fill: #008000; stroke: #008000; stroke-width: 0.5\"/>\n     <use xlink:href=\"#mf1e1adcb85\" x=\"200.501094\" y=\"216.220548\" style=\"fill: #008000; stroke: #008000; stroke-width: 0.5\"/>\n     <use xlink:href=\"#mf1e1adcb85\" x=\"263.459031\" y=\"212.754759\" style=\"fill: #008000; stroke: #008000; stroke-width: 0.5\"/>\n     <use xlink:href=\"#mf1e1adcb85\" x=\"326.416969\" y=\"191.348426\" style=\"fill: #008000; stroke: #008000; stroke-width: 0.5\"/>\n     <use xlink:href=\"#mf1e1adcb85\" x=\"389.374906\" y=\"195.190852\" style=\"fill: #008000; stroke: #008000; stroke-width: 0.5\"/>\n     <use xlink:href=\"#mf1e1adcb85\" x=\"452.332844\" y=\"139.015712\" style=\"fill: #008000; stroke: #008000; stroke-width: 0.5\"/>\n     <use xlink:href=\"#mf1e1adcb85\" x=\"515.290781\" y=\"105.830749\" style=\"fill: #008000; stroke: #008000; stroke-width: 0.5\"/>\n     <use xlink:href=\"#mf1e1adcb85\" x=\"578.248719\" y=\"114.724691\" style=\"fill: #008000; stroke: #008000; stroke-width: 0.5\"/>\n     <use xlink:href=\"#mf1e1adcb85\" x=\"641.206657\" y=\"120.354822\" style=\"fill: #008000; stroke: #008000; stroke-width: 0.5\"/>\n    </g>\n   </g>\n   <g id=\"line2d_31\">\n    <path d=\"M 74.585218 186.670524 \nL 137.543156 196.998486 \nL 200.501094 207.326448 \nL 263.459031 217.65441 \nL 326.416969 227.982372 \nL 389.374906 238.310334 \nL 452.332844 248.638296 \nL 515.290781 258.966258 \nL 578.248719 269.29422 \nL 641.206657 279.622182 \n\" clip-path=\"url(#pa7a7721bb1)\" style=\"fill: none; stroke-dasharray: 14.8,6.4; stroke-dashoffset: 0; stroke: #008fd5; stroke-width: 4\"/>\n   </g>\n   <g id=\"patch_13\">\n    <path d=\"M 44.695937 362.438906 \nL 44.695937 12.518906 \n\" style=\"fill: none; stroke: #f0f0f0; stroke-width: 3; stroke-linejoin: miter; stroke-linecap: square\"/>\n   </g>\n   <g id=\"patch_14\">\n    <path d=\"M 671.095937 362.438906 \nL 671.095937 12.518906 \n\" style=\"fill: none; stroke: #f0f0f0; stroke-width: 3; stroke-linejoin: miter; stroke-linecap: square\"/>\n   </g>\n   <g id=\"patch_15\">\n    <path d=\"M 44.695937 362.438906 \nL 671.095937 362.438906 \n\" style=\"fill: none; stroke: #f0f0f0; stroke-width: 3; stroke-linejoin: miter; stroke-linecap: square\"/>\n   </g>\n   <g id=\"patch_16\">\n    <path d=\"M 44.695937 12.518906 \nL 671.095937 12.518906 \n\" style=\"fill: none; stroke: #f0f0f0; stroke-width: 3; stroke-linejoin: miter; stroke-linecap: square\"/>\n   </g>\n   <g id=\"legend_1\">\n    <g id=\"patch_17\">\n     <path d=\"M 485.388125 85.367031 \nL 661.295938 85.367031 \nQ 664.095937 85.367031 664.095937 82.567031 \nL 664.095937 22.318906 \nQ 664.095937 19.518906 661.295938 19.518906 \nL 485.388125 19.518906 \nQ 482.588125 19.518906 482.588125 22.318906 \nL 482.588125 82.567031 \nQ 482.588125 85.367031 485.388125 85.367031 \nz\n\" style=\"fill: #f0f0f0; opacity: 0.8; stroke: #cccccc; stroke-width: 0.5; stroke-linejoin: miter\"/>\n    </g>\n    <g id=\"patch_18\">\n     <path d=\"M 488.188125 35.756719 \nL 516.188125 35.756719 \nL 516.188125 25.956719 \nL 488.188125 25.956719 \nz\n\" style=\"fill: #ff0000; fill-opacity: 0.25; stroke: #ff0000; stroke-opacity: 0.25; stroke-width: 0.5; stroke-linejoin: miter\"/>\n    </g>\n    <g id=\"text_16\">\n     <!-- Error (MSE = 0.58) -->\n     <g transform=\"translate(527.388125 35.756719) scale(0.14 -0.14)\">\n      <defs>\n       <path id=\"DejaVuSans-45\" d=\"M 628 4666 \nL 3578 4666 \nL 3578 4134 \nL 1259 4134 \nL 1259 2753 \nL 3481 2753 \nL 3481 2222 \nL 1259 2222 \nL 1259 531 \nL 3634 531 \nL 3634 0 \nL 628 0 \nL 628 4666 \nz\n\" transform=\"scale(0.015625)\"/>\n       <path id=\"DejaVuSans-72\" d=\"M 2631 2963 \nQ 2534 3019 2420 3045 \nQ 2306 3072 2169 3072 \nQ 1681 3072 1420 2755 \nQ 1159 2438 1159 1844 \nL 1159 0 \nL 581 0 \nL 581 3500 \nL 1159 3500 \nL 1159 2956 \nQ 1341 3275 1631 3429 \nQ 1922 3584 2338 3584 \nQ 2397 3584 2469 3576 \nQ 2541 3569 2628 3553 \nL 2631 2963 \nz\n\" transform=\"scale(0.015625)\"/>\n       <path id=\"DejaVuSans-6f\" d=\"M 1959 3097 \nQ 1497 3097 1228 2736 \nQ 959 2375 959 1747 \nQ 959 1119 1226 758 \nQ 1494 397 1959 397 \nQ 2419 397 2687 759 \nQ 2956 1122 2956 1747 \nQ 2956 2369 2687 2733 \nQ 2419 3097 1959 3097 \nz\nM 1959 3584 \nQ 2709 3584 3137 3096 \nQ 3566 2609 3566 1747 \nQ 3566 888 3137 398 \nQ 2709 -91 1959 -91 \nQ 1206 -91 779 398 \nQ 353 888 353 1747 \nQ 353 2609 779 3096 \nQ 1206 3584 1959 3584 \nz\n\" transform=\"scale(0.015625)\"/>\n       <path id=\"DejaVuSans-20\" transform=\"scale(0.015625)\"/>\n       <path id=\"DejaVuSans-28\" d=\"M 1984 4856 \nQ 1566 4138 1362 3434 \nQ 1159 2731 1159 2009 \nQ 1159 1288 1364 580 \nQ 1569 -128 1984 -844 \nL 1484 -844 \nQ 1016 -109 783 600 \nQ 550 1309 550 2009 \nQ 550 2706 781 3412 \nQ 1013 4119 1484 4856 \nL 1984 4856 \nz\n\" transform=\"scale(0.015625)\"/>\n       <path id=\"DejaVuSans-4d\" d=\"M 628 4666 \nL 1569 4666 \nL 2759 1491 \nL 3956 4666 \nL 4897 4666 \nL 4897 0 \nL 4281 0 \nL 4281 4097 \nL 3078 897 \nL 2444 897 \nL 1241 4097 \nL 1241 0 \nL 628 0 \nL 628 4666 \nz\n\" transform=\"scale(0.015625)\"/>\n       <path id=\"DejaVuSans-53\" d=\"M 3425 4513 \nL 3425 3897 \nQ 3066 4069 2747 4153 \nQ 2428 4238 2131 4238 \nQ 1616 4238 1336 4038 \nQ 1056 3838 1056 3469 \nQ 1056 3159 1242 3001 \nQ 1428 2844 1947 2747 \nL 2328 2669 \nQ 3034 2534 3370 2195 \nQ 3706 1856 3706 1288 \nQ 3706 609 3251 259 \nQ 2797 -91 1919 -91 \nQ 1588 -91 1214 -16 \nQ 841 59 441 206 \nL 441 856 \nQ 825 641 1194 531 \nQ 1563 422 1919 422 \nQ 2459 422 2753 634 \nQ 3047 847 3047 1241 \nQ 3047 1584 2836 1778 \nQ 2625 1972 2144 2069 \nL 1759 2144 \nQ 1053 2284 737 2584 \nQ 422 2884 422 3419 \nQ 422 4038 858 4394 \nQ 1294 4750 2059 4750 \nQ 2388 4750 2728 4690 \nQ 3069 4631 3425 4513 \nz\n\" transform=\"scale(0.015625)\"/>\n       <path id=\"DejaVuSans-3d\" d=\"M 678 2906 \nL 4684 2906 \nL 4684 2381 \nL 678 2381 \nL 678 2906 \nz\nM 678 1631 \nL 4684 1631 \nL 4684 1100 \nL 678 1100 \nL 678 1631 \nz\n\" transform=\"scale(0.015625)\"/>\n       <path id=\"DejaVuSans-29\" d=\"M 513 4856 \nL 1013 4856 \nQ 1481 4119 1714 3412 \nQ 1947 2706 1947 2009 \nQ 1947 1309 1714 600 \nQ 1481 -109 1013 -844 \nL 513 -844 \nQ 928 -128 1133 580 \nQ 1338 1288 1338 2009 \nQ 1338 2731 1133 3434 \nQ 928 4138 513 4856 \nz\n\" transform=\"scale(0.015625)\"/>\n      </defs>\n      <use xlink:href=\"#DejaVuSans-45\"/>\n      <use xlink:href=\"#DejaVuSans-72\" x=\"63.183594\"/>\n      <use xlink:href=\"#DejaVuSans-72\" x=\"102.546875\"/>\n      <use xlink:href=\"#DejaVuSans-6f\" x=\"141.410156\"/>\n      <use xlink:href=\"#DejaVuSans-72\" x=\"202.591797\"/>\n      <use xlink:href=\"#DejaVuSans-20\" x=\"243.705078\"/>\n      <use xlink:href=\"#DejaVuSans-28\" x=\"275.492188\"/>\n      <use xlink:href=\"#DejaVuSans-4d\" x=\"314.505859\"/>\n      <use xlink:href=\"#DejaVuSans-53\" x=\"400.785156\"/>\n      <use xlink:href=\"#DejaVuSans-45\" x=\"464.261719\"/>\n      <use xlink:href=\"#DejaVuSans-20\" x=\"527.445312\"/>\n      <use xlink:href=\"#DejaVuSans-3d\" x=\"559.232422\"/>\n      <use xlink:href=\"#DejaVuSans-20\" x=\"643.021484\"/>\n      <use xlink:href=\"#DejaVuSans-30\" x=\"674.808594\"/>\n      <use xlink:href=\"#DejaVuSans-2e\" x=\"738.431641\"/>\n      <use xlink:href=\"#DejaVuSans-35\" x=\"770.21875\"/>\n      <use xlink:href=\"#DejaVuSans-38\" x=\"833.841797\"/>\n      <use xlink:href=\"#DejaVuSans-29\" x=\"897.464844\"/>\n     </g>\n    </g>\n    <g id=\"PathCollection_2\">\n     <g>\n      <use xlink:href=\"#mf1e1adcb85\" x=\"502.188125\" y=\"52.631094\" style=\"fill: #008000; stroke: #008000; stroke-width: 0.5\"/>\n     </g>\n    </g>\n    <g id=\"text_17\">\n     <!-- Data point -->\n     <g transform=\"translate(527.388125 56.306094) scale(0.14 -0.14)\">\n      <defs>\n       <path id=\"DejaVuSans-44\" d=\"M 1259 4147 \nL 1259 519 \nL 2022 519 \nQ 2988 519 3436 956 \nQ 3884 1394 3884 2338 \nQ 3884 3275 3436 3711 \nQ 2988 4147 2022 4147 \nL 1259 4147 \nz\nM 628 4666 \nL 1925 4666 \nQ 3281 4666 3915 4102 \nQ 4550 3538 4550 2338 \nQ 4550 1131 3912 565 \nQ 3275 0 1925 0 \nL 628 0 \nL 628 4666 \nz\n\" transform=\"scale(0.015625)\"/>\n       <path id=\"DejaVuSans-61\" d=\"M 2194 1759 \nQ 1497 1759 1228 1600 \nQ 959 1441 959 1056 \nQ 959 750 1161 570 \nQ 1363 391 1709 391 \nQ 2188 391 2477 730 \nQ 2766 1069 2766 1631 \nL 2766 1759 \nL 2194 1759 \nz\nM 3341 1997 \nL 3341 0 \nL 2766 0 \nL 2766 531 \nQ 2569 213 2275 61 \nQ 1981 -91 1556 -91 \nQ 1019 -91 701 211 \nQ 384 513 384 1019 \nQ 384 1609 779 1909 \nQ 1175 2209 1959 2209 \nL 2766 2209 \nL 2766 2266 \nQ 2766 2663 2505 2880 \nQ 2244 3097 1772 3097 \nQ 1472 3097 1187 3025 \nQ 903 2953 641 2809 \nL 641 3341 \nQ 956 3463 1253 3523 \nQ 1550 3584 1831 3584 \nQ 2591 3584 2966 3190 \nQ 3341 2797 3341 1997 \nz\n\" transform=\"scale(0.015625)\"/>\n       <path id=\"DejaVuSans-74\" d=\"M 1172 4494 \nL 1172 3500 \nL 2356 3500 \nL 2356 3053 \nL 1172 3053 \nL 1172 1153 \nQ 1172 725 1289 603 \nQ 1406 481 1766 481 \nL 2356 481 \nL 2356 0 \nL 1766 0 \nQ 1100 0 847 248 \nQ 594 497 594 1153 \nL 594 3053 \nL 172 3053 \nL 172 3500 \nL 594 3500 \nL 594 4494 \nL 1172 4494 \nz\n\" transform=\"scale(0.015625)\"/>\n       <path id=\"DejaVuSans-70\" d=\"M 1159 525 \nL 1159 -1331 \nL 581 -1331 \nL 581 3500 \nL 1159 3500 \nL 1159 2969 \nQ 1341 3281 1617 3432 \nQ 1894 3584 2278 3584 \nQ 2916 3584 3314 3078 \nQ 3713 2572 3713 1747 \nQ 3713 922 3314 415 \nQ 2916 -91 2278 -91 \nQ 1894 -91 1617 61 \nQ 1341 213 1159 525 \nz\nM 3116 1747 \nQ 3116 2381 2855 2742 \nQ 2594 3103 2138 3103 \nQ 1681 3103 1420 2742 \nQ 1159 2381 1159 1747 \nQ 1159 1113 1420 752 \nQ 1681 391 2138 391 \nQ 2594 391 2855 752 \nQ 3116 1113 3116 1747 \nz\n\" transform=\"scale(0.015625)\"/>\n       <path id=\"DejaVuSans-69\" d=\"M 603 3500 \nL 1178 3500 \nL 1178 0 \nL 603 0 \nL 603 3500 \nz\nM 603 4863 \nL 1178 4863 \nL 1178 4134 \nL 603 4134 \nL 603 4863 \nz\n\" transform=\"scale(0.015625)\"/>\n       <path id=\"DejaVuSans-6e\" d=\"M 3513 2113 \nL 3513 0 \nL 2938 0 \nL 2938 2094 \nQ 2938 2591 2744 2837 \nQ 2550 3084 2163 3084 \nQ 1697 3084 1428 2787 \nQ 1159 2491 1159 1978 \nL 1159 0 \nL 581 0 \nL 581 3500 \nL 1159 3500 \nL 1159 2956 \nQ 1366 3272 1645 3428 \nQ 1925 3584 2291 3584 \nQ 2894 3584 3203 3211 \nQ 3513 2838 3513 2113 \nz\n\" transform=\"scale(0.015625)\"/>\n      </defs>\n      <use xlink:href=\"#DejaVuSans-44\"/>\n      <use xlink:href=\"#DejaVuSans-61\" x=\"77.001953\"/>\n      <use xlink:href=\"#DejaVuSans-74\" x=\"138.28125\"/>\n      <use xlink:href=\"#DejaVuSans-61\" x=\"177.490234\"/>\n      <use xlink:href=\"#DejaVuSans-20\" x=\"238.769531\"/>\n      <use xlink:href=\"#DejaVuSans-70\" x=\"270.556641\"/>\n      <use xlink:href=\"#DejaVuSans-6f\" x=\"334.033203\"/>\n      <use xlink:href=\"#DejaVuSans-69\" x=\"395.214844\"/>\n      <use xlink:href=\"#DejaVuSans-6e\" x=\"422.998047\"/>\n      <use xlink:href=\"#DejaVuSans-74\" x=\"486.376953\"/>\n     </g>\n    </g>\n    <g id=\"line2d_32\">\n     <path d=\"M 488.188125 71.955469 \nL 502.188125 71.955469 \nL 516.188125 71.955469 \n\" style=\"fill: none; stroke-dasharray: 14.8,6.4; stroke-dashoffset: 0; stroke: #008fd5; stroke-width: 4\"/>\n    </g>\n    <g id=\"text_18\">\n     <!-- Linear regression -->\n     <g transform=\"translate(527.388125 76.855469) scale(0.14 -0.14)\">\n      <defs>\n       <path id=\"DejaVuSans-4c\" d=\"M 628 4666 \nL 1259 4666 \nL 1259 531 \nL 3531 531 \nL 3531 0 \nL 628 0 \nL 628 4666 \nz\n\" transform=\"scale(0.015625)\"/>\n       <path id=\"DejaVuSans-65\" d=\"M 3597 1894 \nL 3597 1613 \nL 953 1613 \nQ 991 1019 1311 708 \nQ 1631 397 2203 397 \nQ 2534 397 2845 478 \nQ 3156 559 3463 722 \nL 3463 178 \nQ 3153 47 2828 -22 \nQ 2503 -91 2169 -91 \nQ 1331 -91 842 396 \nQ 353 884 353 1716 \nQ 353 2575 817 3079 \nQ 1281 3584 2069 3584 \nQ 2775 3584 3186 3129 \nQ 3597 2675 3597 1894 \nz\nM 3022 2063 \nQ 3016 2534 2758 2815 \nQ 2500 3097 2075 3097 \nQ 1594 3097 1305 2825 \nQ 1016 2553 972 2059 \nL 3022 2063 \nz\n\" transform=\"scale(0.015625)\"/>\n       <path id=\"DejaVuSans-67\" d=\"M 2906 1791 \nQ 2906 2416 2648 2759 \nQ 2391 3103 1925 3103 \nQ 1463 3103 1205 2759 \nQ 947 2416 947 1791 \nQ 947 1169 1205 825 \nQ 1463 481 1925 481 \nQ 2391 481 2648 825 \nQ 2906 1169 2906 1791 \nz\nM 3481 434 \nQ 3481 -459 3084 -895 \nQ 2688 -1331 1869 -1331 \nQ 1566 -1331 1297 -1286 \nQ 1028 -1241 775 -1147 \nL 775 -588 \nQ 1028 -725 1275 -790 \nQ 1522 -856 1778 -856 \nQ 2344 -856 2625 -561 \nQ 2906 -266 2906 331 \nL 2906 616 \nQ 2728 306 2450 153 \nQ 2172 0 1784 0 \nQ 1141 0 747 490 \nQ 353 981 353 1791 \nQ 353 2603 747 3093 \nQ 1141 3584 1784 3584 \nQ 2172 3584 2450 3431 \nQ 2728 3278 2906 2969 \nL 2906 3500 \nL 3481 3500 \nL 3481 434 \nz\n\" transform=\"scale(0.015625)\"/>\n       <path id=\"DejaVuSans-73\" d=\"M 2834 3397 \nL 2834 2853 \nQ 2591 2978 2328 3040 \nQ 2066 3103 1784 3103 \nQ 1356 3103 1142 2972 \nQ 928 2841 928 2578 \nQ 928 2378 1081 2264 \nQ 1234 2150 1697 2047 \nL 1894 2003 \nQ 2506 1872 2764 1633 \nQ 3022 1394 3022 966 \nQ 3022 478 2636 193 \nQ 2250 -91 1575 -91 \nQ 1294 -91 989 -36 \nQ 684 19 347 128 \nL 347 722 \nQ 666 556 975 473 \nQ 1284 391 1588 391 \nQ 1994 391 2212 530 \nQ 2431 669 2431 922 \nQ 2431 1156 2273 1281 \nQ 2116 1406 1581 1522 \nL 1381 1569 \nQ 847 1681 609 1914 \nQ 372 2147 372 2553 \nQ 372 3047 722 3315 \nQ 1072 3584 1716 3584 \nQ 2034 3584 2315 3537 \nQ 2597 3491 2834 3397 \nz\n\" transform=\"scale(0.015625)\"/>\n      </defs>\n      <use xlink:href=\"#DejaVuSans-4c\"/>\n      <use xlink:href=\"#DejaVuSans-69\" x=\"55.712891\"/>\n      <use xlink:href=\"#DejaVuSans-6e\" x=\"83.496094\"/>\n      <use xlink:href=\"#DejaVuSans-65\" x=\"146.875\"/>\n      <use xlink:href=\"#DejaVuSans-61\" x=\"208.398438\"/>\n      <use xlink:href=\"#DejaVuSans-72\" x=\"269.677734\"/>\n      <use xlink:href=\"#DejaVuSans-20\" x=\"310.791016\"/>\n      <use xlink:href=\"#DejaVuSans-72\" x=\"342.578125\"/>\n      <use xlink:href=\"#DejaVuSans-65\" x=\"381.441406\"/>\n      <use xlink:href=\"#DejaVuSans-67\" x=\"442.964844\"/>\n      <use xlink:href=\"#DejaVuSans-72\" x=\"506.441406\"/>\n      <use xlink:href=\"#DejaVuSans-65\" x=\"545.304688\"/>\n      <use xlink:href=\"#DejaVuSans-73\" x=\"606.828125\"/>\n      <use xlink:href=\"#DejaVuSans-73\" x=\"658.927734\"/>\n      <use xlink:href=\"#DejaVuSans-69\" x=\"711.027344\"/>\n      <use xlink:href=\"#DejaVuSans-6f\" x=\"738.810547\"/>\n      <use xlink:href=\"#DejaVuSans-6e\" x=\"799.992188\"/>\n     </g>\n    </g>\n   </g>\n  </g>\n </g>\n <defs>\n  <clipPath id=\"pa7a7721bb1\">\n   <rect x=\"44.695937\" y=\"12.518906\" width=\"626.4\" height=\"349.92\"/>\n  </clipPath>\n </defs>\n</svg>\n"
          },
          "metadata": {}
        }
      ]
    },
    {
      "cell_type": "code",
      "metadata": {
        "id": "86svq8lneNqQ"
      },
      "source": [
        "def gradient_descent(x, y, w_0, b_0, learning_rate, iterations=10):\n",
        "  weights = [(w_0, b_0)]\n",
        "  errors = []\n",
        "  for i in range(iterations):\n",
        "    w, b = weights[-1]\n",
        "    # We calculate the model's prediction / error with the latest weights.\n",
        "    y_pred = linear_regression(x, w, b)\n",
        "    error = mean_squared_error(y, y_pred)\n",
        "    # We update the weights based on the error at this step.\n",
        "    w = w - learning_rate * np.dot(x, y_pred - y) / len(x)\n",
        "    b = b - learning_rate * (y_pred - y).mean()\n",
        "    # We store the weights/error for later use.\n",
        "    weights.append((w, b))\n",
        "    errors.append(error)\n",
        "  w, b = weights[-1]\n",
        "  errors.append(mean_squared_error(y, linear_regression(x, w, b)))\n",
        "  return weights, errors"
      ],
      "execution_count": null,
      "outputs": []
    },
    {
      "cell_type": "code",
      "metadata": {
        "id": "H1BTIpPncIBG",
        "colab": {
          "base_uri": "https://localhost:8080/",
          "height": 564
        },
        "outputId": "110bacee-0df2-494d-a2bb-fd9ae990bcf3"
      },
      "source": [
        "#@title Visualize the evolution of the error throughout the gradient descent process.\n",
        "iterations = 50\n",
        "weights, errors = gradient_descent(x, y, w_0, b_0, learning_rate=1.0, iterations=iterations)\n",
        "plt.plot(range(iterations + 1), errors)\n",
        "plt.xlabel(\"Iteration\")\n",
        "plt.ylabel(\"Error\")\n",
        "_ = plt.ylim((0, 1.0))"
      ],
      "execution_count": null,
      "outputs": [
        {
          "output_type": "display_data",
          "data": {
            "text/plain": [
              "<Figure size 1000x600 with 1 Axes>"
            ],
            "image/svg+xml": "<?xml version=\"1.0\" encoding=\"utf-8\" standalone=\"no\"?>\n<!DOCTYPE svg PUBLIC \"-//W3C//DTD SVG 1.1//EN\"\n  \"http://www.w3.org/Graphics/SVG/1.1/DTD/svg11.dtd\">\n<svg xmlns:xlink=\"http://www.w3.org/1999/xlink\" width=\"686.823625pt\" height=\"406.947531pt\" viewBox=\"0 0 686.823625 406.947531\" xmlns=\"http://www.w3.org/2000/svg\" version=\"1.1\">\n <metadata>\n  <rdf:RDF xmlns:dc=\"http://purl.org/dc/elements/1.1/\" xmlns:cc=\"http://creativecommons.org/ns#\" xmlns:rdf=\"http://www.w3.org/1999/02/22-rdf-syntax-ns#\">\n   <cc:Work>\n    <dc:type rdf:resource=\"http://purl.org/dc/dcmitype/StillImage\"/>\n    <dc:date>2023-05-07T13:19:03.456717</dc:date>\n    <dc:format>image/svg+xml</dc:format>\n    <dc:creator>\n     <cc:Agent>\n      <dc:title>Matplotlib v3.7.1, https://matplotlib.org/</dc:title>\n     </cc:Agent>\n    </dc:creator>\n   </cc:Work>\n  </rdf:RDF>\n </metadata>\n <defs>\n  <style type=\"text/css\">*{stroke-linejoin: round; stroke-linecap: butt}</style>\n </defs>\n <g id=\"figure_1\">\n  <g id=\"patch_1\">\n   <path d=\"M 0 406.947531 \nL 686.823625 406.947531 \nL 686.823625 0 \nL 0 0 \nz\n\" style=\"fill: #f0f0f0\"/>\n  </g>\n  <g id=\"axes_1\">\n   <g id=\"patch_2\">\n    <path d=\"M 53.223625 362.438906 \nL 679.623625 362.438906 \nL 679.623625 12.518906 \nL 53.223625 12.518906 \nz\n\" style=\"fill: #f0f0f0\"/>\n   </g>\n   <g id=\"matplotlib.axis_1\">\n    <g id=\"xtick_1\">\n     <g id=\"line2d_1\">\n      <path d=\"M 81.696352 362.438906 \nL 81.696352 12.518906 \n\" clip-path=\"url(#p9c86c4eeed)\" style=\"fill: none; stroke: #cbcbcb\"/>\n     </g>\n     <g id=\"line2d_2\"/>\n     <g id=\"text_1\">\n      <!-- 0 -->\n      <g transform=\"translate(77.242602 376.576719) scale(0.14 -0.14)\">\n       <defs>\n        <path id=\"DejaVuSans-30\" d=\"M 2034 4250 \nQ 1547 4250 1301 3770 \nQ 1056 3291 1056 2328 \nQ 1056 1369 1301 889 \nQ 1547 409 2034 409 \nQ 2525 409 2770 889 \nQ 3016 1369 3016 2328 \nQ 3016 3291 2770 3770 \nQ 2525 4250 2034 4250 \nz\nM 2034 4750 \nQ 2819 4750 3233 4129 \nQ 3647 3509 3647 2328 \nQ 3647 1150 3233 529 \nQ 2819 -91 2034 -91 \nQ 1250 -91 836 529 \nQ 422 1150 422 2328 \nQ 422 3509 836 4129 \nQ 1250 4750 2034 4750 \nz\n\" transform=\"scale(0.015625)\"/>\n       </defs>\n       <use xlink:href=\"#DejaVuSans-30\"/>\n      </g>\n     </g>\n    </g>\n    <g id=\"xtick_2\">\n     <g id=\"line2d_3\">\n      <path d=\"M 195.587261 362.438906 \nL 195.587261 12.518906 \n\" clip-path=\"url(#p9c86c4eeed)\" style=\"fill: none; stroke: #cbcbcb\"/>\n     </g>\n     <g id=\"line2d_4\"/>\n     <g id=\"text_2\">\n      <!-- 10 -->\n      <g transform=\"translate(186.679761 376.576719) scale(0.14 -0.14)\">\n       <defs>\n        <path id=\"DejaVuSans-31\" d=\"M 794 531 \nL 1825 531 \nL 1825 4091 \nL 703 3866 \nL 703 4441 \nL 1819 4666 \nL 2450 4666 \nL 2450 531 \nL 3481 531 \nL 3481 0 \nL 794 0 \nL 794 531 \nz\n\" transform=\"scale(0.015625)\"/>\n       </defs>\n       <use xlink:href=\"#DejaVuSans-31\"/>\n       <use xlink:href=\"#DejaVuSans-30\" x=\"63.623047\"/>\n      </g>\n     </g>\n    </g>\n    <g id=\"xtick_3\">\n     <g id=\"line2d_5\">\n      <path d=\"M 309.47817 362.438906 \nL 309.47817 12.518906 \n\" clip-path=\"url(#p9c86c4eeed)\" style=\"fill: none; stroke: #cbcbcb\"/>\n     </g>\n     <g id=\"line2d_6\"/>\n     <g id=\"text_3\">\n      <!-- 20 -->\n      <g transform=\"translate(300.57067 376.576719) scale(0.14 -0.14)\">\n       <defs>\n        <path id=\"DejaVuSans-32\" d=\"M 1228 531 \nL 3431 531 \nL 3431 0 \nL 469 0 \nL 469 531 \nQ 828 903 1448 1529 \nQ 2069 2156 2228 2338 \nQ 2531 2678 2651 2914 \nQ 2772 3150 2772 3378 \nQ 2772 3750 2511 3984 \nQ 2250 4219 1831 4219 \nQ 1534 4219 1204 4116 \nQ 875 4013 500 3803 \nL 500 4441 \nQ 881 4594 1212 4672 \nQ 1544 4750 1819 4750 \nQ 2544 4750 2975 4387 \nQ 3406 4025 3406 3419 \nQ 3406 3131 3298 2873 \nQ 3191 2616 2906 2266 \nQ 2828 2175 2409 1742 \nQ 1991 1309 1228 531 \nz\n\" transform=\"scale(0.015625)\"/>\n       </defs>\n       <use xlink:href=\"#DejaVuSans-32\"/>\n       <use xlink:href=\"#DejaVuSans-30\" x=\"63.623047\"/>\n      </g>\n     </g>\n    </g>\n    <g id=\"xtick_4\">\n     <g id=\"line2d_7\">\n      <path d=\"M 423.36908 362.438906 \nL 423.36908 12.518906 \n\" clip-path=\"url(#p9c86c4eeed)\" style=\"fill: none; stroke: #cbcbcb\"/>\n     </g>\n     <g id=\"line2d_8\"/>\n     <g id=\"text_4\">\n      <!-- 30 -->\n      <g transform=\"translate(414.46158 376.576719) scale(0.14 -0.14)\">\n       <defs>\n        <path id=\"DejaVuSans-33\" d=\"M 2597 2516 \nQ 3050 2419 3304 2112 \nQ 3559 1806 3559 1356 \nQ 3559 666 3084 287 \nQ 2609 -91 1734 -91 \nQ 1441 -91 1130 -33 \nQ 819 25 488 141 \nL 488 750 \nQ 750 597 1062 519 \nQ 1375 441 1716 441 \nQ 2309 441 2620 675 \nQ 2931 909 2931 1356 \nQ 2931 1769 2642 2001 \nQ 2353 2234 1838 2234 \nL 1294 2234 \nL 1294 2753 \nL 1863 2753 \nQ 2328 2753 2575 2939 \nQ 2822 3125 2822 3475 \nQ 2822 3834 2567 4026 \nQ 2313 4219 1838 4219 \nQ 1578 4219 1281 4162 \nQ 984 4106 628 3988 \nL 628 4550 \nQ 988 4650 1302 4700 \nQ 1616 4750 1894 4750 \nQ 2613 4750 3031 4423 \nQ 3450 4097 3450 3541 \nQ 3450 3153 3228 2886 \nQ 3006 2619 2597 2516 \nz\n\" transform=\"scale(0.015625)\"/>\n       </defs>\n       <use xlink:href=\"#DejaVuSans-33\"/>\n       <use xlink:href=\"#DejaVuSans-30\" x=\"63.623047\"/>\n      </g>\n     </g>\n    </g>\n    <g id=\"xtick_5\">\n     <g id=\"line2d_9\">\n      <path d=\"M 537.259989 362.438906 \nL 537.259989 12.518906 \n\" clip-path=\"url(#p9c86c4eeed)\" style=\"fill: none; stroke: #cbcbcb\"/>\n     </g>\n     <g id=\"line2d_10\"/>\n     <g id=\"text_5\">\n      <!-- 40 -->\n      <g transform=\"translate(528.352489 376.576719) scale(0.14 -0.14)\">\n       <defs>\n        <path id=\"DejaVuSans-34\" d=\"M 2419 4116 \nL 825 1625 \nL 2419 1625 \nL 2419 4116 \nz\nM 2253 4666 \nL 3047 4666 \nL 3047 1625 \nL 3713 1625 \nL 3713 1100 \nL 3047 1100 \nL 3047 0 \nL 2419 0 \nL 2419 1100 \nL 313 1100 \nL 313 1709 \nL 2253 4666 \nz\n\" transform=\"scale(0.015625)\"/>\n       </defs>\n       <use xlink:href=\"#DejaVuSans-34\"/>\n       <use xlink:href=\"#DejaVuSans-30\" x=\"63.623047\"/>\n      </g>\n     </g>\n    </g>\n    <g id=\"xtick_6\">\n     <g id=\"line2d_11\">\n      <path d=\"M 651.150898 362.438906 \nL 651.150898 12.518906 \n\" clip-path=\"url(#p9c86c4eeed)\" style=\"fill: none; stroke: #cbcbcb\"/>\n     </g>\n     <g id=\"line2d_12\"/>\n     <g id=\"text_6\">\n      <!-- 50 -->\n      <g transform=\"translate(642.243398 376.576719) scale(0.14 -0.14)\">\n       <defs>\n        <path id=\"DejaVuSans-35\" d=\"M 691 4666 \nL 3169 4666 \nL 3169 4134 \nL 1269 4134 \nL 1269 2991 \nQ 1406 3038 1543 3061 \nQ 1681 3084 1819 3084 \nQ 2600 3084 3056 2656 \nQ 3513 2228 3513 1497 \nQ 3513 744 3044 326 \nQ 2575 -91 1722 -91 \nQ 1428 -91 1123 -41 \nQ 819 9 494 109 \nL 494 744 \nQ 775 591 1075 516 \nQ 1375 441 1709 441 \nQ 2250 441 2565 725 \nQ 2881 1009 2881 1497 \nQ 2881 1984 2565 2268 \nQ 2250 2553 1709 2553 \nQ 1456 2553 1204 2497 \nQ 953 2441 691 2322 \nL 691 4666 \nz\n\" transform=\"scale(0.015625)\"/>\n       </defs>\n       <use xlink:href=\"#DejaVuSans-35\"/>\n       <use xlink:href=\"#DejaVuSans-30\" x=\"63.623047\"/>\n      </g>\n     </g>\n    </g>\n    <g id=\"text_7\">\n     <!-- Iteration -->\n     <g transform=\"translate(330.793188 396.253656) scale(0.168 -0.168)\">\n      <defs>\n       <path id=\"DejaVuSans-49\" d=\"M 628 4666 \nL 1259 4666 \nL 1259 0 \nL 628 0 \nL 628 4666 \nz\n\" transform=\"scale(0.015625)\"/>\n       <path id=\"DejaVuSans-74\" d=\"M 1172 4494 \nL 1172 3500 \nL 2356 3500 \nL 2356 3053 \nL 1172 3053 \nL 1172 1153 \nQ 1172 725 1289 603 \nQ 1406 481 1766 481 \nL 2356 481 \nL 2356 0 \nL 1766 0 \nQ 1100 0 847 248 \nQ 594 497 594 1153 \nL 594 3053 \nL 172 3053 \nL 172 3500 \nL 594 3500 \nL 594 4494 \nL 1172 4494 \nz\n\" transform=\"scale(0.015625)\"/>\n       <path id=\"DejaVuSans-65\" d=\"M 3597 1894 \nL 3597 1613 \nL 953 1613 \nQ 991 1019 1311 708 \nQ 1631 397 2203 397 \nQ 2534 397 2845 478 \nQ 3156 559 3463 722 \nL 3463 178 \nQ 3153 47 2828 -22 \nQ 2503 -91 2169 -91 \nQ 1331 -91 842 396 \nQ 353 884 353 1716 \nQ 353 2575 817 3079 \nQ 1281 3584 2069 3584 \nQ 2775 3584 3186 3129 \nQ 3597 2675 3597 1894 \nz\nM 3022 2063 \nQ 3016 2534 2758 2815 \nQ 2500 3097 2075 3097 \nQ 1594 3097 1305 2825 \nQ 1016 2553 972 2059 \nL 3022 2063 \nz\n\" transform=\"scale(0.015625)\"/>\n       <path id=\"DejaVuSans-72\" d=\"M 2631 2963 \nQ 2534 3019 2420 3045 \nQ 2306 3072 2169 3072 \nQ 1681 3072 1420 2755 \nQ 1159 2438 1159 1844 \nL 1159 0 \nL 581 0 \nL 581 3500 \nL 1159 3500 \nL 1159 2956 \nQ 1341 3275 1631 3429 \nQ 1922 3584 2338 3584 \nQ 2397 3584 2469 3576 \nQ 2541 3569 2628 3553 \nL 2631 2963 \nz\n\" transform=\"scale(0.015625)\"/>\n       <path id=\"DejaVuSans-61\" d=\"M 2194 1759 \nQ 1497 1759 1228 1600 \nQ 959 1441 959 1056 \nQ 959 750 1161 570 \nQ 1363 391 1709 391 \nQ 2188 391 2477 730 \nQ 2766 1069 2766 1631 \nL 2766 1759 \nL 2194 1759 \nz\nM 3341 1997 \nL 3341 0 \nL 2766 0 \nL 2766 531 \nQ 2569 213 2275 61 \nQ 1981 -91 1556 -91 \nQ 1019 -91 701 211 \nQ 384 513 384 1019 \nQ 384 1609 779 1909 \nQ 1175 2209 1959 2209 \nL 2766 2209 \nL 2766 2266 \nQ 2766 2663 2505 2880 \nQ 2244 3097 1772 3097 \nQ 1472 3097 1187 3025 \nQ 903 2953 641 2809 \nL 641 3341 \nQ 956 3463 1253 3523 \nQ 1550 3584 1831 3584 \nQ 2591 3584 2966 3190 \nQ 3341 2797 3341 1997 \nz\n\" transform=\"scale(0.015625)\"/>\n       <path id=\"DejaVuSans-69\" d=\"M 603 3500 \nL 1178 3500 \nL 1178 0 \nL 603 0 \nL 603 3500 \nz\nM 603 4863 \nL 1178 4863 \nL 1178 4134 \nL 603 4134 \nL 603 4863 \nz\n\" transform=\"scale(0.015625)\"/>\n       <path id=\"DejaVuSans-6f\" d=\"M 1959 3097 \nQ 1497 3097 1228 2736 \nQ 959 2375 959 1747 \nQ 959 1119 1226 758 \nQ 1494 397 1959 397 \nQ 2419 397 2687 759 \nQ 2956 1122 2956 1747 \nQ 2956 2369 2687 2733 \nQ 2419 3097 1959 3097 \nz\nM 1959 3584 \nQ 2709 3584 3137 3096 \nQ 3566 2609 3566 1747 \nQ 3566 888 3137 398 \nQ 2709 -91 1959 -91 \nQ 1206 -91 779 398 \nQ 353 888 353 1747 \nQ 353 2609 779 3096 \nQ 1206 3584 1959 3584 \nz\n\" transform=\"scale(0.015625)\"/>\n       <path id=\"DejaVuSans-6e\" d=\"M 3513 2113 \nL 3513 0 \nL 2938 0 \nL 2938 2094 \nQ 2938 2591 2744 2837 \nQ 2550 3084 2163 3084 \nQ 1697 3084 1428 2787 \nQ 1159 2491 1159 1978 \nL 1159 0 \nL 581 0 \nL 581 3500 \nL 1159 3500 \nL 1159 2956 \nQ 1366 3272 1645 3428 \nQ 1925 3584 2291 3584 \nQ 2894 3584 3203 3211 \nQ 3513 2838 3513 2113 \nz\n\" transform=\"scale(0.015625)\"/>\n      </defs>\n      <use xlink:href=\"#DejaVuSans-49\"/>\n      <use xlink:href=\"#DejaVuSans-74\" x=\"29.492188\"/>\n      <use xlink:href=\"#DejaVuSans-65\" x=\"68.701172\"/>\n      <use xlink:href=\"#DejaVuSans-72\" x=\"130.224609\"/>\n      <use xlink:href=\"#DejaVuSans-61\" x=\"171.337891\"/>\n      <use xlink:href=\"#DejaVuSans-74\" x=\"232.617188\"/>\n      <use xlink:href=\"#DejaVuSans-69\" x=\"271.826172\"/>\n      <use xlink:href=\"#DejaVuSans-6f\" x=\"299.609375\"/>\n      <use xlink:href=\"#DejaVuSans-6e\" x=\"360.791016\"/>\n     </g>\n    </g>\n   </g>\n   <g id=\"matplotlib.axis_2\">\n    <g id=\"ytick_1\">\n     <g id=\"line2d_13\">\n      <path d=\"M 53.223625 362.438906 \nL 679.623625 362.438906 \n\" clip-path=\"url(#p9c86c4eeed)\" style=\"fill: none; stroke: #cbcbcb\"/>\n     </g>\n     <g id=\"line2d_14\"/>\n     <g id=\"text_8\">\n      <!-- 0.0 -->\n      <g transform=\"translate(27.45925 367.757813) scale(0.14 -0.14)\">\n       <defs>\n        <path id=\"DejaVuSans-2e\" d=\"M 684 794 \nL 1344 794 \nL 1344 0 \nL 684 0 \nL 684 794 \nz\n\" transform=\"scale(0.015625)\"/>\n       </defs>\n       <use xlink:href=\"#DejaVuSans-30\"/>\n       <use xlink:href=\"#DejaVuSans-2e\" x=\"63.623047\"/>\n       <use xlink:href=\"#DejaVuSans-30\" x=\"95.410156\"/>\n      </g>\n     </g>\n    </g>\n    <g id=\"ytick_2\">\n     <g id=\"line2d_15\">\n      <path d=\"M 53.223625 292.454906 \nL 679.623625 292.454906 \n\" clip-path=\"url(#p9c86c4eeed)\" style=\"fill: none; stroke: #cbcbcb\"/>\n     </g>\n     <g id=\"line2d_16\"/>\n     <g id=\"text_9\">\n      <!-- 0.2 -->\n      <g transform=\"translate(27.45925 297.773813) scale(0.14 -0.14)\">\n       <use xlink:href=\"#DejaVuSans-30\"/>\n       <use xlink:href=\"#DejaVuSans-2e\" x=\"63.623047\"/>\n       <use xlink:href=\"#DejaVuSans-32\" x=\"95.410156\"/>\n      </g>\n     </g>\n    </g>\n    <g id=\"ytick_3\">\n     <g id=\"line2d_17\">\n      <path d=\"M 53.223625 222.470906 \nL 679.623625 222.470906 \n\" clip-path=\"url(#p9c86c4eeed)\" style=\"fill: none; stroke: #cbcbcb\"/>\n     </g>\n     <g id=\"line2d_18\"/>\n     <g id=\"text_10\">\n      <!-- 0.4 -->\n      <g transform=\"translate(27.45925 227.789813) scale(0.14 -0.14)\">\n       <use xlink:href=\"#DejaVuSans-30\"/>\n       <use xlink:href=\"#DejaVuSans-2e\" x=\"63.623047\"/>\n       <use xlink:href=\"#DejaVuSans-34\" x=\"95.410156\"/>\n      </g>\n     </g>\n    </g>\n    <g id=\"ytick_4\">\n     <g id=\"line2d_19\">\n      <path d=\"M 53.223625 152.486906 \nL 679.623625 152.486906 \n\" clip-path=\"url(#p9c86c4eeed)\" style=\"fill: none; stroke: #cbcbcb\"/>\n     </g>\n     <g id=\"line2d_20\"/>\n     <g id=\"text_11\">\n      <!-- 0.6 -->\n      <g transform=\"translate(27.45925 157.805812) scale(0.14 -0.14)\">\n       <defs>\n        <path id=\"DejaVuSans-36\" d=\"M 2113 2584 \nQ 1688 2584 1439 2293 \nQ 1191 2003 1191 1497 \nQ 1191 994 1439 701 \nQ 1688 409 2113 409 \nQ 2538 409 2786 701 \nQ 3034 994 3034 1497 \nQ 3034 2003 2786 2293 \nQ 2538 2584 2113 2584 \nz\nM 3366 4563 \nL 3366 3988 \nQ 3128 4100 2886 4159 \nQ 2644 4219 2406 4219 \nQ 1781 4219 1451 3797 \nQ 1122 3375 1075 2522 \nQ 1259 2794 1537 2939 \nQ 1816 3084 2150 3084 \nQ 2853 3084 3261 2657 \nQ 3669 2231 3669 1497 \nQ 3669 778 3244 343 \nQ 2819 -91 2113 -91 \nQ 1303 -91 875 529 \nQ 447 1150 447 2328 \nQ 447 3434 972 4092 \nQ 1497 4750 2381 4750 \nQ 2619 4750 2861 4703 \nQ 3103 4656 3366 4563 \nz\n\" transform=\"scale(0.015625)\"/>\n       </defs>\n       <use xlink:href=\"#DejaVuSans-30\"/>\n       <use xlink:href=\"#DejaVuSans-2e\" x=\"63.623047\"/>\n       <use xlink:href=\"#DejaVuSans-36\" x=\"95.410156\"/>\n      </g>\n     </g>\n    </g>\n    <g id=\"ytick_5\">\n     <g id=\"line2d_21\">\n      <path d=\"M 53.223625 82.502906 \nL 679.623625 82.502906 \n\" clip-path=\"url(#p9c86c4eeed)\" style=\"fill: none; stroke: #cbcbcb\"/>\n     </g>\n     <g id=\"line2d_22\"/>\n     <g id=\"text_12\">\n      <!-- 0.8 -->\n      <g transform=\"translate(27.45925 87.821812) scale(0.14 -0.14)\">\n       <defs>\n        <path id=\"DejaVuSans-38\" d=\"M 2034 2216 \nQ 1584 2216 1326 1975 \nQ 1069 1734 1069 1313 \nQ 1069 891 1326 650 \nQ 1584 409 2034 409 \nQ 2484 409 2743 651 \nQ 3003 894 3003 1313 \nQ 3003 1734 2745 1975 \nQ 2488 2216 2034 2216 \nz\nM 1403 2484 \nQ 997 2584 770 2862 \nQ 544 3141 544 3541 \nQ 544 4100 942 4425 \nQ 1341 4750 2034 4750 \nQ 2731 4750 3128 4425 \nQ 3525 4100 3525 3541 \nQ 3525 3141 3298 2862 \nQ 3072 2584 2669 2484 \nQ 3125 2378 3379 2068 \nQ 3634 1759 3634 1313 \nQ 3634 634 3220 271 \nQ 2806 -91 2034 -91 \nQ 1263 -91 848 271 \nQ 434 634 434 1313 \nQ 434 1759 690 2068 \nQ 947 2378 1403 2484 \nz\nM 1172 3481 \nQ 1172 3119 1398 2916 \nQ 1625 2713 2034 2713 \nQ 2441 2713 2670 2916 \nQ 2900 3119 2900 3481 \nQ 2900 3844 2670 4047 \nQ 2441 4250 2034 4250 \nQ 1625 4250 1398 4047 \nQ 1172 3844 1172 3481 \nz\n\" transform=\"scale(0.015625)\"/>\n       </defs>\n       <use xlink:href=\"#DejaVuSans-30\"/>\n       <use xlink:href=\"#DejaVuSans-2e\" x=\"63.623047\"/>\n       <use xlink:href=\"#DejaVuSans-38\" x=\"95.410156\"/>\n      </g>\n     </g>\n    </g>\n    <g id=\"ytick_6\">\n     <g id=\"line2d_23\">\n      <path d=\"M 53.223625 12.518906 \nL 679.623625 12.518906 \n\" clip-path=\"url(#p9c86c4eeed)\" style=\"fill: none; stroke: #cbcbcb\"/>\n     </g>\n     <g id=\"line2d_24\"/>\n     <g id=\"text_13\">\n      <!-- 1.0 -->\n      <g transform=\"translate(27.45925 17.837812) scale(0.14 -0.14)\">\n       <use xlink:href=\"#DejaVuSans-31\"/>\n       <use xlink:href=\"#DejaVuSans-2e\" x=\"63.623047\"/>\n       <use xlink:href=\"#DejaVuSans-30\" x=\"95.410156\"/>\n      </g>\n     </g>\n    </g>\n    <g id=\"text_14\">\n     <!-- Error -->\n     <g transform=\"translate(19.965375 207.949969) rotate(-90) scale(0.168 -0.168)\">\n      <defs>\n       <path id=\"DejaVuSans-45\" d=\"M 628 4666 \nL 3578 4666 \nL 3578 4134 \nL 1259 4134 \nL 1259 2753 \nL 3481 2753 \nL 3481 2222 \nL 1259 2222 \nL 1259 531 \nL 3634 531 \nL 3634 0 \nL 628 0 \nL 628 4666 \nz\n\" transform=\"scale(0.015625)\"/>\n      </defs>\n      <use xlink:href=\"#DejaVuSans-45\"/>\n      <use xlink:href=\"#DejaVuSans-72\" x=\"63.183594\"/>\n      <use xlink:href=\"#DejaVuSans-72\" x=\"102.546875\"/>\n      <use xlink:href=\"#DejaVuSans-6f\" x=\"141.410156\"/>\n      <use xlink:href=\"#DejaVuSans-72\" x=\"202.591797\"/>\n     </g>\n    </g>\n   </g>\n   <g id=\"line2d_25\">\n    <path d=\"M 81.696352 161.034336 \nL 93.085443 283.000832 \nL 104.474534 300.321191 \nL 115.863625 308.634678 \nL 127.252716 315.201362 \nL 138.641807 320.723749 \nL 150.030898 325.394457 \nL 161.419989 329.346808 \nL 172.80908 332.691432 \nL 184.19817 335.521784 \nL 195.587261 337.916941 \nL 206.976352 339.943819 \nL 218.365443 341.659044 \nL 229.754534 343.110535 \nL 241.143625 344.338845 \nL 252.532716 345.37829 \nL 263.921807 346.25791 \nL 275.310898 347.00228 \nL 286.699989 347.632195 \nL 298.08908 348.165254 \nL 309.47817 348.61635 \nL 320.867261 348.998085 \nL 332.256352 349.321125 \nL 343.645443 349.594494 \nL 355.034534 349.82583 \nL 366.423625 350.021596 \nL 377.812716 350.18726 \nL 389.201807 350.327452 \nL 400.590898 350.446089 \nL 411.979989 350.546483 \nL 423.36908 350.631441 \nL 434.75817 350.703336 \nL 446.147261 350.764176 \nL 457.536352 350.815662 \nL 468.925443 350.859231 \nL 480.314534 350.896101 \nL 491.703625 350.927301 \nL 503.092716 350.953705 \nL 514.481807 350.976048 \nL 525.870898 350.994956 \nL 537.259989 351.010957 \nL 548.64908 351.024497 \nL 560.03817 351.035956 \nL 571.427261 351.045652 \nL 582.816352 351.053858 \nL 594.205443 351.060802 \nL 605.594534 351.066678 \nL 616.983625 351.071651 \nL 628.372716 351.075859 \nL 639.761807 351.07942 \nL 651.150898 351.082434 \n\" clip-path=\"url(#p9c86c4eeed)\" style=\"fill: none; stroke: #008fd5; stroke-width: 4\"/>\n   </g>\n   <g id=\"patch_3\">\n    <path d=\"M 53.223625 362.438906 \nL 53.223625 12.518906 \n\" style=\"fill: none; stroke: #f0f0f0; stroke-width: 3; stroke-linejoin: miter; stroke-linecap: square\"/>\n   </g>\n   <g id=\"patch_4\">\n    <path d=\"M 679.623625 362.438906 \nL 679.623625 12.518906 \n\" style=\"fill: none; stroke: #f0f0f0; stroke-width: 3; stroke-linejoin: miter; stroke-linecap: square\"/>\n   </g>\n   <g id=\"patch_5\">\n    <path d=\"M 53.223625 362.438906 \nL 679.623625 362.438906 \n\" style=\"fill: none; stroke: #f0f0f0; stroke-width: 3; stroke-linejoin: miter; stroke-linecap: square\"/>\n   </g>\n   <g id=\"patch_6\">\n    <path d=\"M 53.223625 12.518906 \nL 679.623625 12.518906 \n\" style=\"fill: none; stroke: #f0f0f0; stroke-width: 3; stroke-linejoin: miter; stroke-linecap: square\"/>\n   </g>\n  </g>\n </g>\n <defs>\n  <clipPath id=\"p9c86c4eeed\">\n   <rect x=\"53.223625\" y=\"12.518906\" width=\"626.4\" height=\"349.92\"/>\n  </clipPath>\n </defs>\n</svg>\n"
          },
          "metadata": {}
        }
      ]
    },
    {
      "cell_type": "code",
      "metadata": {
        "id": "99OkJjPhjc_r",
        "colab": {
          "base_uri": "https://localhost:8080/",
          "height": 558
        },
        "outputId": "2d6fa3e4-a457-49e0-94c8-6978300fdf11"
      },
      "source": [
        "#@title Visualize the weights at different iterations.\n",
        "from IPython.display import clear_output\n",
        "import time\n",
        "\n",
        "for n_iter, ((w, b), error) in enumerate(zip(weights, errors)):\n",
        "  clear_output(wait=True)\n",
        "  y_pred = linear_regression(x, w, b)\n",
        "  plot_linear_regression(x, y, y_pred)\n",
        "  plt.title(f\"Iteration {n_iter}\")\n",
        "  plt.show()\n",
        "  time.sleep(2.0 if n_iter < 10 else 0.0)"
      ],
      "execution_count": null,
      "outputs": [
        {
          "output_type": "display_data",
          "data": {
            "text/plain": [
              "<Figure size 1000x600 with 1 Axes>"
            ],
            "image/svg+xml": "<?xml version=\"1.0\" encoding=\"utf-8\" standalone=\"no\"?>\n<!DOCTYPE svg PUBLIC \"-//W3C//DTD SVG 1.1//EN\"\n  \"http://www.w3.org/Graphics/SVG/1.1/DTD/svg11.dtd\">\n<svg xmlns:xlink=\"http://www.w3.org/1999/xlink\" width=\"678.295937pt\" height=\"402.687825pt\" viewBox=\"0 0 678.295937 402.687825\" xmlns=\"http://www.w3.org/2000/svg\" version=\"1.1\">\n <metadata>\n  <rdf:RDF xmlns:dc=\"http://purl.org/dc/elements/1.1/\" xmlns:cc=\"http://creativecommons.org/ns#\" xmlns:rdf=\"http://www.w3.org/1999/02/22-rdf-syntax-ns#\">\n   <cc:Work>\n    <dc:type rdf:resource=\"http://purl.org/dc/dcmitype/StillImage\"/>\n    <dc:date>2023-05-07T13:19:45.343496</dc:date>\n    <dc:format>image/svg+xml</dc:format>\n    <dc:creator>\n     <cc:Agent>\n      <dc:title>Matplotlib v3.7.1, https://matplotlib.org/</dc:title>\n     </cc:Agent>\n    </dc:creator>\n   </cc:Work>\n  </rdf:RDF>\n </metadata>\n <defs>\n  <style type=\"text/css\">*{stroke-linejoin: round; stroke-linecap: butt}</style>\n </defs>\n <g id=\"figure_1\">\n  <g id=\"patch_1\">\n   <path d=\"M -0 402.687825 \nL 678.295937 402.687825 \nL 678.295937 0 \nL -0 0 \nz\n\" style=\"fill: #f0f0f0\"/>\n  </g>\n  <g id=\"axes_1\">\n   <g id=\"patch_2\">\n    <path d=\"M 44.695937 378.43845 \nL 671.095937 378.43845 \nL 671.095937 28.51845 \nL 44.695937 28.51845 \nz\n\" style=\"fill: #f0f0f0\"/>\n   </g>\n   <g id=\"matplotlib.axis_1\">\n    <g id=\"xtick_1\">\n     <g id=\"line2d_1\">\n      <path d=\"M 74.585218 378.43845 \nL 74.585218 28.51845 \n\" clip-path=\"url(#p3cf369bcec)\" style=\"fill: none; stroke: #cbcbcb\"/>\n     </g>\n     <g id=\"line2d_2\"/>\n     <g id=\"text_1\">\n      <!-- 0.0 -->\n      <g transform=\"translate(63.453031 392.576263) scale(0.14 -0.14)\">\n       <defs>\n        <path id=\"DejaVuSans-30\" d=\"M 2034 4250 \nQ 1547 4250 1301 3770 \nQ 1056 3291 1056 2328 \nQ 1056 1369 1301 889 \nQ 1547 409 2034 409 \nQ 2525 409 2770 889 \nQ 3016 1369 3016 2328 \nQ 3016 3291 2770 3770 \nQ 2525 4250 2034 4250 \nz\nM 2034 4750 \nQ 2819 4750 3233 4129 \nQ 3647 3509 3647 2328 \nQ 3647 1150 3233 529 \nQ 2819 -91 2034 -91 \nQ 1250 -91 836 529 \nQ 422 1150 422 2328 \nQ 422 3509 836 4129 \nQ 1250 4750 2034 4750 \nz\n\" transform=\"scale(0.015625)\"/>\n        <path id=\"DejaVuSans-2e\" d=\"M 684 794 \nL 1344 794 \nL 1344 0 \nL 684 0 \nL 684 794 \nz\n\" transform=\"scale(0.015625)\"/>\n       </defs>\n       <use xlink:href=\"#DejaVuSans-30\"/>\n       <use xlink:href=\"#DejaVuSans-2e\" x=\"63.623047\"/>\n       <use xlink:href=\"#DejaVuSans-30\" x=\"95.410156\"/>\n      </g>\n     </g>\n    </g>\n    <g id=\"xtick_2\">\n     <g id=\"line2d_3\">\n      <path d=\"M 187.909506 378.43845 \nL 187.909506 28.51845 \n\" clip-path=\"url(#p3cf369bcec)\" style=\"fill: none; stroke: #cbcbcb\"/>\n     </g>\n     <g id=\"line2d_4\"/>\n     <g id=\"text_2\">\n      <!-- 0.2 -->\n      <g transform=\"translate(176.777319 392.576263) scale(0.14 -0.14)\">\n       <defs>\n        <path id=\"DejaVuSans-32\" d=\"M 1228 531 \nL 3431 531 \nL 3431 0 \nL 469 0 \nL 469 531 \nQ 828 903 1448 1529 \nQ 2069 2156 2228 2338 \nQ 2531 2678 2651 2914 \nQ 2772 3150 2772 3378 \nQ 2772 3750 2511 3984 \nQ 2250 4219 1831 4219 \nQ 1534 4219 1204 4116 \nQ 875 4013 500 3803 \nL 500 4441 \nQ 881 4594 1212 4672 \nQ 1544 4750 1819 4750 \nQ 2544 4750 2975 4387 \nQ 3406 4025 3406 3419 \nQ 3406 3131 3298 2873 \nQ 3191 2616 2906 2266 \nQ 2828 2175 2409 1742 \nQ 1991 1309 1228 531 \nz\n\" transform=\"scale(0.015625)\"/>\n       </defs>\n       <use xlink:href=\"#DejaVuSans-30\"/>\n       <use xlink:href=\"#DejaVuSans-2e\" x=\"63.623047\"/>\n       <use xlink:href=\"#DejaVuSans-32\" x=\"95.410156\"/>\n      </g>\n     </g>\n    </g>\n    <g id=\"xtick_3\">\n     <g id=\"line2d_5\">\n      <path d=\"M 301.233794 378.43845 \nL 301.233794 28.51845 \n\" clip-path=\"url(#p3cf369bcec)\" style=\"fill: none; stroke: #cbcbcb\"/>\n     </g>\n     <g id=\"line2d_6\"/>\n     <g id=\"text_3\">\n      <!-- 0.4 -->\n      <g transform=\"translate(290.101606 392.576263) scale(0.14 -0.14)\">\n       <defs>\n        <path id=\"DejaVuSans-34\" d=\"M 2419 4116 \nL 825 1625 \nL 2419 1625 \nL 2419 4116 \nz\nM 2253 4666 \nL 3047 4666 \nL 3047 1625 \nL 3713 1625 \nL 3713 1100 \nL 3047 1100 \nL 3047 0 \nL 2419 0 \nL 2419 1100 \nL 313 1100 \nL 313 1709 \nL 2253 4666 \nz\n\" transform=\"scale(0.015625)\"/>\n       </defs>\n       <use xlink:href=\"#DejaVuSans-30\"/>\n       <use xlink:href=\"#DejaVuSans-2e\" x=\"63.623047\"/>\n       <use xlink:href=\"#DejaVuSans-34\" x=\"95.410156\"/>\n      </g>\n     </g>\n    </g>\n    <g id=\"xtick_4\">\n     <g id=\"line2d_7\">\n      <path d=\"M 414.558081 378.43845 \nL 414.558081 28.51845 \n\" clip-path=\"url(#p3cf369bcec)\" style=\"fill: none; stroke: #cbcbcb\"/>\n     </g>\n     <g id=\"line2d_8\"/>\n     <g id=\"text_4\">\n      <!-- 0.6 -->\n      <g transform=\"translate(403.425894 392.576263) scale(0.14 -0.14)\">\n       <defs>\n        <path id=\"DejaVuSans-36\" d=\"M 2113 2584 \nQ 1688 2584 1439 2293 \nQ 1191 2003 1191 1497 \nQ 1191 994 1439 701 \nQ 1688 409 2113 409 \nQ 2538 409 2786 701 \nQ 3034 994 3034 1497 \nQ 3034 2003 2786 2293 \nQ 2538 2584 2113 2584 \nz\nM 3366 4563 \nL 3366 3988 \nQ 3128 4100 2886 4159 \nQ 2644 4219 2406 4219 \nQ 1781 4219 1451 3797 \nQ 1122 3375 1075 2522 \nQ 1259 2794 1537 2939 \nQ 1816 3084 2150 3084 \nQ 2853 3084 3261 2657 \nQ 3669 2231 3669 1497 \nQ 3669 778 3244 343 \nQ 2819 -91 2113 -91 \nQ 1303 -91 875 529 \nQ 447 1150 447 2328 \nQ 447 3434 972 4092 \nQ 1497 4750 2381 4750 \nQ 2619 4750 2861 4703 \nQ 3103 4656 3366 4563 \nz\n\" transform=\"scale(0.015625)\"/>\n       </defs>\n       <use xlink:href=\"#DejaVuSans-30\"/>\n       <use xlink:href=\"#DejaVuSans-2e\" x=\"63.623047\"/>\n       <use xlink:href=\"#DejaVuSans-36\" x=\"95.410156\"/>\n      </g>\n     </g>\n    </g>\n    <g id=\"xtick_5\">\n     <g id=\"line2d_9\">\n      <path d=\"M 527.882369 378.43845 \nL 527.882369 28.51845 \n\" clip-path=\"url(#p3cf369bcec)\" style=\"fill: none; stroke: #cbcbcb\"/>\n     </g>\n     <g id=\"line2d_10\"/>\n     <g id=\"text_5\">\n      <!-- 0.8 -->\n      <g transform=\"translate(516.750181 392.576263) scale(0.14 -0.14)\">\n       <defs>\n        <path id=\"DejaVuSans-38\" d=\"M 2034 2216 \nQ 1584 2216 1326 1975 \nQ 1069 1734 1069 1313 \nQ 1069 891 1326 650 \nQ 1584 409 2034 409 \nQ 2484 409 2743 651 \nQ 3003 894 3003 1313 \nQ 3003 1734 2745 1975 \nQ 2488 2216 2034 2216 \nz\nM 1403 2484 \nQ 997 2584 770 2862 \nQ 544 3141 544 3541 \nQ 544 4100 942 4425 \nQ 1341 4750 2034 4750 \nQ 2731 4750 3128 4425 \nQ 3525 4100 3525 3541 \nQ 3525 3141 3298 2862 \nQ 3072 2584 2669 2484 \nQ 3125 2378 3379 2068 \nQ 3634 1759 3634 1313 \nQ 3634 634 3220 271 \nQ 2806 -91 2034 -91 \nQ 1263 -91 848 271 \nQ 434 634 434 1313 \nQ 434 1759 690 2068 \nQ 947 2378 1403 2484 \nz\nM 1172 3481 \nQ 1172 3119 1398 2916 \nQ 1625 2713 2034 2713 \nQ 2441 2713 2670 2916 \nQ 2900 3119 2900 3481 \nQ 2900 3844 2670 4047 \nQ 2441 4250 2034 4250 \nQ 1625 4250 1398 4047 \nQ 1172 3844 1172 3481 \nz\n\" transform=\"scale(0.015625)\"/>\n       </defs>\n       <use xlink:href=\"#DejaVuSans-30\"/>\n       <use xlink:href=\"#DejaVuSans-2e\" x=\"63.623047\"/>\n       <use xlink:href=\"#DejaVuSans-38\" x=\"95.410156\"/>\n      </g>\n     </g>\n    </g>\n    <g id=\"xtick_6\">\n     <g id=\"line2d_11\">\n      <path d=\"M 641.206657 378.43845 \nL 641.206657 28.51845 \n\" clip-path=\"url(#p3cf369bcec)\" style=\"fill: none; stroke: #cbcbcb\"/>\n     </g>\n     <g id=\"line2d_12\"/>\n     <g id=\"text_6\">\n      <!-- 1.0 -->\n      <g transform=\"translate(630.074469 392.576263) scale(0.14 -0.14)\">\n       <defs>\n        <path id=\"DejaVuSans-31\" d=\"M 794 531 \nL 1825 531 \nL 1825 4091 \nL 703 3866 \nL 703 4441 \nL 1819 4666 \nL 2450 4666 \nL 2450 531 \nL 3481 531 \nL 3481 0 \nL 794 0 \nL 794 531 \nz\n\" transform=\"scale(0.015625)\"/>\n       </defs>\n       <use xlink:href=\"#DejaVuSans-31\"/>\n       <use xlink:href=\"#DejaVuSans-2e\" x=\"63.623047\"/>\n       <use xlink:href=\"#DejaVuSans-30\" x=\"95.410156\"/>\n      </g>\n     </g>\n    </g>\n   </g>\n   <g id=\"matplotlib.axis_2\">\n    <g id=\"ytick_1\">\n     <g id=\"line2d_13\">\n      <path d=\"M 44.695937 378.43845 \nL 671.095937 378.43845 \n\" clip-path=\"url(#p3cf369bcec)\" style=\"fill: none; stroke: #cbcbcb\"/>\n     </g>\n     <g id=\"line2d_14\"/>\n     <g id=\"text_7\">\n      <!-- −2.0 -->\n      <g transform=\"translate(7.2 383.757356) scale(0.14 -0.14)\">\n       <defs>\n        <path id=\"DejaVuSans-2212\" d=\"M 678 2272 \nL 4684 2272 \nL 4684 1741 \nL 678 1741 \nL 678 2272 \nz\n\" transform=\"scale(0.015625)\"/>\n       </defs>\n       <use xlink:href=\"#DejaVuSans-2212\"/>\n       <use xlink:href=\"#DejaVuSans-32\" x=\"83.789062\"/>\n       <use xlink:href=\"#DejaVuSans-2e\" x=\"147.412109\"/>\n       <use xlink:href=\"#DejaVuSans-30\" x=\"179.199219\"/>\n      </g>\n     </g>\n    </g>\n    <g id=\"ytick_2\">\n     <g id=\"line2d_15\">\n      <path d=\"M 44.695937 334.69845 \nL 671.095937 334.69845 \n\" clip-path=\"url(#p3cf369bcec)\" style=\"fill: none; stroke: #cbcbcb\"/>\n     </g>\n     <g id=\"line2d_16\"/>\n     <g id=\"text_8\">\n      <!-- −1.5 -->\n      <g transform=\"translate(7.2 340.017356) scale(0.14 -0.14)\">\n       <defs>\n        <path id=\"DejaVuSans-35\" d=\"M 691 4666 \nL 3169 4666 \nL 3169 4134 \nL 1269 4134 \nL 1269 2991 \nQ 1406 3038 1543 3061 \nQ 1681 3084 1819 3084 \nQ 2600 3084 3056 2656 \nQ 3513 2228 3513 1497 \nQ 3513 744 3044 326 \nQ 2575 -91 1722 -91 \nQ 1428 -91 1123 -41 \nQ 819 9 494 109 \nL 494 744 \nQ 775 591 1075 516 \nQ 1375 441 1709 441 \nQ 2250 441 2565 725 \nQ 2881 1009 2881 1497 \nQ 2881 1984 2565 2268 \nQ 2250 2553 1709 2553 \nQ 1456 2553 1204 2497 \nQ 953 2441 691 2322 \nL 691 4666 \nz\n\" transform=\"scale(0.015625)\"/>\n       </defs>\n       <use xlink:href=\"#DejaVuSans-2212\"/>\n       <use xlink:href=\"#DejaVuSans-31\" x=\"83.789062\"/>\n       <use xlink:href=\"#DejaVuSans-2e\" x=\"147.412109\"/>\n       <use xlink:href=\"#DejaVuSans-35\" x=\"179.199219\"/>\n      </g>\n     </g>\n    </g>\n    <g id=\"ytick_3\">\n     <g id=\"line2d_17\">\n      <path d=\"M 44.695937 290.95845 \nL 671.095937 290.95845 \n\" clip-path=\"url(#p3cf369bcec)\" style=\"fill: none; stroke: #cbcbcb\"/>\n     </g>\n     <g id=\"line2d_18\"/>\n     <g id=\"text_9\">\n      <!-- −1.0 -->\n      <g transform=\"translate(7.2 296.277356) scale(0.14 -0.14)\">\n       <use xlink:href=\"#DejaVuSans-2212\"/>\n       <use xlink:href=\"#DejaVuSans-31\" x=\"83.789062\"/>\n       <use xlink:href=\"#DejaVuSans-2e\" x=\"147.412109\"/>\n       <use xlink:href=\"#DejaVuSans-30\" x=\"179.199219\"/>\n      </g>\n     </g>\n    </g>\n    <g id=\"ytick_4\">\n     <g id=\"line2d_19\">\n      <path d=\"M 44.695937 247.21845 \nL 671.095937 247.21845 \n\" clip-path=\"url(#p3cf369bcec)\" style=\"fill: none; stroke: #cbcbcb\"/>\n     </g>\n     <g id=\"line2d_20\"/>\n     <g id=\"text_10\">\n      <!-- −0.5 -->\n      <g transform=\"translate(7.2 252.537356) scale(0.14 -0.14)\">\n       <use xlink:href=\"#DejaVuSans-2212\"/>\n       <use xlink:href=\"#DejaVuSans-30\" x=\"83.789062\"/>\n       <use xlink:href=\"#DejaVuSans-2e\" x=\"147.412109\"/>\n       <use xlink:href=\"#DejaVuSans-35\" x=\"179.199219\"/>\n      </g>\n     </g>\n    </g>\n    <g id=\"ytick_5\">\n     <g id=\"line2d_21\">\n      <path d=\"M 44.695937 203.47845 \nL 671.095937 203.47845 \n\" clip-path=\"url(#p3cf369bcec)\" style=\"fill: none; stroke: #cbcbcb\"/>\n     </g>\n     <g id=\"line2d_22\"/>\n     <g id=\"text_11\">\n      <!-- 0.0 -->\n      <g transform=\"translate(18.931562 208.797356) scale(0.14 -0.14)\">\n       <use xlink:href=\"#DejaVuSans-30\"/>\n       <use xlink:href=\"#DejaVuSans-2e\" x=\"63.623047\"/>\n       <use xlink:href=\"#DejaVuSans-30\" x=\"95.410156\"/>\n      </g>\n     </g>\n    </g>\n    <g id=\"ytick_6\">\n     <g id=\"line2d_23\">\n      <path d=\"M 44.695937 159.73845 \nL 671.095937 159.73845 \n\" clip-path=\"url(#p3cf369bcec)\" style=\"fill: none; stroke: #cbcbcb\"/>\n     </g>\n     <g id=\"line2d_24\"/>\n     <g id=\"text_12\">\n      <!-- 0.5 -->\n      <g transform=\"translate(18.931562 165.057356) scale(0.14 -0.14)\">\n       <use xlink:href=\"#DejaVuSans-30\"/>\n       <use xlink:href=\"#DejaVuSans-2e\" x=\"63.623047\"/>\n       <use xlink:href=\"#DejaVuSans-35\" x=\"95.410156\"/>\n      </g>\n     </g>\n    </g>\n    <g id=\"ytick_7\">\n     <g id=\"line2d_25\">\n      <path d=\"M 44.695937 115.99845 \nL 671.095937 115.99845 \n\" clip-path=\"url(#p3cf369bcec)\" style=\"fill: none; stroke: #cbcbcb\"/>\n     </g>\n     <g id=\"line2d_26\"/>\n     <g id=\"text_13\">\n      <!-- 1.0 -->\n      <g transform=\"translate(18.931562 121.317356) scale(0.14 -0.14)\">\n       <use xlink:href=\"#DejaVuSans-31\"/>\n       <use xlink:href=\"#DejaVuSans-2e\" x=\"63.623047\"/>\n       <use xlink:href=\"#DejaVuSans-30\" x=\"95.410156\"/>\n      </g>\n     </g>\n    </g>\n    <g id=\"ytick_8\">\n     <g id=\"line2d_27\">\n      <path d=\"M 44.695937 72.25845 \nL 671.095937 72.25845 \n\" clip-path=\"url(#p3cf369bcec)\" style=\"fill: none; stroke: #cbcbcb\"/>\n     </g>\n     <g id=\"line2d_28\"/>\n     <g id=\"text_14\">\n      <!-- 1.5 -->\n      <g transform=\"translate(18.931562 77.577356) scale(0.14 -0.14)\">\n       <use xlink:href=\"#DejaVuSans-31\"/>\n       <use xlink:href=\"#DejaVuSans-2e\" x=\"63.623047\"/>\n       <use xlink:href=\"#DejaVuSans-35\" x=\"95.410156\"/>\n      </g>\n     </g>\n    </g>\n    <g id=\"ytick_9\">\n     <g id=\"line2d_29\">\n      <path d=\"M 44.695937 28.51845 \nL 671.095937 28.51845 \n\" clip-path=\"url(#p3cf369bcec)\" style=\"fill: none; stroke: #cbcbcb\"/>\n     </g>\n     <g id=\"line2d_30\"/>\n     <g id=\"text_15\">\n      <!-- 2.0 -->\n      <g transform=\"translate(18.931562 33.837356) scale(0.14 -0.14)\">\n       <use xlink:href=\"#DejaVuSans-32\"/>\n       <use xlink:href=\"#DejaVuSans-2e\" x=\"63.623047\"/>\n       <use xlink:href=\"#DejaVuSans-30\" x=\"95.410156\"/>\n      </g>\n     </g>\n    </g>\n   </g>\n   <g id=\"PolyCollection_1\">\n    <defs>\n     <path id=\"m1ba09bc158\" d=\"M 74.585218 -164.548044 \nL 74.585218 -198.896052 \nL 137.543156 -181.738214 \nL 200.501094 -170.467733 \nL 263.459031 -173.933522 \nL 326.416969 -195.339855 \nL 389.374906 -191.49743 \nL 452.332844 -247.672569 \nL 515.290781 -280.857532 \nL 578.248719 -271.96359 \nL 641.206657 -266.333459 \nL 641.206657 -271.42216 \nL 641.206657 -271.42216 \nL 578.248719 -259.547258 \nL 515.290781 -247.672356 \nL 452.332844 -235.797455 \nL 389.374906 -223.922553 \nL 326.416969 -212.047651 \nL 263.459031 -200.172749 \nL 200.501094 -188.297848 \nL 137.543156 -176.422946 \nL 74.585218 -164.548044 \nz\n\" style=\"stroke: #ff0000; stroke-opacity: 0.25; stroke-width: 0.5\"/>\n    </defs>\n    <g clip-path=\"url(#p3cf369bcec)\">\n     <use xlink:href=\"#m1ba09bc158\" x=\"0\" y=\"402.687825\" style=\"fill: #ff0000; fill-opacity: 0.25; stroke: #ff0000; stroke-opacity: 0.25; stroke-width: 0.5\"/>\n    </g>\n   </g>\n   <g id=\"patch_3\">\n    <path d=\"M 73.168665 238.139781 \nL 76.001772 238.139781 \nL 76.001772 203.791773 \nL 73.168665 203.791773 \nz\n\" clip-path=\"url(#p3cf369bcec)\" style=\"fill: #ff0000; opacity: 0.25\"/>\n   </g>\n   <g id=\"patch_4\">\n    <path d=\"M 136.126602 226.264879 \nL 138.95971 226.264879 \nL 138.95971 220.949611 \nL 136.126602 220.949611 \nz\n\" clip-path=\"url(#p3cf369bcec)\" style=\"fill: #ff0000; opacity: 0.25\"/>\n   </g>\n   <g id=\"patch_5\">\n    <path d=\"M 199.08454 214.389977 \nL 201.917647 214.389977 \nL 201.917647 232.220092 \nL 199.08454 232.220092 \nz\n\" clip-path=\"url(#p3cf369bcec)\" style=\"fill: #ff0000; opacity: 0.25\"/>\n   </g>\n   <g id=\"patch_6\">\n    <path d=\"M 262.042478 202.515076 \nL 264.875585 202.515076 \nL 264.875585 228.754303 \nL 262.042478 228.754303 \nz\n\" clip-path=\"url(#p3cf369bcec)\" style=\"fill: #ff0000; opacity: 0.25\"/>\n   </g>\n   <g id=\"patch_7\">\n    <path d=\"M 325.000415 190.640174 \nL 327.833522 190.640174 \nL 327.833522 207.34797 \nL 325.000415 207.34797 \nz\n\" clip-path=\"url(#p3cf369bcec)\" style=\"fill: #ff0000; opacity: 0.25\"/>\n   </g>\n   <g id=\"patch_8\">\n    <path d=\"M 387.958353 178.765272 \nL 390.79146 178.765272 \nL 390.79146 211.190395 \nL 387.958353 211.190395 \nz\n\" clip-path=\"url(#p3cf369bcec)\" style=\"fill: #ff0000; opacity: 0.25\"/>\n   </g>\n   <g id=\"patch_9\">\n    <path d=\"M 450.91629 166.89037 \nL 453.749397 166.89037 \nL 453.749397 155.015256 \nL 450.91629 155.015256 \nz\n\" clip-path=\"url(#p3cf369bcec)\" style=\"fill: #ff0000; opacity: 0.25\"/>\n   </g>\n   <g id=\"patch_10\">\n    <path d=\"M 513.874228 155.015469 \nL 516.707335 155.015469 \nL 516.707335 121.830293 \nL 513.874228 121.830293 \nz\n\" clip-path=\"url(#p3cf369bcec)\" style=\"fill: #ff0000; opacity: 0.25\"/>\n   </g>\n   <g id=\"patch_11\">\n    <path d=\"M 576.832165 143.140567 \nL 579.665273 143.140567 \nL 579.665273 130.724235 \nL 576.832165 130.724235 \nz\n\" clip-path=\"url(#p3cf369bcec)\" style=\"fill: #ff0000; opacity: 0.25\"/>\n   </g>\n   <g id=\"patch_12\">\n    <path d=\"M 639.790103 131.265665 \nL 642.62321 131.265665 \nL 642.62321 136.354366 \nL 639.790103 136.354366 \nz\n\" clip-path=\"url(#p3cf369bcec)\" style=\"fill: #ff0000; opacity: 0.25\"/>\n   </g>\n   <g id=\"PathCollection_1\">\n    <defs>\n     <path id=\"ma63a4d4117\" d=\"M 0 5 \nC 1.326016 5 2.597899 4.473168 3.535534 3.535534 \nC 4.473168 2.597899 5 1.326016 5 0 \nC 5 -1.326016 4.473168 -2.597899 3.535534 -3.535534 \nC 2.597899 -4.473168 1.326016 -5 0 -5 \nC -1.326016 -5 -2.597899 -4.473168 -3.535534 -3.535534 \nC -4.473168 -2.597899 -5 -1.326016 -5 0 \nC -5 1.326016 -4.473168 2.597899 -3.535534 3.535534 \nC -2.597899 4.473168 -1.326016 5 0 5 \nz\n\" style=\"stroke: #008000; stroke-width: 0.5\"/>\n    </defs>\n    <g clip-path=\"url(#p3cf369bcec)\">\n     <use xlink:href=\"#ma63a4d4117\" x=\"74.585218\" y=\"203.791773\" style=\"fill: #008000; stroke: #008000; stroke-width: 0.5\"/>\n     <use xlink:href=\"#ma63a4d4117\" x=\"137.543156\" y=\"220.949611\" style=\"fill: #008000; stroke: #008000; stroke-width: 0.5\"/>\n     <use xlink:href=\"#ma63a4d4117\" x=\"200.501094\" y=\"232.220092\" style=\"fill: #008000; stroke: #008000; stroke-width: 0.5\"/>\n     <use xlink:href=\"#ma63a4d4117\" x=\"263.459031\" y=\"228.754303\" style=\"fill: #008000; stroke: #008000; stroke-width: 0.5\"/>\n     <use xlink:href=\"#ma63a4d4117\" x=\"326.416969\" y=\"207.34797\" style=\"fill: #008000; stroke: #008000; stroke-width: 0.5\"/>\n     <use xlink:href=\"#ma63a4d4117\" x=\"389.374906\" y=\"211.190395\" style=\"fill: #008000; stroke: #008000; stroke-width: 0.5\"/>\n     <use xlink:href=\"#ma63a4d4117\" x=\"452.332844\" y=\"155.015256\" style=\"fill: #008000; stroke: #008000; stroke-width: 0.5\"/>\n     <use xlink:href=\"#ma63a4d4117\" x=\"515.290781\" y=\"121.830293\" style=\"fill: #008000; stroke: #008000; stroke-width: 0.5\"/>\n     <use xlink:href=\"#ma63a4d4117\" x=\"578.248719\" y=\"130.724235\" style=\"fill: #008000; stroke: #008000; stroke-width: 0.5\"/>\n     <use xlink:href=\"#ma63a4d4117\" x=\"641.206657\" y=\"136.354366\" style=\"fill: #008000; stroke: #008000; stroke-width: 0.5\"/>\n    </g>\n   </g>\n   <g id=\"line2d_31\">\n    <path d=\"M 74.585218 238.139781 \nL 137.543156 226.264879 \nL 200.501094 214.389977 \nL 263.459031 202.515076 \nL 326.416969 190.640174 \nL 389.374906 178.765272 \nL 452.332844 166.89037 \nL 515.290781 155.015469 \nL 578.248719 143.140567 \nL 641.206657 131.265665 \n\" clip-path=\"url(#p3cf369bcec)\" style=\"fill: none; stroke-dasharray: 14.8,6.4; stroke-dashoffset: 0; stroke: #008fd5; stroke-width: 4\"/>\n   </g>\n   <g id=\"patch_13\">\n    <path d=\"M 44.695937 378.43845 \nL 44.695937 28.51845 \n\" style=\"fill: none; stroke: #f0f0f0; stroke-width: 3; stroke-linejoin: miter; stroke-linecap: square\"/>\n   </g>\n   <g id=\"patch_14\">\n    <path d=\"M 671.095937 378.43845 \nL 671.095937 28.51845 \n\" style=\"fill: none; stroke: #f0f0f0; stroke-width: 3; stroke-linejoin: miter; stroke-linecap: square\"/>\n   </g>\n   <g id=\"patch_15\">\n    <path d=\"M 44.695937 378.43845 \nL 671.095937 378.43845 \n\" style=\"fill: none; stroke: #f0f0f0; stroke-width: 3; stroke-linejoin: miter; stroke-linecap: square\"/>\n   </g>\n   <g id=\"patch_16\">\n    <path d=\"M 44.695937 28.51845 \nL 671.095937 28.51845 \n\" style=\"fill: none; stroke: #f0f0f0; stroke-width: 3; stroke-linejoin: miter; stroke-linecap: square\"/>\n   </g>\n   <g id=\"text_16\">\n    <!-- Iteration 50 -->\n    <g transform=\"translate(299.109062 22.51845) scale(0.2016 -0.2016)\">\n     <defs>\n      <path id=\"DejaVuSans-49\" d=\"M 628 4666 \nL 1259 4666 \nL 1259 0 \nL 628 0 \nL 628 4666 \nz\n\" transform=\"scale(0.015625)\"/>\n      <path id=\"DejaVuSans-74\" d=\"M 1172 4494 \nL 1172 3500 \nL 2356 3500 \nL 2356 3053 \nL 1172 3053 \nL 1172 1153 \nQ 1172 725 1289 603 \nQ 1406 481 1766 481 \nL 2356 481 \nL 2356 0 \nL 1766 0 \nQ 1100 0 847 248 \nQ 594 497 594 1153 \nL 594 3053 \nL 172 3053 \nL 172 3500 \nL 594 3500 \nL 594 4494 \nL 1172 4494 \nz\n\" transform=\"scale(0.015625)\"/>\n      <path id=\"DejaVuSans-65\" d=\"M 3597 1894 \nL 3597 1613 \nL 953 1613 \nQ 991 1019 1311 708 \nQ 1631 397 2203 397 \nQ 2534 397 2845 478 \nQ 3156 559 3463 722 \nL 3463 178 \nQ 3153 47 2828 -22 \nQ 2503 -91 2169 -91 \nQ 1331 -91 842 396 \nQ 353 884 353 1716 \nQ 353 2575 817 3079 \nQ 1281 3584 2069 3584 \nQ 2775 3584 3186 3129 \nQ 3597 2675 3597 1894 \nz\nM 3022 2063 \nQ 3016 2534 2758 2815 \nQ 2500 3097 2075 3097 \nQ 1594 3097 1305 2825 \nQ 1016 2553 972 2059 \nL 3022 2063 \nz\n\" transform=\"scale(0.015625)\"/>\n      <path id=\"DejaVuSans-72\" d=\"M 2631 2963 \nQ 2534 3019 2420 3045 \nQ 2306 3072 2169 3072 \nQ 1681 3072 1420 2755 \nQ 1159 2438 1159 1844 \nL 1159 0 \nL 581 0 \nL 581 3500 \nL 1159 3500 \nL 1159 2956 \nQ 1341 3275 1631 3429 \nQ 1922 3584 2338 3584 \nQ 2397 3584 2469 3576 \nQ 2541 3569 2628 3553 \nL 2631 2963 \nz\n\" transform=\"scale(0.015625)\"/>\n      <path id=\"DejaVuSans-61\" d=\"M 2194 1759 \nQ 1497 1759 1228 1600 \nQ 959 1441 959 1056 \nQ 959 750 1161 570 \nQ 1363 391 1709 391 \nQ 2188 391 2477 730 \nQ 2766 1069 2766 1631 \nL 2766 1759 \nL 2194 1759 \nz\nM 3341 1997 \nL 3341 0 \nL 2766 0 \nL 2766 531 \nQ 2569 213 2275 61 \nQ 1981 -91 1556 -91 \nQ 1019 -91 701 211 \nQ 384 513 384 1019 \nQ 384 1609 779 1909 \nQ 1175 2209 1959 2209 \nL 2766 2209 \nL 2766 2266 \nQ 2766 2663 2505 2880 \nQ 2244 3097 1772 3097 \nQ 1472 3097 1187 3025 \nQ 903 2953 641 2809 \nL 641 3341 \nQ 956 3463 1253 3523 \nQ 1550 3584 1831 3584 \nQ 2591 3584 2966 3190 \nQ 3341 2797 3341 1997 \nz\n\" transform=\"scale(0.015625)\"/>\n      <path id=\"DejaVuSans-69\" d=\"M 603 3500 \nL 1178 3500 \nL 1178 0 \nL 603 0 \nL 603 3500 \nz\nM 603 4863 \nL 1178 4863 \nL 1178 4134 \nL 603 4134 \nL 603 4863 \nz\n\" transform=\"scale(0.015625)\"/>\n      <path id=\"DejaVuSans-6f\" d=\"M 1959 3097 \nQ 1497 3097 1228 2736 \nQ 959 2375 959 1747 \nQ 959 1119 1226 758 \nQ 1494 397 1959 397 \nQ 2419 397 2687 759 \nQ 2956 1122 2956 1747 \nQ 2956 2369 2687 2733 \nQ 2419 3097 1959 3097 \nz\nM 1959 3584 \nQ 2709 3584 3137 3096 \nQ 3566 2609 3566 1747 \nQ 3566 888 3137 398 \nQ 2709 -91 1959 -91 \nQ 1206 -91 779 398 \nQ 353 888 353 1747 \nQ 353 2609 779 3096 \nQ 1206 3584 1959 3584 \nz\n\" transform=\"scale(0.015625)\"/>\n      <path id=\"DejaVuSans-6e\" d=\"M 3513 2113 \nL 3513 0 \nL 2938 0 \nL 2938 2094 \nQ 2938 2591 2744 2837 \nQ 2550 3084 2163 3084 \nQ 1697 3084 1428 2787 \nQ 1159 2491 1159 1978 \nL 1159 0 \nL 581 0 \nL 581 3500 \nL 1159 3500 \nL 1159 2956 \nQ 1366 3272 1645 3428 \nQ 1925 3584 2291 3584 \nQ 2894 3584 3203 3211 \nQ 3513 2838 3513 2113 \nz\n\" transform=\"scale(0.015625)\"/>\n      <path id=\"DejaVuSans-20\" transform=\"scale(0.015625)\"/>\n     </defs>\n     <use xlink:href=\"#DejaVuSans-49\"/>\n     <use xlink:href=\"#DejaVuSans-74\" x=\"29.492188\"/>\n     <use xlink:href=\"#DejaVuSans-65\" x=\"68.701172\"/>\n     <use xlink:href=\"#DejaVuSans-72\" x=\"130.224609\"/>\n     <use xlink:href=\"#DejaVuSans-61\" x=\"171.337891\"/>\n     <use xlink:href=\"#DejaVuSans-74\" x=\"232.617188\"/>\n     <use xlink:href=\"#DejaVuSans-69\" x=\"271.826172\"/>\n     <use xlink:href=\"#DejaVuSans-6f\" x=\"299.609375\"/>\n     <use xlink:href=\"#DejaVuSans-6e\" x=\"360.791016\"/>\n     <use xlink:href=\"#DejaVuSans-20\" x=\"424.169922\"/>\n     <use xlink:href=\"#DejaVuSans-35\" x=\"455.957031\"/>\n     <use xlink:href=\"#DejaVuSans-30\" x=\"519.580078\"/>\n    </g>\n   </g>\n   <g id=\"legend_1\">\n    <g id=\"patch_17\">\n     <path d=\"M 485.388125 101.366575 \nL 661.295938 101.366575 \nQ 664.095937 101.366575 664.095937 98.566575 \nL 664.095937 38.31845 \nQ 664.095937 35.51845 661.295938 35.51845 \nL 485.388125 35.51845 \nQ 482.588125 35.51845 482.588125 38.31845 \nL 482.588125 98.566575 \nQ 482.588125 101.366575 485.388125 101.366575 \nz\n\" style=\"fill: #f0f0f0; opacity: 0.8; stroke: #cccccc; stroke-width: 0.5; stroke-linejoin: miter\"/>\n    </g>\n    <g id=\"patch_18\">\n     <path d=\"M 488.188125 51.756262 \nL 516.188125 51.756262 \nL 516.188125 41.956262 \nL 488.188125 41.956262 \nz\n\" style=\"fill: #ff0000; fill-opacity: 0.25; stroke: #ff0000; stroke-opacity: 0.25; stroke-width: 0.5; stroke-linejoin: miter\"/>\n    </g>\n    <g id=\"text_17\">\n     <!-- Error (MSE = 0.03) -->\n     <g transform=\"translate(527.388125 51.756262) scale(0.14 -0.14)\">\n      <defs>\n       <path id=\"DejaVuSans-45\" d=\"M 628 4666 \nL 3578 4666 \nL 3578 4134 \nL 1259 4134 \nL 1259 2753 \nL 3481 2753 \nL 3481 2222 \nL 1259 2222 \nL 1259 531 \nL 3634 531 \nL 3634 0 \nL 628 0 \nL 628 4666 \nz\n\" transform=\"scale(0.015625)\"/>\n       <path id=\"DejaVuSans-28\" d=\"M 1984 4856 \nQ 1566 4138 1362 3434 \nQ 1159 2731 1159 2009 \nQ 1159 1288 1364 580 \nQ 1569 -128 1984 -844 \nL 1484 -844 \nQ 1016 -109 783 600 \nQ 550 1309 550 2009 \nQ 550 2706 781 3412 \nQ 1013 4119 1484 4856 \nL 1984 4856 \nz\n\" transform=\"scale(0.015625)\"/>\n       <path id=\"DejaVuSans-4d\" d=\"M 628 4666 \nL 1569 4666 \nL 2759 1491 \nL 3956 4666 \nL 4897 4666 \nL 4897 0 \nL 4281 0 \nL 4281 4097 \nL 3078 897 \nL 2444 897 \nL 1241 4097 \nL 1241 0 \nL 628 0 \nL 628 4666 \nz\n\" transform=\"scale(0.015625)\"/>\n       <path id=\"DejaVuSans-53\" d=\"M 3425 4513 \nL 3425 3897 \nQ 3066 4069 2747 4153 \nQ 2428 4238 2131 4238 \nQ 1616 4238 1336 4038 \nQ 1056 3838 1056 3469 \nQ 1056 3159 1242 3001 \nQ 1428 2844 1947 2747 \nL 2328 2669 \nQ 3034 2534 3370 2195 \nQ 3706 1856 3706 1288 \nQ 3706 609 3251 259 \nQ 2797 -91 1919 -91 \nQ 1588 -91 1214 -16 \nQ 841 59 441 206 \nL 441 856 \nQ 825 641 1194 531 \nQ 1563 422 1919 422 \nQ 2459 422 2753 634 \nQ 3047 847 3047 1241 \nQ 3047 1584 2836 1778 \nQ 2625 1972 2144 2069 \nL 1759 2144 \nQ 1053 2284 737 2584 \nQ 422 2884 422 3419 \nQ 422 4038 858 4394 \nQ 1294 4750 2059 4750 \nQ 2388 4750 2728 4690 \nQ 3069 4631 3425 4513 \nz\n\" transform=\"scale(0.015625)\"/>\n       <path id=\"DejaVuSans-3d\" d=\"M 678 2906 \nL 4684 2906 \nL 4684 2381 \nL 678 2381 \nL 678 2906 \nz\nM 678 1631 \nL 4684 1631 \nL 4684 1100 \nL 678 1100 \nL 678 1631 \nz\n\" transform=\"scale(0.015625)\"/>\n       <path id=\"DejaVuSans-33\" d=\"M 2597 2516 \nQ 3050 2419 3304 2112 \nQ 3559 1806 3559 1356 \nQ 3559 666 3084 287 \nQ 2609 -91 1734 -91 \nQ 1441 -91 1130 -33 \nQ 819 25 488 141 \nL 488 750 \nQ 750 597 1062 519 \nQ 1375 441 1716 441 \nQ 2309 441 2620 675 \nQ 2931 909 2931 1356 \nQ 2931 1769 2642 2001 \nQ 2353 2234 1838 2234 \nL 1294 2234 \nL 1294 2753 \nL 1863 2753 \nQ 2328 2753 2575 2939 \nQ 2822 3125 2822 3475 \nQ 2822 3834 2567 4026 \nQ 2313 4219 1838 4219 \nQ 1578 4219 1281 4162 \nQ 984 4106 628 3988 \nL 628 4550 \nQ 988 4650 1302 4700 \nQ 1616 4750 1894 4750 \nQ 2613 4750 3031 4423 \nQ 3450 4097 3450 3541 \nQ 3450 3153 3228 2886 \nQ 3006 2619 2597 2516 \nz\n\" transform=\"scale(0.015625)\"/>\n       <path id=\"DejaVuSans-29\" d=\"M 513 4856 \nL 1013 4856 \nQ 1481 4119 1714 3412 \nQ 1947 2706 1947 2009 \nQ 1947 1309 1714 600 \nQ 1481 -109 1013 -844 \nL 513 -844 \nQ 928 -128 1133 580 \nQ 1338 1288 1338 2009 \nQ 1338 2731 1133 3434 \nQ 928 4138 513 4856 \nz\n\" transform=\"scale(0.015625)\"/>\n      </defs>\n      <use xlink:href=\"#DejaVuSans-45\"/>\n      <use xlink:href=\"#DejaVuSans-72\" x=\"63.183594\"/>\n      <use xlink:href=\"#DejaVuSans-72\" x=\"102.546875\"/>\n      <use xlink:href=\"#DejaVuSans-6f\" x=\"141.410156\"/>\n      <use xlink:href=\"#DejaVuSans-72\" x=\"202.591797\"/>\n      <use xlink:href=\"#DejaVuSans-20\" x=\"243.705078\"/>\n      <use xlink:href=\"#DejaVuSans-28\" x=\"275.492188\"/>\n      <use xlink:href=\"#DejaVuSans-4d\" x=\"314.505859\"/>\n      <use xlink:href=\"#DejaVuSans-53\" x=\"400.785156\"/>\n      <use xlink:href=\"#DejaVuSans-45\" x=\"464.261719\"/>\n      <use xlink:href=\"#DejaVuSans-20\" x=\"527.445312\"/>\n      <use xlink:href=\"#DejaVuSans-3d\" x=\"559.232422\"/>\n      <use xlink:href=\"#DejaVuSans-20\" x=\"643.021484\"/>\n      <use xlink:href=\"#DejaVuSans-30\" x=\"674.808594\"/>\n      <use xlink:href=\"#DejaVuSans-2e\" x=\"738.431641\"/>\n      <use xlink:href=\"#DejaVuSans-30\" x=\"770.21875\"/>\n      <use xlink:href=\"#DejaVuSans-33\" x=\"833.841797\"/>\n      <use xlink:href=\"#DejaVuSans-29\" x=\"897.464844\"/>\n     </g>\n    </g>\n    <g id=\"PathCollection_2\">\n     <g>\n      <use xlink:href=\"#ma63a4d4117\" x=\"502.188125\" y=\"68.630637\" style=\"fill: #008000; stroke: #008000; stroke-width: 0.5\"/>\n     </g>\n    </g>\n    <g id=\"text_18\">\n     <!-- Data point -->\n     <g transform=\"translate(527.388125 72.305637) scale(0.14 -0.14)\">\n      <defs>\n       <path id=\"DejaVuSans-44\" d=\"M 1259 4147 \nL 1259 519 \nL 2022 519 \nQ 2988 519 3436 956 \nQ 3884 1394 3884 2338 \nQ 3884 3275 3436 3711 \nQ 2988 4147 2022 4147 \nL 1259 4147 \nz\nM 628 4666 \nL 1925 4666 \nQ 3281 4666 3915 4102 \nQ 4550 3538 4550 2338 \nQ 4550 1131 3912 565 \nQ 3275 0 1925 0 \nL 628 0 \nL 628 4666 \nz\n\" transform=\"scale(0.015625)\"/>\n       <path id=\"DejaVuSans-70\" d=\"M 1159 525 \nL 1159 -1331 \nL 581 -1331 \nL 581 3500 \nL 1159 3500 \nL 1159 2969 \nQ 1341 3281 1617 3432 \nQ 1894 3584 2278 3584 \nQ 2916 3584 3314 3078 \nQ 3713 2572 3713 1747 \nQ 3713 922 3314 415 \nQ 2916 -91 2278 -91 \nQ 1894 -91 1617 61 \nQ 1341 213 1159 525 \nz\nM 3116 1747 \nQ 3116 2381 2855 2742 \nQ 2594 3103 2138 3103 \nQ 1681 3103 1420 2742 \nQ 1159 2381 1159 1747 \nQ 1159 1113 1420 752 \nQ 1681 391 2138 391 \nQ 2594 391 2855 752 \nQ 3116 1113 3116 1747 \nz\n\" transform=\"scale(0.015625)\"/>\n      </defs>\n      <use xlink:href=\"#DejaVuSans-44\"/>\n      <use xlink:href=\"#DejaVuSans-61\" x=\"77.001953\"/>\n      <use xlink:href=\"#DejaVuSans-74\" x=\"138.28125\"/>\n      <use xlink:href=\"#DejaVuSans-61\" x=\"177.490234\"/>\n      <use xlink:href=\"#DejaVuSans-20\" x=\"238.769531\"/>\n      <use xlink:href=\"#DejaVuSans-70\" x=\"270.556641\"/>\n      <use xlink:href=\"#DejaVuSans-6f\" x=\"334.033203\"/>\n      <use xlink:href=\"#DejaVuSans-69\" x=\"395.214844\"/>\n      <use xlink:href=\"#DejaVuSans-6e\" x=\"422.998047\"/>\n      <use xlink:href=\"#DejaVuSans-74\" x=\"486.376953\"/>\n     </g>\n    </g>\n    <g id=\"line2d_32\">\n     <path d=\"M 488.188125 87.955012 \nL 502.188125 87.955012 \nL 516.188125 87.955012 \n\" style=\"fill: none; stroke-dasharray: 14.8,6.4; stroke-dashoffset: 0; stroke: #008fd5; stroke-width: 4\"/>\n    </g>\n    <g id=\"text_19\">\n     <!-- Linear regression -->\n     <g transform=\"translate(527.388125 92.855012) scale(0.14 -0.14)\">\n      <defs>\n       <path id=\"DejaVuSans-4c\" d=\"M 628 4666 \nL 1259 4666 \nL 1259 531 \nL 3531 531 \nL 3531 0 \nL 628 0 \nL 628 4666 \nz\n\" transform=\"scale(0.015625)\"/>\n       <path id=\"DejaVuSans-67\" d=\"M 2906 1791 \nQ 2906 2416 2648 2759 \nQ 2391 3103 1925 3103 \nQ 1463 3103 1205 2759 \nQ 947 2416 947 1791 \nQ 947 1169 1205 825 \nQ 1463 481 1925 481 \nQ 2391 481 2648 825 \nQ 2906 1169 2906 1791 \nz\nM 3481 434 \nQ 3481 -459 3084 -895 \nQ 2688 -1331 1869 -1331 \nQ 1566 -1331 1297 -1286 \nQ 1028 -1241 775 -1147 \nL 775 -588 \nQ 1028 -725 1275 -790 \nQ 1522 -856 1778 -856 \nQ 2344 -856 2625 -561 \nQ 2906 -266 2906 331 \nL 2906 616 \nQ 2728 306 2450 153 \nQ 2172 0 1784 0 \nQ 1141 0 747 490 \nQ 353 981 353 1791 \nQ 353 2603 747 3093 \nQ 1141 3584 1784 3584 \nQ 2172 3584 2450 3431 \nQ 2728 3278 2906 2969 \nL 2906 3500 \nL 3481 3500 \nL 3481 434 \nz\n\" transform=\"scale(0.015625)\"/>\n       <path id=\"DejaVuSans-73\" d=\"M 2834 3397 \nL 2834 2853 \nQ 2591 2978 2328 3040 \nQ 2066 3103 1784 3103 \nQ 1356 3103 1142 2972 \nQ 928 2841 928 2578 \nQ 928 2378 1081 2264 \nQ 1234 2150 1697 2047 \nL 1894 2003 \nQ 2506 1872 2764 1633 \nQ 3022 1394 3022 966 \nQ 3022 478 2636 193 \nQ 2250 -91 1575 -91 \nQ 1294 -91 989 -36 \nQ 684 19 347 128 \nL 347 722 \nQ 666 556 975 473 \nQ 1284 391 1588 391 \nQ 1994 391 2212 530 \nQ 2431 669 2431 922 \nQ 2431 1156 2273 1281 \nQ 2116 1406 1581 1522 \nL 1381 1569 \nQ 847 1681 609 1914 \nQ 372 2147 372 2553 \nQ 372 3047 722 3315 \nQ 1072 3584 1716 3584 \nQ 2034 3584 2315 3537 \nQ 2597 3491 2834 3397 \nz\n\" transform=\"scale(0.015625)\"/>\n      </defs>\n      <use xlink:href=\"#DejaVuSans-4c\"/>\n      <use xlink:href=\"#DejaVuSans-69\" x=\"55.712891\"/>\n      <use xlink:href=\"#DejaVuSans-6e\" x=\"83.496094\"/>\n      <use xlink:href=\"#DejaVuSans-65\" x=\"146.875\"/>\n      <use xlink:href=\"#DejaVuSans-61\" x=\"208.398438\"/>\n      <use xlink:href=\"#DejaVuSans-72\" x=\"269.677734\"/>\n      <use xlink:href=\"#DejaVuSans-20\" x=\"310.791016\"/>\n      <use xlink:href=\"#DejaVuSans-72\" x=\"342.578125\"/>\n      <use xlink:href=\"#DejaVuSans-65\" x=\"381.441406\"/>\n      <use xlink:href=\"#DejaVuSans-67\" x=\"442.964844\"/>\n      <use xlink:href=\"#DejaVuSans-72\" x=\"506.441406\"/>\n      <use xlink:href=\"#DejaVuSans-65\" x=\"545.304688\"/>\n      <use xlink:href=\"#DejaVuSans-73\" x=\"606.828125\"/>\n      <use xlink:href=\"#DejaVuSans-73\" x=\"658.927734\"/>\n      <use xlink:href=\"#DejaVuSans-69\" x=\"711.027344\"/>\n      <use xlink:href=\"#DejaVuSans-6f\" x=\"738.810547\"/>\n      <use xlink:href=\"#DejaVuSans-6e\" x=\"799.992188\"/>\n     </g>\n    </g>\n   </g>\n  </g>\n </g>\n <defs>\n  <clipPath id=\"p3cf369bcec\">\n   <rect x=\"44.695937\" y=\"28.51845\" width=\"626.4\" height=\"349.92\"/>\n  </clipPath>\n </defs>\n</svg>\n"
          },
          "metadata": {}
        }
      ]
    },
    {
      "cell_type": "markdown",
      "metadata": {
        "id": "AbPqFjJXVwbp"
      },
      "source": [
        "## Linear Regression on real-world data."
      ]
    },
    {
      "cell_type": "code",
      "metadata": {
        "id": "X4JQm5RiPZWs",
        "colab": {
          "base_uri": "https://localhost:8080/"
        },
        "outputId": "73516b11-5849-4d8f-f915-6e1013e3ad85"
      },
      "source": [
        "!wget https://github.com/Harshal2894/-House-Prices-Advanced-Regression-Techniques/raw/master/train.csv"
      ],
      "execution_count": null,
      "outputs": [
        {
          "output_type": "stream",
          "name": "stdout",
          "text": [
            "--2023-05-07 13:19:45--  https://github.com/Harshal2894/-House-Prices-Advanced-Regression-Techniques/raw/master/train.csv\n",
            "Resolving github.com (github.com)... 140.82.112.3\n",
            "Connecting to github.com (github.com)|140.82.112.3|:443... connected.\n",
            "HTTP request sent, awaiting response... 302 Found\n",
            "Location: https://raw.githubusercontent.com/Harshal2894/-House-Prices-Advanced-Regression-Techniques/master/train.csv [following]\n",
            "--2023-05-07 13:19:45--  https://raw.githubusercontent.com/Harshal2894/-House-Prices-Advanced-Regression-Techniques/master/train.csv\n",
            "Resolving raw.githubusercontent.com (raw.githubusercontent.com)... 185.199.108.133, 185.199.109.133, 185.199.110.133, ...\n",
            "Connecting to raw.githubusercontent.com (raw.githubusercontent.com)|185.199.108.133|:443... connected.\n",
            "HTTP request sent, awaiting response... 200 OK\n",
            "Length: 460676 (450K) [text/plain]\n",
            "Saving to: ‘train.csv’\n",
            "\n",
            "train.csv           100%[===================>] 449.88K  --.-KB/s    in 0.04s   \n",
            "\n",
            "2023-05-07 13:19:46 (12.1 MB/s) - ‘train.csv’ saved [460676/460676]\n",
            "\n"
          ]
        }
      ]
    },
    {
      "cell_type": "code",
      "metadata": {
        "id": "hzMhE-MDPKLA",
        "colab": {
          "base_uri": "https://localhost:8080/",
          "height": 299
        },
        "outputId": "45e33b2c-0cb3-4b3a-8dde-55dcd8f961ac"
      },
      "source": [
        "df = pd.read_csv('train.csv')\n",
        "df.sample(5)"
      ],
      "execution_count": null,
      "outputs": [
        {
          "output_type": "execute_result",
          "data": {
            "text/plain": [
              "        Id  MSSubClass MSZoning  LotFrontage  LotArea Street Alley LotShape  \\\n",
              "1140  1141          20       RL         60.0     7350   Pave   NaN      Reg   \n",
              "99     100          20       RL         77.0     9320   Pave   NaN      IR1   \n",
              "813    814          20       RL         75.0     9750   Pave   NaN      Reg   \n",
              "1139  1140          30       RL         98.0     8731   Pave   NaN      IR1   \n",
              "59      60          20       RL         60.0     7200   Pave   NaN      Reg   \n",
              "\n",
              "     LandContour Utilities  ... PoolArea PoolQC  Fence MiscFeature MiscVal  \\\n",
              "1140         Lvl    AllPub  ...        0    NaN    NaN         NaN       0   \n",
              "99           Lvl    AllPub  ...        0    NaN    NaN        Shed     400   \n",
              "813          Lvl    AllPub  ...        0    NaN    NaN        Shed     500   \n",
              "1139         Lvl    AllPub  ...        0    NaN    NaN         NaN       0   \n",
              "59           Bnk    AllPub  ...        0    NaN  MnPrv         NaN       0   \n",
              "\n",
              "     MoSold YrSold  SaleType  SaleCondition  SalePrice  \n",
              "1140      6   2008       COD        Abnorml     139000  \n",
              "99        1   2010        WD         Normal     128950  \n",
              "813       4   2007       COD         Normal     157900  \n",
              "1139      5   2007        WD         Normal     144000  \n",
              "59        1   2008        WD         Normal     124900  \n",
              "\n",
              "[5 rows x 81 columns]"
            ],
            "text/html": [
              "\n",
              "  <div id=\"df-39a09fa6-69f7-4d8e-91f8-66a984ffb68b\">\n",
              "    <div class=\"colab-df-container\">\n",
              "      <div>\n",
              "<style scoped>\n",
              "    .dataframe tbody tr th:only-of-type {\n",
              "        vertical-align: middle;\n",
              "    }\n",
              "\n",
              "    .dataframe tbody tr th {\n",
              "        vertical-align: top;\n",
              "    }\n",
              "\n",
              "    .dataframe thead th {\n",
              "        text-align: right;\n",
              "    }\n",
              "</style>\n",
              "<table border=\"1\" class=\"dataframe\">\n",
              "  <thead>\n",
              "    <tr style=\"text-align: right;\">\n",
              "      <th></th>\n",
              "      <th>Id</th>\n",
              "      <th>MSSubClass</th>\n",
              "      <th>MSZoning</th>\n",
              "      <th>LotFrontage</th>\n",
              "      <th>LotArea</th>\n",
              "      <th>Street</th>\n",
              "      <th>Alley</th>\n",
              "      <th>LotShape</th>\n",
              "      <th>LandContour</th>\n",
              "      <th>Utilities</th>\n",
              "      <th>...</th>\n",
              "      <th>PoolArea</th>\n",
              "      <th>PoolQC</th>\n",
              "      <th>Fence</th>\n",
              "      <th>MiscFeature</th>\n",
              "      <th>MiscVal</th>\n",
              "      <th>MoSold</th>\n",
              "      <th>YrSold</th>\n",
              "      <th>SaleType</th>\n",
              "      <th>SaleCondition</th>\n",
              "      <th>SalePrice</th>\n",
              "    </tr>\n",
              "  </thead>\n",
              "  <tbody>\n",
              "    <tr>\n",
              "      <th>1140</th>\n",
              "      <td>1141</td>\n",
              "      <td>20</td>\n",
              "      <td>RL</td>\n",
              "      <td>60.0</td>\n",
              "      <td>7350</td>\n",
              "      <td>Pave</td>\n",
              "      <td>NaN</td>\n",
              "      <td>Reg</td>\n",
              "      <td>Lvl</td>\n",
              "      <td>AllPub</td>\n",
              "      <td>...</td>\n",
              "      <td>0</td>\n",
              "      <td>NaN</td>\n",
              "      <td>NaN</td>\n",
              "      <td>NaN</td>\n",
              "      <td>0</td>\n",
              "      <td>6</td>\n",
              "      <td>2008</td>\n",
              "      <td>COD</td>\n",
              "      <td>Abnorml</td>\n",
              "      <td>139000</td>\n",
              "    </tr>\n",
              "    <tr>\n",
              "      <th>99</th>\n",
              "      <td>100</td>\n",
              "      <td>20</td>\n",
              "      <td>RL</td>\n",
              "      <td>77.0</td>\n",
              "      <td>9320</td>\n",
              "      <td>Pave</td>\n",
              "      <td>NaN</td>\n",
              "      <td>IR1</td>\n",
              "      <td>Lvl</td>\n",
              "      <td>AllPub</td>\n",
              "      <td>...</td>\n",
              "      <td>0</td>\n",
              "      <td>NaN</td>\n",
              "      <td>NaN</td>\n",
              "      <td>Shed</td>\n",
              "      <td>400</td>\n",
              "      <td>1</td>\n",
              "      <td>2010</td>\n",
              "      <td>WD</td>\n",
              "      <td>Normal</td>\n",
              "      <td>128950</td>\n",
              "    </tr>\n",
              "    <tr>\n",
              "      <th>813</th>\n",
              "      <td>814</td>\n",
              "      <td>20</td>\n",
              "      <td>RL</td>\n",
              "      <td>75.0</td>\n",
              "      <td>9750</td>\n",
              "      <td>Pave</td>\n",
              "      <td>NaN</td>\n",
              "      <td>Reg</td>\n",
              "      <td>Lvl</td>\n",
              "      <td>AllPub</td>\n",
              "      <td>...</td>\n",
              "      <td>0</td>\n",
              "      <td>NaN</td>\n",
              "      <td>NaN</td>\n",
              "      <td>Shed</td>\n",
              "      <td>500</td>\n",
              "      <td>4</td>\n",
              "      <td>2007</td>\n",
              "      <td>COD</td>\n",
              "      <td>Normal</td>\n",
              "      <td>157900</td>\n",
              "    </tr>\n",
              "    <tr>\n",
              "      <th>1139</th>\n",
              "      <td>1140</td>\n",
              "      <td>30</td>\n",
              "      <td>RL</td>\n",
              "      <td>98.0</td>\n",
              "      <td>8731</td>\n",
              "      <td>Pave</td>\n",
              "      <td>NaN</td>\n",
              "      <td>IR1</td>\n",
              "      <td>Lvl</td>\n",
              "      <td>AllPub</td>\n",
              "      <td>...</td>\n",
              "      <td>0</td>\n",
              "      <td>NaN</td>\n",
              "      <td>NaN</td>\n",
              "      <td>NaN</td>\n",
              "      <td>0</td>\n",
              "      <td>5</td>\n",
              "      <td>2007</td>\n",
              "      <td>WD</td>\n",
              "      <td>Normal</td>\n",
              "      <td>144000</td>\n",
              "    </tr>\n",
              "    <tr>\n",
              "      <th>59</th>\n",
              "      <td>60</td>\n",
              "      <td>20</td>\n",
              "      <td>RL</td>\n",
              "      <td>60.0</td>\n",
              "      <td>7200</td>\n",
              "      <td>Pave</td>\n",
              "      <td>NaN</td>\n",
              "      <td>Reg</td>\n",
              "      <td>Bnk</td>\n",
              "      <td>AllPub</td>\n",
              "      <td>...</td>\n",
              "      <td>0</td>\n",
              "      <td>NaN</td>\n",
              "      <td>MnPrv</td>\n",
              "      <td>NaN</td>\n",
              "      <td>0</td>\n",
              "      <td>1</td>\n",
              "      <td>2008</td>\n",
              "      <td>WD</td>\n",
              "      <td>Normal</td>\n",
              "      <td>124900</td>\n",
              "    </tr>\n",
              "  </tbody>\n",
              "</table>\n",
              "<p>5 rows × 81 columns</p>\n",
              "</div>\n",
              "      <button class=\"colab-df-convert\" onclick=\"convertToInteractive('df-39a09fa6-69f7-4d8e-91f8-66a984ffb68b')\"\n",
              "              title=\"Convert this dataframe to an interactive table.\"\n",
              "              style=\"display:none;\">\n",
              "        \n",
              "  <svg xmlns=\"http://www.w3.org/2000/svg\" height=\"24px\"viewBox=\"0 0 24 24\"\n",
              "       width=\"24px\">\n",
              "    <path d=\"M0 0h24v24H0V0z\" fill=\"none\"/>\n",
              "    <path d=\"M18.56 5.44l.94 2.06.94-2.06 2.06-.94-2.06-.94-.94-2.06-.94 2.06-2.06.94zm-11 1L8.5 8.5l.94-2.06 2.06-.94-2.06-.94L8.5 2.5l-.94 2.06-2.06.94zm10 10l.94 2.06.94-2.06 2.06-.94-2.06-.94-.94-2.06-.94 2.06-2.06.94z\"/><path d=\"M17.41 7.96l-1.37-1.37c-.4-.4-.92-.59-1.43-.59-.52 0-1.04.2-1.43.59L10.3 9.45l-7.72 7.72c-.78.78-.78 2.05 0 2.83L4 21.41c.39.39.9.59 1.41.59.51 0 1.02-.2 1.41-.59l7.78-7.78 2.81-2.81c.8-.78.8-2.07 0-2.86zM5.41 20L4 18.59l7.72-7.72 1.47 1.35L5.41 20z\"/>\n",
              "  </svg>\n",
              "      </button>\n",
              "      \n",
              "  <style>\n",
              "    .colab-df-container {\n",
              "      display:flex;\n",
              "      flex-wrap:wrap;\n",
              "      gap: 12px;\n",
              "    }\n",
              "\n",
              "    .colab-df-convert {\n",
              "      background-color: #E8F0FE;\n",
              "      border: none;\n",
              "      border-radius: 50%;\n",
              "      cursor: pointer;\n",
              "      display: none;\n",
              "      fill: #1967D2;\n",
              "      height: 32px;\n",
              "      padding: 0 0 0 0;\n",
              "      width: 32px;\n",
              "    }\n",
              "\n",
              "    .colab-df-convert:hover {\n",
              "      background-color: #E2EBFA;\n",
              "      box-shadow: 0px 1px 2px rgba(60, 64, 67, 0.3), 0px 1px 3px 1px rgba(60, 64, 67, 0.15);\n",
              "      fill: #174EA6;\n",
              "    }\n",
              "\n",
              "    [theme=dark] .colab-df-convert {\n",
              "      background-color: #3B4455;\n",
              "      fill: #D2E3FC;\n",
              "    }\n",
              "\n",
              "    [theme=dark] .colab-df-convert:hover {\n",
              "      background-color: #434B5C;\n",
              "      box-shadow: 0px 1px 3px 1px rgba(0, 0, 0, 0.15);\n",
              "      filter: drop-shadow(0px 1px 2px rgba(0, 0, 0, 0.3));\n",
              "      fill: #FFFFFF;\n",
              "    }\n",
              "  </style>\n",
              "\n",
              "      <script>\n",
              "        const buttonEl =\n",
              "          document.querySelector('#df-39a09fa6-69f7-4d8e-91f8-66a984ffb68b button.colab-df-convert');\n",
              "        buttonEl.style.display =\n",
              "          google.colab.kernel.accessAllowed ? 'block' : 'none';\n",
              "\n",
              "        async function convertToInteractive(key) {\n",
              "          const element = document.querySelector('#df-39a09fa6-69f7-4d8e-91f8-66a984ffb68b');\n",
              "          const dataTable =\n",
              "            await google.colab.kernel.invokeFunction('convertToInteractive',\n",
              "                                                     [key], {});\n",
              "          if (!dataTable) return;\n",
              "\n",
              "          const docLinkHtml = 'Like what you see? Visit the ' +\n",
              "            '<a target=\"_blank\" href=https://colab.research.google.com/notebooks/data_table.ipynb>data table notebook</a>'\n",
              "            + ' to learn more about interactive tables.';\n",
              "          element.innerHTML = '';\n",
              "          dataTable['output_type'] = 'display_data';\n",
              "          await google.colab.output.renderOutput(dataTable, element);\n",
              "          const docLink = document.createElement('div');\n",
              "          docLink.innerHTML = docLinkHtml;\n",
              "          element.appendChild(docLink);\n",
              "        }\n",
              "      </script>\n",
              "    </div>\n",
              "  </div>\n",
              "  "
            ]
          },
          "metadata": {},
          "execution_count": 9
        }
      ]
    },
    {
      "cell_type": "code",
      "metadata": {
        "id": "S2zP9Oi8ReFz",
        "colab": {
          "base_uri": "https://localhost:8080/",
          "height": 547
        },
        "outputId": "7ad7b570-e631-4e3e-95ab-35469dadb0ba"
      },
      "source": [
        "df.SalePrice.plot.hist(bins=100)"
      ],
      "execution_count": null,
      "outputs": [
        {
          "output_type": "execute_result",
          "data": {
            "text/plain": [
              "<Axes: ylabel='Frequency'>"
            ]
          },
          "metadata": {},
          "execution_count": 10
        },
        {
          "output_type": "display_data",
          "data": {
            "text/plain": [
              "<Figure size 1000x600 with 1 Axes>"
            ],
            "image/svg+xml": "<?xml version=\"1.0\" encoding=\"utf-8\" standalone=\"no\"?>\n<!DOCTYPE svg PUBLIC \"-//W3C//DTD SVG 1.1//EN\"\n  \"http://www.w3.org/Graphics/SVG/1.1/DTD/svg11.dtd\">\n<svg xmlns:xlink=\"http://www.w3.org/1999/xlink\" width=\"682.37425pt\" height=\"381.369375pt\" viewBox=\"0 0 682.37425 381.369375\" xmlns=\"http://www.w3.org/2000/svg\" version=\"1.1\">\n <metadata>\n  <rdf:RDF xmlns:dc=\"http://purl.org/dc/elements/1.1/\" xmlns:cc=\"http://creativecommons.org/ns#\" xmlns:rdf=\"http://www.w3.org/1999/02/22-rdf-syntax-ns#\">\n   <cc:Work>\n    <dc:type rdf:resource=\"http://purl.org/dc/dcmitype/StillImage\"/>\n    <dc:date>2023-05-07T13:19:46.788559</dc:date>\n    <dc:format>image/svg+xml</dc:format>\n    <dc:creator>\n     <cc:Agent>\n      <dc:title>Matplotlib v3.7.1, https://matplotlib.org/</dc:title>\n     </cc:Agent>\n    </dc:creator>\n   </cc:Work>\n  </rdf:RDF>\n </metadata>\n <defs>\n  <style type=\"text/css\">*{stroke-linejoin: round; stroke-linecap: butt}</style>\n </defs>\n <g id=\"figure_1\">\n  <g id=\"patch_1\">\n   <path d=\"M 0 381.369375 \nL 682.37425 381.369375 \nL 682.37425 0 \nL 0 0 \nz\n\" style=\"fill: #f0f0f0\"/>\n  </g>\n  <g id=\"axes_1\">\n   <g id=\"patch_2\">\n    <path d=\"M 48.77425 357.12 \nL 675.17425 357.12 \nL 675.17425 7.2 \nL 48.77425 7.2 \nz\n\" style=\"fill: #f0f0f0\"/>\n   </g>\n   <g id=\"matplotlib.axis_1\">\n    <g id=\"xtick_1\">\n     <g id=\"line2d_1\">\n      <path d=\"M 49.648083 357.12 \nL 49.648083 7.2 \n\" clip-path=\"url(#p274ca52b5b)\" style=\"fill: none; stroke: #cbcbcb\"/>\n     </g>\n     <g id=\"line2d_2\"/>\n     <g id=\"text_1\">\n      <!-- 0 -->\n      <g transform=\"translate(45.194333 371.257813) scale(0.14 -0.14)\">\n       <defs>\n        <path id=\"DejaVuSans-30\" d=\"M 2034 4250 \nQ 1547 4250 1301 3770 \nQ 1056 3291 1056 2328 \nQ 1056 1369 1301 889 \nQ 1547 409 2034 409 \nQ 2525 409 2770 889 \nQ 3016 1369 3016 2328 \nQ 3016 3291 2770 3770 \nQ 2525 4250 2034 4250 \nz\nM 2034 4750 \nQ 2819 4750 3233 4129 \nQ 3647 3509 3647 2328 \nQ 3647 1150 3233 529 \nQ 2819 -91 2034 -91 \nQ 1250 -91 836 529 \nQ 422 1150 422 2328 \nQ 422 3509 836 4129 \nQ 1250 4750 2034 4750 \nz\n\" transform=\"scale(0.015625)\"/>\n       </defs>\n       <use xlink:href=\"#DejaVuSans-30\"/>\n      </g>\n     </g>\n    </g>\n    <g id=\"xtick_2\">\n     <g id=\"line2d_3\">\n      <path d=\"M 128.728009 357.12 \nL 128.728009 7.2 \n\" clip-path=\"url(#p274ca52b5b)\" style=\"fill: none; stroke: #cbcbcb\"/>\n     </g>\n     <g id=\"line2d_4\"/>\n     <g id=\"text_2\">\n      <!-- 100000 -->\n      <g transform=\"translate(102.005509 371.257813) scale(0.14 -0.14)\">\n       <defs>\n        <path id=\"DejaVuSans-31\" d=\"M 794 531 \nL 1825 531 \nL 1825 4091 \nL 703 3866 \nL 703 4441 \nL 1819 4666 \nL 2450 4666 \nL 2450 531 \nL 3481 531 \nL 3481 0 \nL 794 0 \nL 794 531 \nz\n\" transform=\"scale(0.015625)\"/>\n       </defs>\n       <use xlink:href=\"#DejaVuSans-31\"/>\n       <use xlink:href=\"#DejaVuSans-30\" x=\"63.623047\"/>\n       <use xlink:href=\"#DejaVuSans-30\" x=\"127.246094\"/>\n       <use xlink:href=\"#DejaVuSans-30\" x=\"190.869141\"/>\n       <use xlink:href=\"#DejaVuSans-30\" x=\"254.492188\"/>\n       <use xlink:href=\"#DejaVuSans-30\" x=\"318.115234\"/>\n      </g>\n     </g>\n    </g>\n    <g id=\"xtick_3\">\n     <g id=\"line2d_5\">\n      <path d=\"M 207.807935 357.12 \nL 207.807935 7.2 \n\" clip-path=\"url(#p274ca52b5b)\" style=\"fill: none; stroke: #cbcbcb\"/>\n     </g>\n     <g id=\"line2d_6\"/>\n     <g id=\"text_3\">\n      <!-- 200000 -->\n      <g transform=\"translate(181.085435 371.257813) scale(0.14 -0.14)\">\n       <defs>\n        <path id=\"DejaVuSans-32\" d=\"M 1228 531 \nL 3431 531 \nL 3431 0 \nL 469 0 \nL 469 531 \nQ 828 903 1448 1529 \nQ 2069 2156 2228 2338 \nQ 2531 2678 2651 2914 \nQ 2772 3150 2772 3378 \nQ 2772 3750 2511 3984 \nQ 2250 4219 1831 4219 \nQ 1534 4219 1204 4116 \nQ 875 4013 500 3803 \nL 500 4441 \nQ 881 4594 1212 4672 \nQ 1544 4750 1819 4750 \nQ 2544 4750 2975 4387 \nQ 3406 4025 3406 3419 \nQ 3406 3131 3298 2873 \nQ 3191 2616 2906 2266 \nQ 2828 2175 2409 1742 \nQ 1991 1309 1228 531 \nz\n\" transform=\"scale(0.015625)\"/>\n       </defs>\n       <use xlink:href=\"#DejaVuSans-32\"/>\n       <use xlink:href=\"#DejaVuSans-30\" x=\"63.623047\"/>\n       <use xlink:href=\"#DejaVuSans-30\" x=\"127.246094\"/>\n       <use xlink:href=\"#DejaVuSans-30\" x=\"190.869141\"/>\n       <use xlink:href=\"#DejaVuSans-30\" x=\"254.492188\"/>\n       <use xlink:href=\"#DejaVuSans-30\" x=\"318.115234\"/>\n      </g>\n     </g>\n    </g>\n    <g id=\"xtick_4\">\n     <g id=\"line2d_7\">\n      <path d=\"M 286.88786 357.12 \nL 286.88786 7.2 \n\" clip-path=\"url(#p274ca52b5b)\" style=\"fill: none; stroke: #cbcbcb\"/>\n     </g>\n     <g id=\"line2d_8\"/>\n     <g id=\"text_4\">\n      <!-- 300000 -->\n      <g transform=\"translate(260.16536 371.257813) scale(0.14 -0.14)\">\n       <defs>\n        <path id=\"DejaVuSans-33\" d=\"M 2597 2516 \nQ 3050 2419 3304 2112 \nQ 3559 1806 3559 1356 \nQ 3559 666 3084 287 \nQ 2609 -91 1734 -91 \nQ 1441 -91 1130 -33 \nQ 819 25 488 141 \nL 488 750 \nQ 750 597 1062 519 \nQ 1375 441 1716 441 \nQ 2309 441 2620 675 \nQ 2931 909 2931 1356 \nQ 2931 1769 2642 2001 \nQ 2353 2234 1838 2234 \nL 1294 2234 \nL 1294 2753 \nL 1863 2753 \nQ 2328 2753 2575 2939 \nQ 2822 3125 2822 3475 \nQ 2822 3834 2567 4026 \nQ 2313 4219 1838 4219 \nQ 1578 4219 1281 4162 \nQ 984 4106 628 3988 \nL 628 4550 \nQ 988 4650 1302 4700 \nQ 1616 4750 1894 4750 \nQ 2613 4750 3031 4423 \nQ 3450 4097 3450 3541 \nQ 3450 3153 3228 2886 \nQ 3006 2619 2597 2516 \nz\n\" transform=\"scale(0.015625)\"/>\n       </defs>\n       <use xlink:href=\"#DejaVuSans-33\"/>\n       <use xlink:href=\"#DejaVuSans-30\" x=\"63.623047\"/>\n       <use xlink:href=\"#DejaVuSans-30\" x=\"127.246094\"/>\n       <use xlink:href=\"#DejaVuSans-30\" x=\"190.869141\"/>\n       <use xlink:href=\"#DejaVuSans-30\" x=\"254.492188\"/>\n       <use xlink:href=\"#DejaVuSans-30\" x=\"318.115234\"/>\n      </g>\n     </g>\n    </g>\n    <g id=\"xtick_5\">\n     <g id=\"line2d_9\">\n      <path d=\"M 365.967786 357.12 \nL 365.967786 7.2 \n\" clip-path=\"url(#p274ca52b5b)\" style=\"fill: none; stroke: #cbcbcb\"/>\n     </g>\n     <g id=\"line2d_10\"/>\n     <g id=\"text_5\">\n      <!-- 400000 -->\n      <g transform=\"translate(339.245286 371.257813) scale(0.14 -0.14)\">\n       <defs>\n        <path id=\"DejaVuSans-34\" d=\"M 2419 4116 \nL 825 1625 \nL 2419 1625 \nL 2419 4116 \nz\nM 2253 4666 \nL 3047 4666 \nL 3047 1625 \nL 3713 1625 \nL 3713 1100 \nL 3047 1100 \nL 3047 0 \nL 2419 0 \nL 2419 1100 \nL 313 1100 \nL 313 1709 \nL 2253 4666 \nz\n\" transform=\"scale(0.015625)\"/>\n       </defs>\n       <use xlink:href=\"#DejaVuSans-34\"/>\n       <use xlink:href=\"#DejaVuSans-30\" x=\"63.623047\"/>\n       <use xlink:href=\"#DejaVuSans-30\" x=\"127.246094\"/>\n       <use xlink:href=\"#DejaVuSans-30\" x=\"190.869141\"/>\n       <use xlink:href=\"#DejaVuSans-30\" x=\"254.492188\"/>\n       <use xlink:href=\"#DejaVuSans-30\" x=\"318.115234\"/>\n      </g>\n     </g>\n    </g>\n    <g id=\"xtick_6\">\n     <g id=\"line2d_11\">\n      <path d=\"M 445.047712 357.12 \nL 445.047712 7.2 \n\" clip-path=\"url(#p274ca52b5b)\" style=\"fill: none; stroke: #cbcbcb\"/>\n     </g>\n     <g id=\"line2d_12\"/>\n     <g id=\"text_6\">\n      <!-- 500000 -->\n      <g transform=\"translate(418.325212 371.257813) scale(0.14 -0.14)\">\n       <defs>\n        <path id=\"DejaVuSans-35\" d=\"M 691 4666 \nL 3169 4666 \nL 3169 4134 \nL 1269 4134 \nL 1269 2991 \nQ 1406 3038 1543 3061 \nQ 1681 3084 1819 3084 \nQ 2600 3084 3056 2656 \nQ 3513 2228 3513 1497 \nQ 3513 744 3044 326 \nQ 2575 -91 1722 -91 \nQ 1428 -91 1123 -41 \nQ 819 9 494 109 \nL 494 744 \nQ 775 591 1075 516 \nQ 1375 441 1709 441 \nQ 2250 441 2565 725 \nQ 2881 1009 2881 1497 \nQ 2881 1984 2565 2268 \nQ 2250 2553 1709 2553 \nQ 1456 2553 1204 2497 \nQ 953 2441 691 2322 \nL 691 4666 \nz\n\" transform=\"scale(0.015625)\"/>\n       </defs>\n       <use xlink:href=\"#DejaVuSans-35\"/>\n       <use xlink:href=\"#DejaVuSans-30\" x=\"63.623047\"/>\n       <use xlink:href=\"#DejaVuSans-30\" x=\"127.246094\"/>\n       <use xlink:href=\"#DejaVuSans-30\" x=\"190.869141\"/>\n       <use xlink:href=\"#DejaVuSans-30\" x=\"254.492188\"/>\n       <use xlink:href=\"#DejaVuSans-30\" x=\"318.115234\"/>\n      </g>\n     </g>\n    </g>\n    <g id=\"xtick_7\">\n     <g id=\"line2d_13\">\n      <path d=\"M 524.127638 357.12 \nL 524.127638 7.2 \n\" clip-path=\"url(#p274ca52b5b)\" style=\"fill: none; stroke: #cbcbcb\"/>\n     </g>\n     <g id=\"line2d_14\"/>\n     <g id=\"text_7\">\n      <!-- 600000 -->\n      <g transform=\"translate(497.405138 371.257813) scale(0.14 -0.14)\">\n       <defs>\n        <path id=\"DejaVuSans-36\" d=\"M 2113 2584 \nQ 1688 2584 1439 2293 \nQ 1191 2003 1191 1497 \nQ 1191 994 1439 701 \nQ 1688 409 2113 409 \nQ 2538 409 2786 701 \nQ 3034 994 3034 1497 \nQ 3034 2003 2786 2293 \nQ 2538 2584 2113 2584 \nz\nM 3366 4563 \nL 3366 3988 \nQ 3128 4100 2886 4159 \nQ 2644 4219 2406 4219 \nQ 1781 4219 1451 3797 \nQ 1122 3375 1075 2522 \nQ 1259 2794 1537 2939 \nQ 1816 3084 2150 3084 \nQ 2853 3084 3261 2657 \nQ 3669 2231 3669 1497 \nQ 3669 778 3244 343 \nQ 2819 -91 2113 -91 \nQ 1303 -91 875 529 \nQ 447 1150 447 2328 \nQ 447 3434 972 4092 \nQ 1497 4750 2381 4750 \nQ 2619 4750 2861 4703 \nQ 3103 4656 3366 4563 \nz\n\" transform=\"scale(0.015625)\"/>\n       </defs>\n       <use xlink:href=\"#DejaVuSans-36\"/>\n       <use xlink:href=\"#DejaVuSans-30\" x=\"63.623047\"/>\n       <use xlink:href=\"#DejaVuSans-30\" x=\"127.246094\"/>\n       <use xlink:href=\"#DejaVuSans-30\" x=\"190.869141\"/>\n       <use xlink:href=\"#DejaVuSans-30\" x=\"254.492188\"/>\n       <use xlink:href=\"#DejaVuSans-30\" x=\"318.115234\"/>\n      </g>\n     </g>\n    </g>\n    <g id=\"xtick_8\">\n     <g id=\"line2d_15\">\n      <path d=\"M 603.207564 357.12 \nL 603.207564 7.2 \n\" clip-path=\"url(#p274ca52b5b)\" style=\"fill: none; stroke: #cbcbcb\"/>\n     </g>\n     <g id=\"line2d_16\"/>\n     <g id=\"text_8\">\n      <!-- 700000 -->\n      <g transform=\"translate(576.485064 371.257813) scale(0.14 -0.14)\">\n       <defs>\n        <path id=\"DejaVuSans-37\" d=\"M 525 4666 \nL 3525 4666 \nL 3525 4397 \nL 1831 0 \nL 1172 0 \nL 2766 4134 \nL 525 4134 \nL 525 4666 \nz\n\" transform=\"scale(0.015625)\"/>\n       </defs>\n       <use xlink:href=\"#DejaVuSans-37\"/>\n       <use xlink:href=\"#DejaVuSans-30\" x=\"63.623047\"/>\n       <use xlink:href=\"#DejaVuSans-30\" x=\"127.246094\"/>\n       <use xlink:href=\"#DejaVuSans-30\" x=\"190.869141\"/>\n       <use xlink:href=\"#DejaVuSans-30\" x=\"254.492188\"/>\n       <use xlink:href=\"#DejaVuSans-30\" x=\"318.115234\"/>\n      </g>\n     </g>\n    </g>\n   </g>\n   <g id=\"matplotlib.axis_2\">\n    <g id=\"ytick_1\">\n     <g id=\"line2d_17\">\n      <path d=\"M 48.77425 357.12 \nL 675.17425 357.12 \n\" clip-path=\"url(#p274ca52b5b)\" style=\"fill: none; stroke: #cbcbcb\"/>\n     </g>\n     <g id=\"line2d_18\"/>\n     <g id=\"text_9\">\n      <!-- 0 -->\n      <g transform=\"translate(36.36675 362.438906) scale(0.14 -0.14)\">\n       <use xlink:href=\"#DejaVuSans-30\"/>\n      </g>\n     </g>\n    </g>\n    <g id=\"ytick_2\">\n     <g id=\"line2d_19\">\n      <path d=\"M 48.77425 284.672795 \nL 675.17425 284.672795 \n\" clip-path=\"url(#p274ca52b5b)\" style=\"fill: none; stroke: #cbcbcb\"/>\n     </g>\n     <g id=\"line2d_20\"/>\n     <g id=\"text_10\">\n      <!-- 20 -->\n      <g transform=\"translate(27.45925 289.991701) scale(0.14 -0.14)\">\n       <use xlink:href=\"#DejaVuSans-32\"/>\n       <use xlink:href=\"#DejaVuSans-30\" x=\"63.623047\"/>\n      </g>\n     </g>\n    </g>\n    <g id=\"ytick_3\">\n     <g id=\"line2d_21\">\n      <path d=\"M 48.77425 212.22559 \nL 675.17425 212.22559 \n\" clip-path=\"url(#p274ca52b5b)\" style=\"fill: none; stroke: #cbcbcb\"/>\n     </g>\n     <g id=\"line2d_22\"/>\n     <g id=\"text_11\">\n      <!-- 40 -->\n      <g transform=\"translate(27.45925 217.544496) scale(0.14 -0.14)\">\n       <use xlink:href=\"#DejaVuSans-34\"/>\n       <use xlink:href=\"#DejaVuSans-30\" x=\"63.623047\"/>\n      </g>\n     </g>\n    </g>\n    <g id=\"ytick_4\">\n     <g id=\"line2d_23\">\n      <path d=\"M 48.77425 139.778385 \nL 675.17425 139.778385 \n\" clip-path=\"url(#p274ca52b5b)\" style=\"fill: none; stroke: #cbcbcb\"/>\n     </g>\n     <g id=\"line2d_24\"/>\n     <g id=\"text_12\">\n      <!-- 60 -->\n      <g transform=\"translate(27.45925 145.097291) scale(0.14 -0.14)\">\n       <use xlink:href=\"#DejaVuSans-36\"/>\n       <use xlink:href=\"#DejaVuSans-30\" x=\"63.623047\"/>\n      </g>\n     </g>\n    </g>\n    <g id=\"ytick_5\">\n     <g id=\"line2d_25\">\n      <path d=\"M 48.77425 67.33118 \nL 675.17425 67.33118 \n\" clip-path=\"url(#p274ca52b5b)\" style=\"fill: none; stroke: #cbcbcb\"/>\n     </g>\n     <g id=\"line2d_26\"/>\n     <g id=\"text_13\">\n      <!-- 80 -->\n      <g transform=\"translate(27.45925 72.650086) scale(0.14 -0.14)\">\n       <defs>\n        <path id=\"DejaVuSans-38\" d=\"M 2034 2216 \nQ 1584 2216 1326 1975 \nQ 1069 1734 1069 1313 \nQ 1069 891 1326 650 \nQ 1584 409 2034 409 \nQ 2484 409 2743 651 \nQ 3003 894 3003 1313 \nQ 3003 1734 2745 1975 \nQ 2488 2216 2034 2216 \nz\nM 1403 2484 \nQ 997 2584 770 2862 \nQ 544 3141 544 3541 \nQ 544 4100 942 4425 \nQ 1341 4750 2034 4750 \nQ 2731 4750 3128 4425 \nQ 3525 4100 3525 3541 \nQ 3525 3141 3298 2862 \nQ 3072 2584 2669 2484 \nQ 3125 2378 3379 2068 \nQ 3634 1759 3634 1313 \nQ 3634 634 3220 271 \nQ 2806 -91 2034 -91 \nQ 1263 -91 848 271 \nQ 434 634 434 1313 \nQ 434 1759 690 2068 \nQ 947 2378 1403 2484 \nz\nM 1172 3481 \nQ 1172 3119 1398 2916 \nQ 1625 2713 2034 2713 \nQ 2441 2713 2670 2916 \nQ 2900 3119 2900 3481 \nQ 2900 3844 2670 4047 \nQ 2441 4250 2034 4250 \nQ 1625 4250 1398 4047 \nQ 1172 3844 1172 3481 \nz\n\" transform=\"scale(0.015625)\"/>\n       </defs>\n       <use xlink:href=\"#DejaVuSans-38\"/>\n       <use xlink:href=\"#DejaVuSans-30\" x=\"63.623047\"/>\n      </g>\n     </g>\n    </g>\n    <g id=\"text_14\">\n     <!-- Frequency -->\n     <g transform=\"translate(19.965375 225.553875) rotate(-90) scale(0.168 -0.168)\">\n      <defs>\n       <path id=\"DejaVuSans-46\" d=\"M 628 4666 \nL 3309 4666 \nL 3309 4134 \nL 1259 4134 \nL 1259 2759 \nL 3109 2759 \nL 3109 2228 \nL 1259 2228 \nL 1259 0 \nL 628 0 \nL 628 4666 \nz\n\" transform=\"scale(0.015625)\"/>\n       <path id=\"DejaVuSans-72\" d=\"M 2631 2963 \nQ 2534 3019 2420 3045 \nQ 2306 3072 2169 3072 \nQ 1681 3072 1420 2755 \nQ 1159 2438 1159 1844 \nL 1159 0 \nL 581 0 \nL 581 3500 \nL 1159 3500 \nL 1159 2956 \nQ 1341 3275 1631 3429 \nQ 1922 3584 2338 3584 \nQ 2397 3584 2469 3576 \nQ 2541 3569 2628 3553 \nL 2631 2963 \nz\n\" transform=\"scale(0.015625)\"/>\n       <path id=\"DejaVuSans-65\" d=\"M 3597 1894 \nL 3597 1613 \nL 953 1613 \nQ 991 1019 1311 708 \nQ 1631 397 2203 397 \nQ 2534 397 2845 478 \nQ 3156 559 3463 722 \nL 3463 178 \nQ 3153 47 2828 -22 \nQ 2503 -91 2169 -91 \nQ 1331 -91 842 396 \nQ 353 884 353 1716 \nQ 353 2575 817 3079 \nQ 1281 3584 2069 3584 \nQ 2775 3584 3186 3129 \nQ 3597 2675 3597 1894 \nz\nM 3022 2063 \nQ 3016 2534 2758 2815 \nQ 2500 3097 2075 3097 \nQ 1594 3097 1305 2825 \nQ 1016 2553 972 2059 \nL 3022 2063 \nz\n\" transform=\"scale(0.015625)\"/>\n       <path id=\"DejaVuSans-71\" d=\"M 947 1747 \nQ 947 1113 1208 752 \nQ 1469 391 1925 391 \nQ 2381 391 2643 752 \nQ 2906 1113 2906 1747 \nQ 2906 2381 2643 2742 \nQ 2381 3103 1925 3103 \nQ 1469 3103 1208 2742 \nQ 947 2381 947 1747 \nz\nM 2906 525 \nQ 2725 213 2448 61 \nQ 2172 -91 1784 -91 \nQ 1150 -91 751 415 \nQ 353 922 353 1747 \nQ 353 2572 751 3078 \nQ 1150 3584 1784 3584 \nQ 2172 3584 2448 3432 \nQ 2725 3281 2906 2969 \nL 2906 3500 \nL 3481 3500 \nL 3481 -1331 \nL 2906 -1331 \nL 2906 525 \nz\n\" transform=\"scale(0.015625)\"/>\n       <path id=\"DejaVuSans-75\" d=\"M 544 1381 \nL 544 3500 \nL 1119 3500 \nL 1119 1403 \nQ 1119 906 1312 657 \nQ 1506 409 1894 409 \nQ 2359 409 2629 706 \nQ 2900 1003 2900 1516 \nL 2900 3500 \nL 3475 3500 \nL 3475 0 \nL 2900 0 \nL 2900 538 \nQ 2691 219 2414 64 \nQ 2138 -91 1772 -91 \nQ 1169 -91 856 284 \nQ 544 659 544 1381 \nz\nM 1991 3584 \nL 1991 3584 \nz\n\" transform=\"scale(0.015625)\"/>\n       <path id=\"DejaVuSans-6e\" d=\"M 3513 2113 \nL 3513 0 \nL 2938 0 \nL 2938 2094 \nQ 2938 2591 2744 2837 \nQ 2550 3084 2163 3084 \nQ 1697 3084 1428 2787 \nQ 1159 2491 1159 1978 \nL 1159 0 \nL 581 0 \nL 581 3500 \nL 1159 3500 \nL 1159 2956 \nQ 1366 3272 1645 3428 \nQ 1925 3584 2291 3584 \nQ 2894 3584 3203 3211 \nQ 3513 2838 3513 2113 \nz\n\" transform=\"scale(0.015625)\"/>\n       <path id=\"DejaVuSans-63\" d=\"M 3122 3366 \nL 3122 2828 \nQ 2878 2963 2633 3030 \nQ 2388 3097 2138 3097 \nQ 1578 3097 1268 2742 \nQ 959 2388 959 1747 \nQ 959 1106 1268 751 \nQ 1578 397 2138 397 \nQ 2388 397 2633 464 \nQ 2878 531 3122 666 \nL 3122 134 \nQ 2881 22 2623 -34 \nQ 2366 -91 2075 -91 \nQ 1284 -91 818 406 \nQ 353 903 353 1747 \nQ 353 2603 823 3093 \nQ 1294 3584 2113 3584 \nQ 2378 3584 2631 3529 \nQ 2884 3475 3122 3366 \nz\n\" transform=\"scale(0.015625)\"/>\n       <path id=\"DejaVuSans-79\" d=\"M 2059 -325 \nQ 1816 -950 1584 -1140 \nQ 1353 -1331 966 -1331 \nL 506 -1331 \nL 506 -850 \nL 844 -850 \nQ 1081 -850 1212 -737 \nQ 1344 -625 1503 -206 \nL 1606 56 \nL 191 3500 \nL 800 3500 \nL 1894 763 \nL 2988 3500 \nL 3597 3500 \nL 2059 -325 \nz\n\" transform=\"scale(0.015625)\"/>\n      </defs>\n      <use xlink:href=\"#DejaVuSans-46\"/>\n      <use xlink:href=\"#DejaVuSans-72\" x=\"50.269531\"/>\n      <use xlink:href=\"#DejaVuSans-65\" x=\"89.132812\"/>\n      <use xlink:href=\"#DejaVuSans-71\" x=\"150.65625\"/>\n      <use xlink:href=\"#DejaVuSans-75\" x=\"214.132812\"/>\n      <use xlink:href=\"#DejaVuSans-65\" x=\"277.511719\"/>\n      <use xlink:href=\"#DejaVuSans-6e\" x=\"339.035156\"/>\n      <use xlink:href=\"#DejaVuSans-63\" x=\"402.414062\"/>\n      <use xlink:href=\"#DejaVuSans-79\" x=\"457.394531\"/>\n     </g>\n    </g>\n   </g>\n   <g id=\"patch_3\">\n    <path d=\"M 77.246977 357.12 \nL 82.941523 357.12 \nL 82.941523 339.008199 \nL 77.246977 339.008199 \nz\n\" clip-path=\"url(#p274ca52b5b)\" style=\"fill: #008fd5\"/>\n   </g>\n   <g id=\"patch_4\">\n    <path d=\"M 82.941523 357.12 \nL 88.636068 357.12 \nL 88.636068 357.12 \nL 82.941523 357.12 \nz\n\" clip-path=\"url(#p274ca52b5b)\" style=\"fill: #008fd5\"/>\n   </g>\n   <g id=\"patch_5\">\n    <path d=\"M 88.636068 357.12 \nL 94.330614 357.12 \nL 94.330614 339.008199 \nL 88.636068 339.008199 \nz\n\" clip-path=\"url(#p274ca52b5b)\" style=\"fill: #008fd5\"/>\n   </g>\n   <g id=\"patch_6\">\n    <path d=\"M 94.330614 357.12 \nL 100.025159 357.12 \nL 100.025159 335.385839 \nL 94.330614 335.385839 \nz\n\" clip-path=\"url(#p274ca52b5b)\" style=\"fill: #008fd5\"/>\n   </g>\n   <g id=\"patch_7\">\n    <path d=\"M 100.025159 357.12 \nL 105.719705 357.12 \nL 105.719705 335.385839 \nL 100.025159 335.385839 \nz\n\" clip-path=\"url(#p274ca52b5b)\" style=\"fill: #008fd5\"/>\n   </g>\n   <g id=\"patch_8\">\n    <path d=\"M 105.719705 357.12 \nL 111.41425 357.12 \nL 111.41425 331.763478 \nL 105.719705 331.763478 \nz\n\" clip-path=\"url(#p274ca52b5b)\" style=\"fill: #008fd5\"/>\n   </g>\n   <g id=\"patch_9\">\n    <path d=\"M 111.41425 357.12 \nL 117.108795 357.12 \nL 117.108795 241.204472 \nL 111.41425 241.204472 \nz\n\" clip-path=\"url(#p274ca52b5b)\" style=\"fill: #008fd5\"/>\n   </g>\n   <g id=\"patch_10\">\n    <path d=\"M 117.108795 357.12 \nL 122.803341 357.12 \nL 122.803341 252.071553 \nL 117.108795 252.071553 \nz\n\" clip-path=\"url(#p274ca52b5b)\" style=\"fill: #008fd5\"/>\n   </g>\n   <g id=\"patch_11\">\n    <path d=\"M 122.803341 357.12 \nL 128.497886 357.12 \nL 128.497886 273.805714 \nL 122.803341 273.805714 \nz\n\" clip-path=\"url(#p274ca52b5b)\" style=\"fill: #008fd5\"/>\n   </g>\n   <g id=\"patch_12\">\n    <path d=\"M 128.497886 357.12 \nL 134.192432 357.12 \nL 134.192432 230.337391 \nL 128.497886 230.337391 \nz\n\" clip-path=\"url(#p274ca52b5b)\" style=\"fill: #008fd5\"/>\n   </g>\n   <g id=\"patch_13\">\n    <path d=\"M 134.192432 357.12 \nL 139.886977 357.12 \nL 139.886977 143.400745 \nL 134.192432 143.400745 \nz\n\" clip-path=\"url(#p274ca52b5b)\" style=\"fill: #008fd5\"/>\n   </g>\n   <g id=\"patch_14\">\n    <path d=\"M 139.886977 357.12 \nL 145.581523 357.12 \nL 145.581523 114.421863 \nL 139.886977 114.421863 \nz\n\" clip-path=\"url(#p274ca52b5b)\" style=\"fill: #008fd5\"/>\n   </g>\n   <g id=\"patch_15\">\n    <path d=\"M 145.581523 357.12 \nL 151.276068 357.12 \nL 151.276068 92.687702 \nL 145.581523 92.687702 \nz\n\" clip-path=\"url(#p274ca52b5b)\" style=\"fill: #008fd5\"/>\n   </g>\n   <g id=\"patch_16\">\n    <path d=\"M 151.276068 357.12 \nL 156.970614 357.12 \nL 156.970614 23.862857 \nL 151.276068 23.862857 \nz\n\" clip-path=\"url(#p274ca52b5b)\" style=\"fill: #008fd5\"/>\n   </g>\n   <g id=\"patch_17\">\n    <path d=\"M 156.970614 357.12 \nL 162.665159 357.12 \nL 162.665159 34.729938 \nL 156.970614 34.729938 \nz\n\" clip-path=\"url(#p274ca52b5b)\" style=\"fill: #008fd5\"/>\n   </g>\n   <g id=\"patch_18\">\n    <path d=\"M 162.665159 357.12 \nL 168.359705 357.12 \nL 168.359705 27.485217 \nL 162.665159 27.485217 \nz\n\" clip-path=\"url(#p274ca52b5b)\" style=\"fill: #008fd5\"/>\n   </g>\n   <g id=\"patch_19\">\n    <path d=\"M 168.359705 357.12 \nL 174.05425 357.12 \nL 174.05425 132.533665 \nL 168.359705 132.533665 \nz\n\" clip-path=\"url(#p274ca52b5b)\" style=\"fill: #008fd5\"/>\n   </g>\n   <g id=\"patch_20\">\n    <path d=\"M 174.05425 357.12 \nL 179.748795 357.12 \nL 179.748795 139.778385 \nL 174.05425 139.778385 \nz\n\" clip-path=\"url(#p274ca52b5b)\" style=\"fill: #008fd5\"/>\n   </g>\n   <g id=\"patch_21\">\n    <path d=\"M 179.748795 357.12 \nL 185.443341 357.12 \nL 185.443341 150.645466 \nL 179.748795 150.645466 \nz\n\" clip-path=\"url(#p274ca52b5b)\" style=\"fill: #008fd5\"/>\n   </g>\n   <g id=\"patch_22\">\n    <path d=\"M 185.443341 357.12 \nL 191.137886 357.12 \nL 191.137886 92.687702 \nL 185.443341 92.687702 \nz\n\" clip-path=\"url(#p274ca52b5b)\" style=\"fill: #008fd5\"/>\n   </g>\n   <g id=\"patch_23\">\n    <path d=\"M 191.137886 357.12 \nL 196.832432 357.12 \nL 196.832432 114.421863 \nL 191.137886 114.421863 \nz\n\" clip-path=\"url(#p274ca52b5b)\" style=\"fill: #008fd5\"/>\n   </g>\n   <g id=\"patch_24\">\n    <path d=\"M 196.832432 357.12 \nL 202.526977 357.12 \nL 202.526977 161.512547 \nL 196.832432 161.512547 \nz\n\" clip-path=\"url(#p274ca52b5b)\" style=\"fill: #008fd5\"/>\n   </g>\n   <g id=\"patch_25\">\n    <path d=\"M 202.526977 357.12 \nL 208.221523 357.12 \nL 208.221523 194.113789 \nL 202.526977 194.113789 \nz\n\" clip-path=\"url(#p274ca52b5b)\" style=\"fill: #008fd5\"/>\n   </g>\n   <g id=\"patch_26\">\n    <path d=\"M 208.221523 357.12 \nL 213.916068 357.12 \nL 213.916068 237.582112 \nL 208.221523 237.582112 \nz\n\" clip-path=\"url(#p274ca52b5b)\" style=\"fill: #008fd5\"/>\n   </g>\n   <g id=\"patch_27\">\n    <path d=\"M 213.916068 357.12 \nL 219.610614 357.12 \nL 219.610614 248.449193 \nL 213.916068 248.449193 \nz\n\" clip-path=\"url(#p274ca52b5b)\" style=\"fill: #008fd5\"/>\n   </g>\n   <g id=\"patch_28\">\n    <path d=\"M 219.610614 357.12 \nL 225.305159 357.12 \nL 225.305159 244.826832 \nL 219.610614 244.826832 \nz\n\" clip-path=\"url(#p274ca52b5b)\" style=\"fill: #008fd5\"/>\n   </g>\n   <g id=\"patch_29\">\n    <path d=\"M 225.305159 357.12 \nL 230.999705 357.12 \nL 230.999705 244.826832 \nL 225.305159 244.826832 \nz\n\" clip-path=\"url(#p274ca52b5b)\" style=\"fill: #008fd5\"/>\n   </g>\n   <g id=\"patch_30\">\n    <path d=\"M 230.999705 357.12 \nL 236.69425 357.12 \nL 236.69425 237.582112 \nL 230.999705 237.582112 \nz\n\" clip-path=\"url(#p274ca52b5b)\" style=\"fill: #008fd5\"/>\n   </g>\n   <g id=\"patch_31\">\n    <path d=\"M 236.69425 357.12 \nL 242.388795 357.12 \nL 242.388795 262.938634 \nL 236.69425 262.938634 \nz\n\" clip-path=\"url(#p274ca52b5b)\" style=\"fill: #008fd5\"/>\n   </g>\n   <g id=\"patch_32\">\n    <path d=\"M 242.388795 357.12 \nL 248.083341 357.12 \nL 248.083341 273.805714 \nL 242.388795 273.805714 \nz\n\" clip-path=\"url(#p274ca52b5b)\" style=\"fill: #008fd5\"/>\n   </g>\n   <g id=\"patch_33\">\n    <path d=\"M 248.083341 357.12 \nL 253.777886 357.12 \nL 253.777886 295.539876 \nL 248.083341 295.539876 \nz\n\" clip-path=\"url(#p274ca52b5b)\" style=\"fill: #008fd5\"/>\n   </g>\n   <g id=\"patch_34\">\n    <path d=\"M 253.777886 357.12 \nL 259.472432 357.12 \nL 259.472432 288.295155 \nL 253.777886 288.295155 \nz\n\" clip-path=\"url(#p274ca52b5b)\" style=\"fill: #008fd5\"/>\n   </g>\n   <g id=\"patch_35\">\n    <path d=\"M 259.472432 357.12 \nL 265.166977 357.12 \nL 265.166977 291.917516 \nL 259.472432 291.917516 \nz\n\" clip-path=\"url(#p274ca52b5b)\" style=\"fill: #008fd5\"/>\n   </g>\n   <g id=\"patch_36\">\n    <path d=\"M 265.166977 357.12 \nL 270.861523 357.12 \nL 270.861523 291.917516 \nL 265.166977 291.917516 \nz\n\" clip-path=\"url(#p274ca52b5b)\" style=\"fill: #008fd5\"/>\n   </g>\n   <g id=\"patch_37\">\n    <path d=\"M 270.861523 357.12 \nL 276.556068 357.12 \nL 276.556068 306.406957 \nL 270.861523 306.406957 \nz\n\" clip-path=\"url(#p274ca52b5b)\" style=\"fill: #008fd5\"/>\n   </g>\n   <g id=\"patch_38\">\n    <path d=\"M 276.556068 357.12 \nL 282.250614 357.12 \nL 282.250614 317.274037 \nL 276.556068 317.274037 \nz\n\" clip-path=\"url(#p274ca52b5b)\" style=\"fill: #008fd5\"/>\n   </g>\n   <g id=\"patch_39\">\n    <path d=\"M 282.250614 357.12 \nL 287.945159 357.12 \nL 287.945159 339.008199 \nL 282.250614 339.008199 \nz\n\" clip-path=\"url(#p274ca52b5b)\" style=\"fill: #008fd5\"/>\n   </g>\n   <g id=\"patch_40\">\n    <path d=\"M 287.945159 357.12 \nL 293.639705 357.12 \nL 293.639705 328.141118 \nL 287.945159 328.141118 \nz\n\" clip-path=\"url(#p274ca52b5b)\" style=\"fill: #008fd5\"/>\n   </g>\n   <g id=\"patch_41\">\n    <path d=\"M 293.639705 357.12 \nL 299.33425 357.12 \nL 299.33425 310.029317 \nL 293.639705 310.029317 \nz\n\" clip-path=\"url(#p274ca52b5b)\" style=\"fill: #008fd5\"/>\n   </g>\n   <g id=\"patch_42\">\n    <path d=\"M 299.33425 357.12 \nL 305.028795 357.12 \nL 305.028795 313.651677 \nL 299.33425 313.651677 \nz\n\" clip-path=\"url(#p274ca52b5b)\" style=\"fill: #008fd5\"/>\n   </g>\n   <g id=\"patch_43\">\n    <path d=\"M 305.028795 357.12 \nL 310.723341 357.12 \nL 310.723341 320.896398 \nL 305.028795 320.896398 \nz\n\" clip-path=\"url(#p274ca52b5b)\" style=\"fill: #008fd5\"/>\n   </g>\n   <g id=\"patch_44\">\n    <path d=\"M 310.723341 357.12 \nL 316.417886 357.12 \nL 316.417886 335.385839 \nL 310.723341 335.385839 \nz\n\" clip-path=\"url(#p274ca52b5b)\" style=\"fill: #008fd5\"/>\n   </g>\n   <g id=\"patch_45\">\n    <path d=\"M 316.417886 357.12 \nL 322.112432 357.12 \nL 322.112432 335.385839 \nL 316.417886 335.385839 \nz\n\" clip-path=\"url(#p274ca52b5b)\" style=\"fill: #008fd5\"/>\n   </g>\n   <g id=\"patch_46\">\n    <path d=\"M 322.112432 357.12 \nL 327.806977 357.12 \nL 327.806977 339.008199 \nL 322.112432 339.008199 \nz\n\" clip-path=\"url(#p274ca52b5b)\" style=\"fill: #008fd5\"/>\n   </g>\n   <g id=\"patch_47\">\n    <path d=\"M 327.806977 357.12 \nL 333.501523 357.12 \nL 333.501523 353.49764 \nL 327.806977 353.49764 \nz\n\" clip-path=\"url(#p274ca52b5b)\" style=\"fill: #008fd5\"/>\n   </g>\n   <g id=\"patch_48\">\n    <path d=\"M 333.501523 357.12 \nL 339.196068 357.12 \nL 339.196068 346.252919 \nL 333.501523 346.252919 \nz\n\" clip-path=\"url(#p274ca52b5b)\" style=\"fill: #008fd5\"/>\n   </g>\n   <g id=\"patch_49\">\n    <path d=\"M 339.196068 357.12 \nL 344.890614 357.12 \nL 344.890614 339.008199 \nL 339.196068 339.008199 \nz\n\" clip-path=\"url(#p274ca52b5b)\" style=\"fill: #008fd5\"/>\n   </g>\n   <g id=\"patch_50\">\n    <path d=\"M 344.890614 357.12 \nL 350.585159 357.12 \nL 350.585159 335.385839 \nL 344.890614 335.385839 \nz\n\" clip-path=\"url(#p274ca52b5b)\" style=\"fill: #008fd5\"/>\n   </g>\n   <g id=\"patch_51\">\n    <path d=\"M 350.585159 357.12 \nL 356.279705 357.12 \nL 356.279705 339.008199 \nL 350.585159 339.008199 \nz\n\" clip-path=\"url(#p274ca52b5b)\" style=\"fill: #008fd5\"/>\n   </g>\n   <g id=\"patch_52\">\n    <path d=\"M 356.279705 357.12 \nL 361.97425 357.12 \nL 361.97425 342.630559 \nL 356.279705 342.630559 \nz\n\" clip-path=\"url(#p274ca52b5b)\" style=\"fill: #008fd5\"/>\n   </g>\n   <g id=\"patch_53\">\n    <path d=\"M 361.97425 357.12 \nL 367.668795 357.12 \nL 367.668795 346.252919 \nL 361.97425 346.252919 \nz\n\" clip-path=\"url(#p274ca52b5b)\" style=\"fill: #008fd5\"/>\n   </g>\n   <g id=\"patch_54\">\n    <path d=\"M 367.668795 357.12 \nL 373.363341 357.12 \nL 373.363341 349.87528 \nL 367.668795 349.87528 \nz\n\" clip-path=\"url(#p274ca52b5b)\" style=\"fill: #008fd5\"/>\n   </g>\n   <g id=\"patch_55\">\n    <path d=\"M 373.363341 357.12 \nL 379.057886 357.12 \nL 379.057886 346.252919 \nL 373.363341 346.252919 \nz\n\" clip-path=\"url(#p274ca52b5b)\" style=\"fill: #008fd5\"/>\n   </g>\n   <g id=\"patch_56\">\n    <path d=\"M 379.057886 357.12 \nL 384.752432 357.12 \nL 384.752432 353.49764 \nL 379.057886 353.49764 \nz\n\" clip-path=\"url(#p274ca52b5b)\" style=\"fill: #008fd5\"/>\n   </g>\n   <g id=\"patch_57\">\n    <path d=\"M 384.752432 357.12 \nL 390.446977 357.12 \nL 390.446977 346.252919 \nL 384.752432 346.252919 \nz\n\" clip-path=\"url(#p274ca52b5b)\" style=\"fill: #008fd5\"/>\n   </g>\n   <g id=\"patch_58\">\n    <path d=\"M 390.446977 357.12 \nL 396.141523 357.12 \nL 396.141523 353.49764 \nL 390.446977 353.49764 \nz\n\" clip-path=\"url(#p274ca52b5b)\" style=\"fill: #008fd5\"/>\n   </g>\n   <g id=\"patch_59\">\n    <path d=\"M 396.141523 357.12 \nL 401.836068 357.12 \nL 401.836068 349.87528 \nL 396.141523 349.87528 \nz\n\" clip-path=\"url(#p274ca52b5b)\" style=\"fill: #008fd5\"/>\n   </g>\n   <g id=\"patch_60\">\n    <path d=\"M 401.836068 357.12 \nL 407.530614 357.12 \nL 407.530614 349.87528 \nL 401.836068 349.87528 \nz\n\" clip-path=\"url(#p274ca52b5b)\" style=\"fill: #008fd5\"/>\n   </g>\n   <g id=\"patch_61\">\n    <path d=\"M 407.530614 357.12 \nL 413.225159 357.12 \nL 413.225159 357.12 \nL 407.530614 357.12 \nz\n\" clip-path=\"url(#p274ca52b5b)\" style=\"fill: #008fd5\"/>\n   </g>\n   <g id=\"patch_62\">\n    <path d=\"M 413.225159 357.12 \nL 418.919705 357.12 \nL 418.919705 349.87528 \nL 413.225159 349.87528 \nz\n\" clip-path=\"url(#p274ca52b5b)\" style=\"fill: #008fd5\"/>\n   </g>\n   <g id=\"patch_63\">\n    <path d=\"M 418.919705 357.12 \nL 424.61425 357.12 \nL 424.61425 357.12 \nL 418.919705 357.12 \nz\n\" clip-path=\"url(#p274ca52b5b)\" style=\"fill: #008fd5\"/>\n   </g>\n   <g id=\"patch_64\">\n    <path d=\"M 424.61425 357.12 \nL 430.308795 357.12 \nL 430.308795 353.49764 \nL 424.61425 353.49764 \nz\n\" clip-path=\"url(#p274ca52b5b)\" style=\"fill: #008fd5\"/>\n   </g>\n   <g id=\"patch_65\">\n    <path d=\"M 430.308795 357.12 \nL 436.003341 357.12 \nL 436.003341 353.49764 \nL 430.308795 353.49764 \nz\n\" clip-path=\"url(#p274ca52b5b)\" style=\"fill: #008fd5\"/>\n   </g>\n   <g id=\"patch_66\">\n    <path d=\"M 436.003341 357.12 \nL 441.697886 357.12 \nL 441.697886 357.12 \nL 436.003341 357.12 \nz\n\" clip-path=\"url(#p274ca52b5b)\" style=\"fill: #008fd5\"/>\n   </g>\n   <g id=\"patch_67\">\n    <path d=\"M 441.697886 357.12 \nL 447.392432 357.12 \nL 447.392432 353.49764 \nL 441.697886 353.49764 \nz\n\" clip-path=\"url(#p274ca52b5b)\" style=\"fill: #008fd5\"/>\n   </g>\n   <g id=\"patch_68\">\n    <path d=\"M 447.392432 357.12 \nL 453.086977 357.12 \nL 453.086977 357.12 \nL 447.392432 357.12 \nz\n\" clip-path=\"url(#p274ca52b5b)\" style=\"fill: #008fd5\"/>\n   </g>\n   <g id=\"patch_69\">\n    <path d=\"M 453.086977 357.12 \nL 458.781523 357.12 \nL 458.781523 357.12 \nL 453.086977 357.12 \nz\n\" clip-path=\"url(#p274ca52b5b)\" style=\"fill: #008fd5\"/>\n   </g>\n   <g id=\"patch_70\">\n    <path d=\"M 458.781523 357.12 \nL 464.476068 357.12 \nL 464.476068 357.12 \nL 458.781523 357.12 \nz\n\" clip-path=\"url(#p274ca52b5b)\" style=\"fill: #008fd5\"/>\n   </g>\n   <g id=\"patch_71\">\n    <path d=\"M 464.476068 357.12 \nL 470.170614 357.12 \nL 470.170614 357.12 \nL 464.476068 357.12 \nz\n\" clip-path=\"url(#p274ca52b5b)\" style=\"fill: #008fd5\"/>\n   </g>\n   <g id=\"patch_72\">\n    <path d=\"M 470.170614 357.12 \nL 475.865159 357.12 \nL 475.865159 353.49764 \nL 470.170614 353.49764 \nz\n\" clip-path=\"url(#p274ca52b5b)\" style=\"fill: #008fd5\"/>\n   </g>\n   <g id=\"patch_73\">\n    <path d=\"M 475.865159 357.12 \nL 481.559705 357.12 \nL 481.559705 357.12 \nL 475.865159 357.12 \nz\n\" clip-path=\"url(#p274ca52b5b)\" style=\"fill: #008fd5\"/>\n   </g>\n   <g id=\"patch_74\">\n    <path d=\"M 481.559705 357.12 \nL 487.25425 357.12 \nL 487.25425 357.12 \nL 481.559705 357.12 \nz\n\" clip-path=\"url(#p274ca52b5b)\" style=\"fill: #008fd5\"/>\n   </g>\n   <g id=\"patch_75\">\n    <path d=\"M 487.25425 357.12 \nL 492.948795 357.12 \nL 492.948795 349.87528 \nL 487.25425 349.87528 \nz\n\" clip-path=\"url(#p274ca52b5b)\" style=\"fill: #008fd5\"/>\n   </g>\n   <g id=\"patch_76\">\n    <path d=\"M 492.948795 357.12 \nL 498.643341 357.12 \nL 498.643341 357.12 \nL 492.948795 357.12 \nz\n\" clip-path=\"url(#p274ca52b5b)\" style=\"fill: #008fd5\"/>\n   </g>\n   <g id=\"patch_77\">\n    <path d=\"M 498.643341 357.12 \nL 504.337886 357.12 \nL 504.337886 357.12 \nL 498.643341 357.12 \nz\n\" clip-path=\"url(#p274ca52b5b)\" style=\"fill: #008fd5\"/>\n   </g>\n   <g id=\"patch_78\">\n    <path d=\"M 504.337886 357.12 \nL 510.032432 357.12 \nL 510.032432 357.12 \nL 504.337886 357.12 \nz\n\" clip-path=\"url(#p274ca52b5b)\" style=\"fill: #008fd5\"/>\n   </g>\n   <g id=\"patch_79\">\n    <path d=\"M 510.032432 357.12 \nL 515.726977 357.12 \nL 515.726977 353.49764 \nL 510.032432 353.49764 \nz\n\" clip-path=\"url(#p274ca52b5b)\" style=\"fill: #008fd5\"/>\n   </g>\n   <g id=\"patch_80\">\n    <path d=\"M 515.726977 357.12 \nL 521.421523 357.12 \nL 521.421523 357.12 \nL 515.726977 357.12 \nz\n\" clip-path=\"url(#p274ca52b5b)\" style=\"fill: #008fd5\"/>\n   </g>\n   <g id=\"patch_81\">\n    <path d=\"M 521.421523 357.12 \nL 527.116068 357.12 \nL 527.116068 357.12 \nL 521.421523 357.12 \nz\n\" clip-path=\"url(#p274ca52b5b)\" style=\"fill: #008fd5\"/>\n   </g>\n   <g id=\"patch_82\">\n    <path d=\"M 527.116068 357.12 \nL 532.810614 357.12 \nL 532.810614 357.12 \nL 527.116068 357.12 \nz\n\" clip-path=\"url(#p274ca52b5b)\" style=\"fill: #008fd5\"/>\n   </g>\n   <g id=\"patch_83\">\n    <path d=\"M 532.810614 357.12 \nL 538.505159 357.12 \nL 538.505159 353.49764 \nL 532.810614 353.49764 \nz\n\" clip-path=\"url(#p274ca52b5b)\" style=\"fill: #008fd5\"/>\n   </g>\n   <g id=\"patch_84\">\n    <path d=\"M 538.505159 357.12 \nL 544.199705 357.12 \nL 544.199705 353.49764 \nL 538.505159 353.49764 \nz\n\" clip-path=\"url(#p274ca52b5b)\" style=\"fill: #008fd5\"/>\n   </g>\n   <g id=\"patch_85\">\n    <path d=\"M 544.199705 357.12 \nL 549.89425 357.12 \nL 549.89425 357.12 \nL 544.199705 357.12 \nz\n\" clip-path=\"url(#p274ca52b5b)\" style=\"fill: #008fd5\"/>\n   </g>\n   <g id=\"patch_86\">\n    <path d=\"M 549.89425 357.12 \nL 555.588795 357.12 \nL 555.588795 357.12 \nL 549.89425 357.12 \nz\n\" clip-path=\"url(#p274ca52b5b)\" style=\"fill: #008fd5\"/>\n   </g>\n   <g id=\"patch_87\">\n    <path d=\"M 555.588795 357.12 \nL 561.283341 357.12 \nL 561.283341 357.12 \nL 555.588795 357.12 \nz\n\" clip-path=\"url(#p274ca52b5b)\" style=\"fill: #008fd5\"/>\n   </g>\n   <g id=\"patch_88\">\n    <path d=\"M 561.283341 357.12 \nL 566.977886 357.12 \nL 566.977886 357.12 \nL 561.283341 357.12 \nz\n\" clip-path=\"url(#p274ca52b5b)\" style=\"fill: #008fd5\"/>\n   </g>\n   <g id=\"patch_89\">\n    <path d=\"M 566.977886 357.12 \nL 572.672432 357.12 \nL 572.672432 357.12 \nL 566.977886 357.12 \nz\n\" clip-path=\"url(#p274ca52b5b)\" style=\"fill: #008fd5\"/>\n   </g>\n   <g id=\"patch_90\">\n    <path d=\"M 572.672432 357.12 \nL 578.366977 357.12 \nL 578.366977 357.12 \nL 572.672432 357.12 \nz\n\" clip-path=\"url(#p274ca52b5b)\" style=\"fill: #008fd5\"/>\n   </g>\n   <g id=\"patch_91\">\n    <path d=\"M 578.366977 357.12 \nL 584.061523 357.12 \nL 584.061523 357.12 \nL 578.366977 357.12 \nz\n\" clip-path=\"url(#p274ca52b5b)\" style=\"fill: #008fd5\"/>\n   </g>\n   <g id=\"patch_92\">\n    <path d=\"M 584.061523 357.12 \nL 589.756068 357.12 \nL 589.756068 357.12 \nL 584.061523 357.12 \nz\n\" clip-path=\"url(#p274ca52b5b)\" style=\"fill: #008fd5\"/>\n   </g>\n   <g id=\"patch_93\">\n    <path d=\"M 589.756068 357.12 \nL 595.450614 357.12 \nL 595.450614 357.12 \nL 589.756068 357.12 \nz\n\" clip-path=\"url(#p274ca52b5b)\" style=\"fill: #008fd5\"/>\n   </g>\n   <g id=\"patch_94\">\n    <path d=\"M 595.450614 357.12 \nL 601.145159 357.12 \nL 601.145159 357.12 \nL 595.450614 357.12 \nz\n\" clip-path=\"url(#p274ca52b5b)\" style=\"fill: #008fd5\"/>\n   </g>\n   <g id=\"patch_95\">\n    <path d=\"M 601.145159 357.12 \nL 606.839705 357.12 \nL 606.839705 357.12 \nL 601.145159 357.12 \nz\n\" clip-path=\"url(#p274ca52b5b)\" style=\"fill: #008fd5\"/>\n   </g>\n   <g id=\"patch_96\">\n    <path d=\"M 606.839705 357.12 \nL 612.53425 357.12 \nL 612.53425 357.12 \nL 606.839705 357.12 \nz\n\" clip-path=\"url(#p274ca52b5b)\" style=\"fill: #008fd5\"/>\n   </g>\n   <g id=\"patch_97\">\n    <path d=\"M 612.53425 357.12 \nL 618.228795 357.12 \nL 618.228795 357.12 \nL 612.53425 357.12 \nz\n\" clip-path=\"url(#p274ca52b5b)\" style=\"fill: #008fd5\"/>\n   </g>\n   <g id=\"patch_98\">\n    <path d=\"M 618.228795 357.12 \nL 623.923341 357.12 \nL 623.923341 357.12 \nL 618.228795 357.12 \nz\n\" clip-path=\"url(#p274ca52b5b)\" style=\"fill: #008fd5\"/>\n   </g>\n   <g id=\"patch_99\">\n    <path d=\"M 623.923341 357.12 \nL 629.617886 357.12 \nL 629.617886 357.12 \nL 623.923341 357.12 \nz\n\" clip-path=\"url(#p274ca52b5b)\" style=\"fill: #008fd5\"/>\n   </g>\n   <g id=\"patch_100\">\n    <path d=\"M 629.617886 357.12 \nL 635.312432 357.12 \nL 635.312432 357.12 \nL 629.617886 357.12 \nz\n\" clip-path=\"url(#p274ca52b5b)\" style=\"fill: #008fd5\"/>\n   </g>\n   <g id=\"patch_101\">\n    <path d=\"M 635.312432 357.12 \nL 641.006977 357.12 \nL 641.006977 353.49764 \nL 635.312432 353.49764 \nz\n\" clip-path=\"url(#p274ca52b5b)\" style=\"fill: #008fd5\"/>\n   </g>\n   <g id=\"patch_102\">\n    <path d=\"M 641.006977 357.12 \nL 646.701523 357.12 \nL 646.701523 353.49764 \nL 641.006977 353.49764 \nz\n\" clip-path=\"url(#p274ca52b5b)\" style=\"fill: #008fd5\"/>\n   </g>\n   <g id=\"patch_103\">\n    <path d=\"M 48.77425 357.12 \nL 48.77425 7.2 \n\" style=\"fill: none; stroke: #f0f0f0; stroke-width: 3; stroke-linejoin: miter; stroke-linecap: square\"/>\n   </g>\n   <g id=\"patch_104\">\n    <path d=\"M 675.17425 357.12 \nL 675.17425 7.2 \n\" style=\"fill: none; stroke: #f0f0f0; stroke-width: 3; stroke-linejoin: miter; stroke-linecap: square\"/>\n   </g>\n   <g id=\"patch_105\">\n    <path d=\"M 48.77425 357.12 \nL 675.17425 357.12 \n\" style=\"fill: none; stroke: #f0f0f0; stroke-width: 3; stroke-linejoin: miter; stroke-linecap: square\"/>\n   </g>\n   <g id=\"patch_106\">\n    <path d=\"M 48.77425 7.2 \nL 675.17425 7.2 \n\" style=\"fill: none; stroke: #f0f0f0; stroke-width: 3; stroke-linejoin: miter; stroke-linecap: square\"/>\n   </g>\n  </g>\n </g>\n <defs>\n  <clipPath id=\"p274ca52b5b\">\n   <rect x=\"48.77425\" y=\"7.2\" width=\"626.4\" height=\"349.92\"/>\n  </clipPath>\n </defs>\n</svg>\n"
          },
          "metadata": {}
        }
      ]
    },
    {
      "cell_type": "code",
      "metadata": {
        "id": "ECD5OEJyRjF9",
        "colab": {
          "base_uri": "https://localhost:8080/",
          "height": 547
        },
        "outputId": "8594e3ee-27ce-4bc0-bf30-fd7d145d84ae"
      },
      "source": [
        "target = np.log(df['SalePrice'])\n",
        "target.plot.hist()"
      ],
      "execution_count": null,
      "outputs": [
        {
          "output_type": "execute_result",
          "data": {
            "text/plain": [
              "<Axes: ylabel='Frequency'>"
            ]
          },
          "metadata": {},
          "execution_count": 11
        },
        {
          "output_type": "display_data",
          "data": {
            "text/plain": [
              "<Figure size 1000x600 with 1 Axes>"
            ],
            "image/svg+xml": "<?xml version=\"1.0\" encoding=\"utf-8\" standalone=\"no\"?>\n<!DOCTYPE svg PUBLIC \"-//W3C//DTD SVG 1.1//EN\"\n  \"http://www.w3.org/Graphics/SVG/1.1/DTD/svg11.dtd\">\n<svg xmlns:xlink=\"http://www.w3.org/1999/xlink\" width=\"691.28175pt\" height=\"381.369375pt\" viewBox=\"0 0 691.28175 381.369375\" xmlns=\"http://www.w3.org/2000/svg\" version=\"1.1\">\n <metadata>\n  <rdf:RDF xmlns:dc=\"http://purl.org/dc/elements/1.1/\" xmlns:cc=\"http://creativecommons.org/ns#\" xmlns:rdf=\"http://www.w3.org/1999/02/22-rdf-syntax-ns#\">\n   <cc:Work>\n    <dc:type rdf:resource=\"http://purl.org/dc/dcmitype/StillImage\"/>\n    <dc:date>2023-05-07T13:19:47.161143</dc:date>\n    <dc:format>image/svg+xml</dc:format>\n    <dc:creator>\n     <cc:Agent>\n      <dc:title>Matplotlib v3.7.1, https://matplotlib.org/</dc:title>\n     </cc:Agent>\n    </dc:creator>\n   </cc:Work>\n  </rdf:RDF>\n </metadata>\n <defs>\n  <style type=\"text/css\">*{stroke-linejoin: round; stroke-linecap: butt}</style>\n </defs>\n <g id=\"figure_1\">\n  <g id=\"patch_1\">\n   <path d=\"M 0 381.369375 \nL 691.28175 381.369375 \nL 691.28175 0 \nL 0 0 \nz\n\" style=\"fill: #f0f0f0\"/>\n  </g>\n  <g id=\"axes_1\">\n   <g id=\"patch_2\">\n    <path d=\"M 57.68175 357.12 \nL 684.08175 357.12 \nL 684.08175 7.2 \nL 57.68175 7.2 \nz\n\" style=\"fill: #f0f0f0\"/>\n   </g>\n   <g id=\"matplotlib.axis_1\">\n    <g id=\"xtick_1\">\n     <g id=\"line2d_1\">\n      <path d=\"M 93.519022 357.12 \nL 93.519022 7.2 \n\" clip-path=\"url(#p15cb4bcb97)\" style=\"fill: none; stroke: #cbcbcb\"/>\n     </g>\n     <g id=\"line2d_2\"/>\n     <g id=\"text_1\">\n      <!-- 10.5 -->\n      <g transform=\"translate(77.933085 371.257813) scale(0.14 -0.14)\">\n       <defs>\n        <path id=\"DejaVuSans-31\" d=\"M 794 531 \nL 1825 531 \nL 1825 4091 \nL 703 3866 \nL 703 4441 \nL 1819 4666 \nL 2450 4666 \nL 2450 531 \nL 3481 531 \nL 3481 0 \nL 794 0 \nL 794 531 \nz\n\" transform=\"scale(0.015625)\"/>\n        <path id=\"DejaVuSans-30\" d=\"M 2034 4250 \nQ 1547 4250 1301 3770 \nQ 1056 3291 1056 2328 \nQ 1056 1369 1301 889 \nQ 1547 409 2034 409 \nQ 2525 409 2770 889 \nQ 3016 1369 3016 2328 \nQ 3016 3291 2770 3770 \nQ 2525 4250 2034 4250 \nz\nM 2034 4750 \nQ 2819 4750 3233 4129 \nQ 3647 3509 3647 2328 \nQ 3647 1150 3233 529 \nQ 2819 -91 2034 -91 \nQ 1250 -91 836 529 \nQ 422 1150 422 2328 \nQ 422 3509 836 4129 \nQ 1250 4750 2034 4750 \nz\n\" transform=\"scale(0.015625)\"/>\n        <path id=\"DejaVuSans-2e\" d=\"M 684 794 \nL 1344 794 \nL 1344 0 \nL 684 0 \nL 684 794 \nz\n\" transform=\"scale(0.015625)\"/>\n        <path id=\"DejaVuSans-35\" d=\"M 691 4666 \nL 3169 4666 \nL 3169 4134 \nL 1269 4134 \nL 1269 2991 \nQ 1406 3038 1543 3061 \nQ 1681 3084 1819 3084 \nQ 2600 3084 3056 2656 \nQ 3513 2228 3513 1497 \nQ 3513 744 3044 326 \nQ 2575 -91 1722 -91 \nQ 1428 -91 1123 -41 \nQ 819 9 494 109 \nL 494 744 \nQ 775 591 1075 516 \nQ 1375 441 1709 441 \nQ 2250 441 2565 725 \nQ 2881 1009 2881 1497 \nQ 2881 1984 2565 2268 \nQ 2250 2553 1709 2553 \nQ 1456 2553 1204 2497 \nQ 953 2441 691 2322 \nL 691 4666 \nz\n\" transform=\"scale(0.015625)\"/>\n       </defs>\n       <use xlink:href=\"#DejaVuSans-31\"/>\n       <use xlink:href=\"#DejaVuSans-30\" x=\"63.623047\"/>\n       <use xlink:href=\"#DejaVuSans-2e\" x=\"127.246094\"/>\n       <use xlink:href=\"#DejaVuSans-35\" x=\"159.033203\"/>\n      </g>\n     </g>\n    </g>\n    <g id=\"xtick_2\">\n     <g id=\"line2d_3\">\n      <path d=\"M 186.136422 357.12 \nL 186.136422 7.2 \n\" clip-path=\"url(#p15cb4bcb97)\" style=\"fill: none; stroke: #cbcbcb\"/>\n     </g>\n     <g id=\"line2d_4\"/>\n     <g id=\"text_2\">\n      <!-- 11.0 -->\n      <g transform=\"translate(170.550484 371.257813) scale(0.14 -0.14)\">\n       <use xlink:href=\"#DejaVuSans-31\"/>\n       <use xlink:href=\"#DejaVuSans-31\" x=\"63.623047\"/>\n       <use xlink:href=\"#DejaVuSans-2e\" x=\"127.246094\"/>\n       <use xlink:href=\"#DejaVuSans-30\" x=\"159.033203\"/>\n      </g>\n     </g>\n    </g>\n    <g id=\"xtick_3\">\n     <g id=\"line2d_5\">\n      <path d=\"M 278.753821 357.12 \nL 278.753821 7.2 \n\" clip-path=\"url(#p15cb4bcb97)\" style=\"fill: none; stroke: #cbcbcb\"/>\n     </g>\n     <g id=\"line2d_6\"/>\n     <g id=\"text_3\">\n      <!-- 11.5 -->\n      <g transform=\"translate(263.167883 371.257813) scale(0.14 -0.14)\">\n       <use xlink:href=\"#DejaVuSans-31\"/>\n       <use xlink:href=\"#DejaVuSans-31\" x=\"63.623047\"/>\n       <use xlink:href=\"#DejaVuSans-2e\" x=\"127.246094\"/>\n       <use xlink:href=\"#DejaVuSans-35\" x=\"159.033203\"/>\n      </g>\n     </g>\n    </g>\n    <g id=\"xtick_4\">\n     <g id=\"line2d_7\">\n      <path d=\"M 371.37122 357.12 \nL 371.37122 7.2 \n\" clip-path=\"url(#p15cb4bcb97)\" style=\"fill: none; stroke: #cbcbcb\"/>\n     </g>\n     <g id=\"line2d_8\"/>\n     <g id=\"text_4\">\n      <!-- 12.0 -->\n      <g transform=\"translate(355.785283 371.257813) scale(0.14 -0.14)\">\n       <defs>\n        <path id=\"DejaVuSans-32\" d=\"M 1228 531 \nL 3431 531 \nL 3431 0 \nL 469 0 \nL 469 531 \nQ 828 903 1448 1529 \nQ 2069 2156 2228 2338 \nQ 2531 2678 2651 2914 \nQ 2772 3150 2772 3378 \nQ 2772 3750 2511 3984 \nQ 2250 4219 1831 4219 \nQ 1534 4219 1204 4116 \nQ 875 4013 500 3803 \nL 500 4441 \nQ 881 4594 1212 4672 \nQ 1544 4750 1819 4750 \nQ 2544 4750 2975 4387 \nQ 3406 4025 3406 3419 \nQ 3406 3131 3298 2873 \nQ 3191 2616 2906 2266 \nQ 2828 2175 2409 1742 \nQ 1991 1309 1228 531 \nz\n\" transform=\"scale(0.015625)\"/>\n       </defs>\n       <use xlink:href=\"#DejaVuSans-31\"/>\n       <use xlink:href=\"#DejaVuSans-32\" x=\"63.623047\"/>\n       <use xlink:href=\"#DejaVuSans-2e\" x=\"127.246094\"/>\n       <use xlink:href=\"#DejaVuSans-30\" x=\"159.033203\"/>\n      </g>\n     </g>\n    </g>\n    <g id=\"xtick_5\">\n     <g id=\"line2d_9\">\n      <path d=\"M 463.98862 357.12 \nL 463.98862 7.2 \n\" clip-path=\"url(#p15cb4bcb97)\" style=\"fill: none; stroke: #cbcbcb\"/>\n     </g>\n     <g id=\"line2d_10\"/>\n     <g id=\"text_5\">\n      <!-- 12.5 -->\n      <g transform=\"translate(448.402682 371.257813) scale(0.14 -0.14)\">\n       <use xlink:href=\"#DejaVuSans-31\"/>\n       <use xlink:href=\"#DejaVuSans-32\" x=\"63.623047\"/>\n       <use xlink:href=\"#DejaVuSans-2e\" x=\"127.246094\"/>\n       <use xlink:href=\"#DejaVuSans-35\" x=\"159.033203\"/>\n      </g>\n     </g>\n    </g>\n    <g id=\"xtick_6\">\n     <g id=\"line2d_11\">\n      <path d=\"M 556.606019 357.12 \nL 556.606019 7.2 \n\" clip-path=\"url(#p15cb4bcb97)\" style=\"fill: none; stroke: #cbcbcb\"/>\n     </g>\n     <g id=\"line2d_12\"/>\n     <g id=\"text_6\">\n      <!-- 13.0 -->\n      <g transform=\"translate(541.020081 371.257813) scale(0.14 -0.14)\">\n       <defs>\n        <path id=\"DejaVuSans-33\" d=\"M 2597 2516 \nQ 3050 2419 3304 2112 \nQ 3559 1806 3559 1356 \nQ 3559 666 3084 287 \nQ 2609 -91 1734 -91 \nQ 1441 -91 1130 -33 \nQ 819 25 488 141 \nL 488 750 \nQ 750 597 1062 519 \nQ 1375 441 1716 441 \nQ 2309 441 2620 675 \nQ 2931 909 2931 1356 \nQ 2931 1769 2642 2001 \nQ 2353 2234 1838 2234 \nL 1294 2234 \nL 1294 2753 \nL 1863 2753 \nQ 2328 2753 2575 2939 \nQ 2822 3125 2822 3475 \nQ 2822 3834 2567 4026 \nQ 2313 4219 1838 4219 \nQ 1578 4219 1281 4162 \nQ 984 4106 628 3988 \nL 628 4550 \nQ 988 4650 1302 4700 \nQ 1616 4750 1894 4750 \nQ 2613 4750 3031 4423 \nQ 3450 4097 3450 3541 \nQ 3450 3153 3228 2886 \nQ 3006 2619 2597 2516 \nz\n\" transform=\"scale(0.015625)\"/>\n       </defs>\n       <use xlink:href=\"#DejaVuSans-31\"/>\n       <use xlink:href=\"#DejaVuSans-33\" x=\"63.623047\"/>\n       <use xlink:href=\"#DejaVuSans-2e\" x=\"127.246094\"/>\n       <use xlink:href=\"#DejaVuSans-30\" x=\"159.033203\"/>\n      </g>\n     </g>\n    </g>\n    <g id=\"xtick_7\">\n     <g id=\"line2d_13\">\n      <path d=\"M 649.223418 357.12 \nL 649.223418 7.2 \n\" clip-path=\"url(#p15cb4bcb97)\" style=\"fill: none; stroke: #cbcbcb\"/>\n     </g>\n     <g id=\"line2d_14\"/>\n     <g id=\"text_7\">\n      <!-- 13.5 -->\n      <g transform=\"translate(633.637481 371.257813) scale(0.14 -0.14)\">\n       <use xlink:href=\"#DejaVuSans-31\"/>\n       <use xlink:href=\"#DejaVuSans-33\" x=\"63.623047\"/>\n       <use xlink:href=\"#DejaVuSans-2e\" x=\"127.246094\"/>\n       <use xlink:href=\"#DejaVuSans-35\" x=\"159.033203\"/>\n      </g>\n     </g>\n    </g>\n   </g>\n   <g id=\"matplotlib.axis_2\">\n    <g id=\"ytick_1\">\n     <g id=\"line2d_15\">\n      <path d=\"M 57.68175 357.12 \nL 684.08175 357.12 \n\" clip-path=\"url(#p15cb4bcb97)\" style=\"fill: none; stroke: #cbcbcb\"/>\n     </g>\n     <g id=\"line2d_16\"/>\n     <g id=\"text_8\">\n      <!-- 0 -->\n      <g transform=\"translate(45.27425 362.438906) scale(0.14 -0.14)\">\n       <use xlink:href=\"#DejaVuSans-30\"/>\n      </g>\n     </g>\n    </g>\n    <g id=\"ytick_2\">\n     <g id=\"line2d_17\">\n      <path d=\"M 57.68175 286.214225 \nL 684.08175 286.214225 \n\" clip-path=\"url(#p15cb4bcb97)\" style=\"fill: none; stroke: #cbcbcb\"/>\n     </g>\n     <g id=\"line2d_18\"/>\n     <g id=\"text_9\">\n      <!-- 100 -->\n      <g transform=\"translate(27.45925 291.533131) scale(0.14 -0.14)\">\n       <use xlink:href=\"#DejaVuSans-31\"/>\n       <use xlink:href=\"#DejaVuSans-30\" x=\"63.623047\"/>\n       <use xlink:href=\"#DejaVuSans-30\" x=\"127.246094\"/>\n      </g>\n     </g>\n    </g>\n    <g id=\"ytick_3\">\n     <g id=\"line2d_19\">\n      <path d=\"M 57.68175 215.30845 \nL 684.08175 215.30845 \n\" clip-path=\"url(#p15cb4bcb97)\" style=\"fill: none; stroke: #cbcbcb\"/>\n     </g>\n     <g id=\"line2d_20\"/>\n     <g id=\"text_10\">\n      <!-- 200 -->\n      <g transform=\"translate(27.45925 220.627356) scale(0.14 -0.14)\">\n       <use xlink:href=\"#DejaVuSans-32\"/>\n       <use xlink:href=\"#DejaVuSans-30\" x=\"63.623047\"/>\n       <use xlink:href=\"#DejaVuSans-30\" x=\"127.246094\"/>\n      </g>\n     </g>\n    </g>\n    <g id=\"ytick_4\">\n     <g id=\"line2d_21\">\n      <path d=\"M 57.68175 144.402675 \nL 684.08175 144.402675 \n\" clip-path=\"url(#p15cb4bcb97)\" style=\"fill: none; stroke: #cbcbcb\"/>\n     </g>\n     <g id=\"line2d_22\"/>\n     <g id=\"text_11\">\n      <!-- 300 -->\n      <g transform=\"translate(27.45925 149.721581) scale(0.14 -0.14)\">\n       <use xlink:href=\"#DejaVuSans-33\"/>\n       <use xlink:href=\"#DejaVuSans-30\" x=\"63.623047\"/>\n       <use xlink:href=\"#DejaVuSans-30\" x=\"127.246094\"/>\n      </g>\n     </g>\n    </g>\n    <g id=\"ytick_5\">\n     <g id=\"line2d_23\">\n      <path d=\"M 57.68175 73.4969 \nL 684.08175 73.4969 \n\" clip-path=\"url(#p15cb4bcb97)\" style=\"fill: none; stroke: #cbcbcb\"/>\n     </g>\n     <g id=\"line2d_24\"/>\n     <g id=\"text_12\">\n      <!-- 400 -->\n      <g transform=\"translate(27.45925 78.815806) scale(0.14 -0.14)\">\n       <defs>\n        <path id=\"DejaVuSans-34\" d=\"M 2419 4116 \nL 825 1625 \nL 2419 1625 \nL 2419 4116 \nz\nM 2253 4666 \nL 3047 4666 \nL 3047 1625 \nL 3713 1625 \nL 3713 1100 \nL 3047 1100 \nL 3047 0 \nL 2419 0 \nL 2419 1100 \nL 313 1100 \nL 313 1709 \nL 2253 4666 \nz\n\" transform=\"scale(0.015625)\"/>\n       </defs>\n       <use xlink:href=\"#DejaVuSans-34\"/>\n       <use xlink:href=\"#DejaVuSans-30\" x=\"63.623047\"/>\n       <use xlink:href=\"#DejaVuSans-30\" x=\"127.246094\"/>\n      </g>\n     </g>\n    </g>\n    <g id=\"text_13\">\n     <!-- Frequency -->\n     <g transform=\"translate(19.965375 225.553875) rotate(-90) scale(0.168 -0.168)\">\n      <defs>\n       <path id=\"DejaVuSans-46\" d=\"M 628 4666 \nL 3309 4666 \nL 3309 4134 \nL 1259 4134 \nL 1259 2759 \nL 3109 2759 \nL 3109 2228 \nL 1259 2228 \nL 1259 0 \nL 628 0 \nL 628 4666 \nz\n\" transform=\"scale(0.015625)\"/>\n       <path id=\"DejaVuSans-72\" d=\"M 2631 2963 \nQ 2534 3019 2420 3045 \nQ 2306 3072 2169 3072 \nQ 1681 3072 1420 2755 \nQ 1159 2438 1159 1844 \nL 1159 0 \nL 581 0 \nL 581 3500 \nL 1159 3500 \nL 1159 2956 \nQ 1341 3275 1631 3429 \nQ 1922 3584 2338 3584 \nQ 2397 3584 2469 3576 \nQ 2541 3569 2628 3553 \nL 2631 2963 \nz\n\" transform=\"scale(0.015625)\"/>\n       <path id=\"DejaVuSans-65\" d=\"M 3597 1894 \nL 3597 1613 \nL 953 1613 \nQ 991 1019 1311 708 \nQ 1631 397 2203 397 \nQ 2534 397 2845 478 \nQ 3156 559 3463 722 \nL 3463 178 \nQ 3153 47 2828 -22 \nQ 2503 -91 2169 -91 \nQ 1331 -91 842 396 \nQ 353 884 353 1716 \nQ 353 2575 817 3079 \nQ 1281 3584 2069 3584 \nQ 2775 3584 3186 3129 \nQ 3597 2675 3597 1894 \nz\nM 3022 2063 \nQ 3016 2534 2758 2815 \nQ 2500 3097 2075 3097 \nQ 1594 3097 1305 2825 \nQ 1016 2553 972 2059 \nL 3022 2063 \nz\n\" transform=\"scale(0.015625)\"/>\n       <path id=\"DejaVuSans-71\" d=\"M 947 1747 \nQ 947 1113 1208 752 \nQ 1469 391 1925 391 \nQ 2381 391 2643 752 \nQ 2906 1113 2906 1747 \nQ 2906 2381 2643 2742 \nQ 2381 3103 1925 3103 \nQ 1469 3103 1208 2742 \nQ 947 2381 947 1747 \nz\nM 2906 525 \nQ 2725 213 2448 61 \nQ 2172 -91 1784 -91 \nQ 1150 -91 751 415 \nQ 353 922 353 1747 \nQ 353 2572 751 3078 \nQ 1150 3584 1784 3584 \nQ 2172 3584 2448 3432 \nQ 2725 3281 2906 2969 \nL 2906 3500 \nL 3481 3500 \nL 3481 -1331 \nL 2906 -1331 \nL 2906 525 \nz\n\" transform=\"scale(0.015625)\"/>\n       <path id=\"DejaVuSans-75\" d=\"M 544 1381 \nL 544 3500 \nL 1119 3500 \nL 1119 1403 \nQ 1119 906 1312 657 \nQ 1506 409 1894 409 \nQ 2359 409 2629 706 \nQ 2900 1003 2900 1516 \nL 2900 3500 \nL 3475 3500 \nL 3475 0 \nL 2900 0 \nL 2900 538 \nQ 2691 219 2414 64 \nQ 2138 -91 1772 -91 \nQ 1169 -91 856 284 \nQ 544 659 544 1381 \nz\nM 1991 3584 \nL 1991 3584 \nz\n\" transform=\"scale(0.015625)\"/>\n       <path id=\"DejaVuSans-6e\" d=\"M 3513 2113 \nL 3513 0 \nL 2938 0 \nL 2938 2094 \nQ 2938 2591 2744 2837 \nQ 2550 3084 2163 3084 \nQ 1697 3084 1428 2787 \nQ 1159 2491 1159 1978 \nL 1159 0 \nL 581 0 \nL 581 3500 \nL 1159 3500 \nL 1159 2956 \nQ 1366 3272 1645 3428 \nQ 1925 3584 2291 3584 \nQ 2894 3584 3203 3211 \nQ 3513 2838 3513 2113 \nz\n\" transform=\"scale(0.015625)\"/>\n       <path id=\"DejaVuSans-63\" d=\"M 3122 3366 \nL 3122 2828 \nQ 2878 2963 2633 3030 \nQ 2388 3097 2138 3097 \nQ 1578 3097 1268 2742 \nQ 959 2388 959 1747 \nQ 959 1106 1268 751 \nQ 1578 397 2138 397 \nQ 2388 397 2633 464 \nQ 2878 531 3122 666 \nL 3122 134 \nQ 2881 22 2623 -34 \nQ 2366 -91 2075 -91 \nQ 1284 -91 818 406 \nQ 353 903 353 1747 \nQ 353 2603 823 3093 \nQ 1294 3584 2113 3584 \nQ 2378 3584 2631 3529 \nQ 2884 3475 3122 3366 \nz\n\" transform=\"scale(0.015625)\"/>\n       <path id=\"DejaVuSans-79\" d=\"M 2059 -325 \nQ 1816 -950 1584 -1140 \nQ 1353 -1331 966 -1331 \nL 506 -1331 \nL 506 -850 \nL 844 -850 \nQ 1081 -850 1212 -737 \nQ 1344 -625 1503 -206 \nL 1606 56 \nL 191 3500 \nL 800 3500 \nL 1894 763 \nL 2988 3500 \nL 3597 3500 \nL 2059 -325 \nz\n\" transform=\"scale(0.015625)\"/>\n      </defs>\n      <use xlink:href=\"#DejaVuSans-46\"/>\n      <use xlink:href=\"#DejaVuSans-72\" x=\"50.269531\"/>\n      <use xlink:href=\"#DejaVuSans-65\" x=\"89.132812\"/>\n      <use xlink:href=\"#DejaVuSans-71\" x=\"150.65625\"/>\n      <use xlink:href=\"#DejaVuSans-75\" x=\"214.132812\"/>\n      <use xlink:href=\"#DejaVuSans-65\" x=\"277.511719\"/>\n      <use xlink:href=\"#DejaVuSans-6e\" x=\"339.035156\"/>\n      <use xlink:href=\"#DejaVuSans-63\" x=\"402.414062\"/>\n      <use xlink:href=\"#DejaVuSans-79\" x=\"457.394531\"/>\n     </g>\n    </g>\n   </g>\n   <g id=\"patch_3\">\n    <path d=\"M 86.154477 357.12 \nL 143.099932 357.12 \nL 143.099932 353.574711 \nL 86.154477 353.574711 \nz\n\" clip-path=\"url(#p15cb4bcb97)\" style=\"fill: #008fd5\"/>\n   </g>\n   <g id=\"patch_4\">\n    <path d=\"M 143.099932 357.12 \nL 200.045386 357.12 \nL 200.045386 348.611307 \nL 143.099932 348.611307 \nz\n\" clip-path=\"url(#p15cb4bcb97)\" style=\"fill: #008fd5\"/>\n   </g>\n   <g id=\"patch_5\">\n    <path d=\"M 200.045386 357.12 \nL 256.990841 357.12 \nL 256.990841 318.830881 \nL 200.045386 318.830881 \nz\n\" clip-path=\"url(#p15cb4bcb97)\" style=\"fill: #008fd5\"/>\n   </g>\n   <g id=\"patch_6\">\n    <path d=\"M 256.990841 357.12 \nL 313.936295 357.12 \nL 313.936295 226.653374 \nL 256.990841 226.653374 \nz\n\" clip-path=\"url(#p15cb4bcb97)\" style=\"fill: #008fd5\"/>\n   </g>\n   <g id=\"patch_7\">\n    <path d=\"M 313.936295 357.12 \nL 370.88175 357.12 \nL 370.88175 23.862857 \nL 313.936295 23.862857 \nz\n\" clip-path=\"url(#p15cb4bcb97)\" style=\"fill: #008fd5\"/>\n   </g>\n   <g id=\"patch_8\">\n    <path d=\"M 370.88175 357.12 \nL 427.827205 357.12 \nL 427.827205 73.4969 \nL 370.88175 73.4969 \nz\n\" clip-path=\"url(#p15cb4bcb97)\" style=\"fill: #008fd5\"/>\n   </g>\n   <g id=\"patch_9\">\n    <path d=\"M 427.827205 357.12 \nL 484.772659 357.12 \nL 484.772659 201.127295 \nL 427.827205 201.127295 \nz\n\" clip-path=\"url(#p15cb4bcb97)\" style=\"fill: #008fd5\"/>\n   </g>\n   <g id=\"patch_10\">\n    <path d=\"M 484.772659 357.12 \nL 541.718114 357.12 \nL 541.718114 293.304802 \nL 484.772659 293.304802 \nz\n\" clip-path=\"url(#p15cb4bcb97)\" style=\"fill: #008fd5\"/>\n   </g>\n   <g id=\"patch_11\">\n    <path d=\"M 541.718114 357.12 \nL 598.663568 357.12 \nL 598.663568 343.647903 \nL 541.718114 343.647903 \nz\n\" clip-path=\"url(#p15cb4bcb97)\" style=\"fill: #008fd5\"/>\n   </g>\n   <g id=\"patch_12\">\n    <path d=\"M 598.663568 357.12 \nL 655.609023 357.12 \nL 655.609023 352.865653 \nL 598.663568 352.865653 \nz\n\" clip-path=\"url(#p15cb4bcb97)\" style=\"fill: #008fd5\"/>\n   </g>\n   <g id=\"patch_13\">\n    <path d=\"M 57.68175 357.12 \nL 57.68175 7.2 \n\" style=\"fill: none; stroke: #f0f0f0; stroke-width: 3; stroke-linejoin: miter; stroke-linecap: square\"/>\n   </g>\n   <g id=\"patch_14\">\n    <path d=\"M 684.08175 357.12 \nL 684.08175 7.2 \n\" style=\"fill: none; stroke: #f0f0f0; stroke-width: 3; stroke-linejoin: miter; stroke-linecap: square\"/>\n   </g>\n   <g id=\"patch_15\">\n    <path d=\"M 57.68175 357.12 \nL 684.08175 357.12 \n\" style=\"fill: none; stroke: #f0f0f0; stroke-width: 3; stroke-linejoin: miter; stroke-linecap: square\"/>\n   </g>\n   <g id=\"patch_16\">\n    <path d=\"M 57.68175 7.2 \nL 684.08175 7.2 \n\" style=\"fill: none; stroke: #f0f0f0; stroke-width: 3; stroke-linejoin: miter; stroke-linecap: square\"/>\n   </g>\n  </g>\n </g>\n <defs>\n  <clipPath id=\"p15cb4bcb97\">\n   <rect x=\"57.68175\" y=\"7.2\" width=\"626.4\" height=\"349.92\"/>\n  </clipPath>\n </defs>\n</svg>\n"
          },
          "metadata": {}
        }
      ]
    },
    {
      "cell_type": "code",
      "metadata": {
        "id": "dcIOxrsmPe6n",
        "colab": {
          "base_uri": "https://localhost:8080/",
          "height": 206
        },
        "outputId": "5458f80e-fcfd-4519-b348-59b4e1779e80"
      },
      "source": [
        "numeric_features = df[['OverallQual', 'GrLivArea']]\n",
        "numeric_features.sample(5)"
      ],
      "execution_count": null,
      "outputs": [
        {
          "output_type": "execute_result",
          "data": {
            "text/plain": [
              "      OverallQual  GrLivArea\n",
              "855             5       1040\n",
              "1243           10       2076\n",
              "1026            5       1264\n",
              "135             7       1682\n",
              "232             6        987"
            ],
            "text/html": [
              "\n",
              "  <div id=\"df-aa129b1b-ad8d-434a-a13a-f8c4e5eeab74\">\n",
              "    <div class=\"colab-df-container\">\n",
              "      <div>\n",
              "<style scoped>\n",
              "    .dataframe tbody tr th:only-of-type {\n",
              "        vertical-align: middle;\n",
              "    }\n",
              "\n",
              "    .dataframe tbody tr th {\n",
              "        vertical-align: top;\n",
              "    }\n",
              "\n",
              "    .dataframe thead th {\n",
              "        text-align: right;\n",
              "    }\n",
              "</style>\n",
              "<table border=\"1\" class=\"dataframe\">\n",
              "  <thead>\n",
              "    <tr style=\"text-align: right;\">\n",
              "      <th></th>\n",
              "      <th>OverallQual</th>\n",
              "      <th>GrLivArea</th>\n",
              "    </tr>\n",
              "  </thead>\n",
              "  <tbody>\n",
              "    <tr>\n",
              "      <th>855</th>\n",
              "      <td>5</td>\n",
              "      <td>1040</td>\n",
              "    </tr>\n",
              "    <tr>\n",
              "      <th>1243</th>\n",
              "      <td>10</td>\n",
              "      <td>2076</td>\n",
              "    </tr>\n",
              "    <tr>\n",
              "      <th>1026</th>\n",
              "      <td>5</td>\n",
              "      <td>1264</td>\n",
              "    </tr>\n",
              "    <tr>\n",
              "      <th>135</th>\n",
              "      <td>7</td>\n",
              "      <td>1682</td>\n",
              "    </tr>\n",
              "    <tr>\n",
              "      <th>232</th>\n",
              "      <td>6</td>\n",
              "      <td>987</td>\n",
              "    </tr>\n",
              "  </tbody>\n",
              "</table>\n",
              "</div>\n",
              "      <button class=\"colab-df-convert\" onclick=\"convertToInteractive('df-aa129b1b-ad8d-434a-a13a-f8c4e5eeab74')\"\n",
              "              title=\"Convert this dataframe to an interactive table.\"\n",
              "              style=\"display:none;\">\n",
              "        \n",
              "  <svg xmlns=\"http://www.w3.org/2000/svg\" height=\"24px\"viewBox=\"0 0 24 24\"\n",
              "       width=\"24px\">\n",
              "    <path d=\"M0 0h24v24H0V0z\" fill=\"none\"/>\n",
              "    <path d=\"M18.56 5.44l.94 2.06.94-2.06 2.06-.94-2.06-.94-.94-2.06-.94 2.06-2.06.94zm-11 1L8.5 8.5l.94-2.06 2.06-.94-2.06-.94L8.5 2.5l-.94 2.06-2.06.94zm10 10l.94 2.06.94-2.06 2.06-.94-2.06-.94-.94-2.06-.94 2.06-2.06.94z\"/><path d=\"M17.41 7.96l-1.37-1.37c-.4-.4-.92-.59-1.43-.59-.52 0-1.04.2-1.43.59L10.3 9.45l-7.72 7.72c-.78.78-.78 2.05 0 2.83L4 21.41c.39.39.9.59 1.41.59.51 0 1.02-.2 1.41-.59l7.78-7.78 2.81-2.81c.8-.78.8-2.07 0-2.86zM5.41 20L4 18.59l7.72-7.72 1.47 1.35L5.41 20z\"/>\n",
              "  </svg>\n",
              "      </button>\n",
              "      \n",
              "  <style>\n",
              "    .colab-df-container {\n",
              "      display:flex;\n",
              "      flex-wrap:wrap;\n",
              "      gap: 12px;\n",
              "    }\n",
              "\n",
              "    .colab-df-convert {\n",
              "      background-color: #E8F0FE;\n",
              "      border: none;\n",
              "      border-radius: 50%;\n",
              "      cursor: pointer;\n",
              "      display: none;\n",
              "      fill: #1967D2;\n",
              "      height: 32px;\n",
              "      padding: 0 0 0 0;\n",
              "      width: 32px;\n",
              "    }\n",
              "\n",
              "    .colab-df-convert:hover {\n",
              "      background-color: #E2EBFA;\n",
              "      box-shadow: 0px 1px 2px rgba(60, 64, 67, 0.3), 0px 1px 3px 1px rgba(60, 64, 67, 0.15);\n",
              "      fill: #174EA6;\n",
              "    }\n",
              "\n",
              "    [theme=dark] .colab-df-convert {\n",
              "      background-color: #3B4455;\n",
              "      fill: #D2E3FC;\n",
              "    }\n",
              "\n",
              "    [theme=dark] .colab-df-convert:hover {\n",
              "      background-color: #434B5C;\n",
              "      box-shadow: 0px 1px 3px 1px rgba(0, 0, 0, 0.15);\n",
              "      filter: drop-shadow(0px 1px 2px rgba(0, 0, 0, 0.3));\n",
              "      fill: #FFFFFF;\n",
              "    }\n",
              "  </style>\n",
              "\n",
              "      <script>\n",
              "        const buttonEl =\n",
              "          document.querySelector('#df-aa129b1b-ad8d-434a-a13a-f8c4e5eeab74 button.colab-df-convert');\n",
              "        buttonEl.style.display =\n",
              "          google.colab.kernel.accessAllowed ? 'block' : 'none';\n",
              "\n",
              "        async function convertToInteractive(key) {\n",
              "          const element = document.querySelector('#df-aa129b1b-ad8d-434a-a13a-f8c4e5eeab74');\n",
              "          const dataTable =\n",
              "            await google.colab.kernel.invokeFunction('convertToInteractive',\n",
              "                                                     [key], {});\n",
              "          if (!dataTable) return;\n",
              "\n",
              "          const docLinkHtml = 'Like what you see? Visit the ' +\n",
              "            '<a target=\"_blank\" href=https://colab.research.google.com/notebooks/data_table.ipynb>data table notebook</a>'\n",
              "            + ' to learn more about interactive tables.';\n",
              "          element.innerHTML = '';\n",
              "          dataTable['output_type'] = 'display_data';\n",
              "          await google.colab.output.renderOutput(dataTable, element);\n",
              "          const docLink = document.createElement('div');\n",
              "          docLink.innerHTML = docLinkHtml;\n",
              "          element.appendChild(docLink);\n",
              "        }\n",
              "      </script>\n",
              "    </div>\n",
              "  </div>\n",
              "  "
            ]
          },
          "metadata": {},
          "execution_count": 12
        }
      ]
    },
    {
      "cell_type": "code",
      "metadata": {
        "id": "UCvk86GjPvem",
        "colab": {
          "base_uri": "https://localhost:8080/",
          "height": 206
        },
        "outputId": "e748380b-c70e-40d9-ecdf-193b82bc0a4b"
      },
      "source": [
        "categorical_features = df[['MSZoning', 'Neighborhood']]\n",
        "categorical_features.head()"
      ],
      "execution_count": null,
      "outputs": [
        {
          "output_type": "execute_result",
          "data": {
            "text/plain": [
              "  MSZoning Neighborhood\n",
              "0       RL      CollgCr\n",
              "1       RL      Veenker\n",
              "2       RL      CollgCr\n",
              "3       RL      Crawfor\n",
              "4       RL      NoRidge"
            ],
            "text/html": [
              "\n",
              "  <div id=\"df-78799965-082a-423a-9e81-18cae9276f5c\">\n",
              "    <div class=\"colab-df-container\">\n",
              "      <div>\n",
              "<style scoped>\n",
              "    .dataframe tbody tr th:only-of-type {\n",
              "        vertical-align: middle;\n",
              "    }\n",
              "\n",
              "    .dataframe tbody tr th {\n",
              "        vertical-align: top;\n",
              "    }\n",
              "\n",
              "    .dataframe thead th {\n",
              "        text-align: right;\n",
              "    }\n",
              "</style>\n",
              "<table border=\"1\" class=\"dataframe\">\n",
              "  <thead>\n",
              "    <tr style=\"text-align: right;\">\n",
              "      <th></th>\n",
              "      <th>MSZoning</th>\n",
              "      <th>Neighborhood</th>\n",
              "    </tr>\n",
              "  </thead>\n",
              "  <tbody>\n",
              "    <tr>\n",
              "      <th>0</th>\n",
              "      <td>RL</td>\n",
              "      <td>CollgCr</td>\n",
              "    </tr>\n",
              "    <tr>\n",
              "      <th>1</th>\n",
              "      <td>RL</td>\n",
              "      <td>Veenker</td>\n",
              "    </tr>\n",
              "    <tr>\n",
              "      <th>2</th>\n",
              "      <td>RL</td>\n",
              "      <td>CollgCr</td>\n",
              "    </tr>\n",
              "    <tr>\n",
              "      <th>3</th>\n",
              "      <td>RL</td>\n",
              "      <td>Crawfor</td>\n",
              "    </tr>\n",
              "    <tr>\n",
              "      <th>4</th>\n",
              "      <td>RL</td>\n",
              "      <td>NoRidge</td>\n",
              "    </tr>\n",
              "  </tbody>\n",
              "</table>\n",
              "</div>\n",
              "      <button class=\"colab-df-convert\" onclick=\"convertToInteractive('df-78799965-082a-423a-9e81-18cae9276f5c')\"\n",
              "              title=\"Convert this dataframe to an interactive table.\"\n",
              "              style=\"display:none;\">\n",
              "        \n",
              "  <svg xmlns=\"http://www.w3.org/2000/svg\" height=\"24px\"viewBox=\"0 0 24 24\"\n",
              "       width=\"24px\">\n",
              "    <path d=\"M0 0h24v24H0V0z\" fill=\"none\"/>\n",
              "    <path d=\"M18.56 5.44l.94 2.06.94-2.06 2.06-.94-2.06-.94-.94-2.06-.94 2.06-2.06.94zm-11 1L8.5 8.5l.94-2.06 2.06-.94-2.06-.94L8.5 2.5l-.94 2.06-2.06.94zm10 10l.94 2.06.94-2.06 2.06-.94-2.06-.94-.94-2.06-.94 2.06-2.06.94z\"/><path d=\"M17.41 7.96l-1.37-1.37c-.4-.4-.92-.59-1.43-.59-.52 0-1.04.2-1.43.59L10.3 9.45l-7.72 7.72c-.78.78-.78 2.05 0 2.83L4 21.41c.39.39.9.59 1.41.59.51 0 1.02-.2 1.41-.59l7.78-7.78 2.81-2.81c.8-.78.8-2.07 0-2.86zM5.41 20L4 18.59l7.72-7.72 1.47 1.35L5.41 20z\"/>\n",
              "  </svg>\n",
              "      </button>\n",
              "      \n",
              "  <style>\n",
              "    .colab-df-container {\n",
              "      display:flex;\n",
              "      flex-wrap:wrap;\n",
              "      gap: 12px;\n",
              "    }\n",
              "\n",
              "    .colab-df-convert {\n",
              "      background-color: #E8F0FE;\n",
              "      border: none;\n",
              "      border-radius: 50%;\n",
              "      cursor: pointer;\n",
              "      display: none;\n",
              "      fill: #1967D2;\n",
              "      height: 32px;\n",
              "      padding: 0 0 0 0;\n",
              "      width: 32px;\n",
              "    }\n",
              "\n",
              "    .colab-df-convert:hover {\n",
              "      background-color: #E2EBFA;\n",
              "      box-shadow: 0px 1px 2px rgba(60, 64, 67, 0.3), 0px 1px 3px 1px rgba(60, 64, 67, 0.15);\n",
              "      fill: #174EA6;\n",
              "    }\n",
              "\n",
              "    [theme=dark] .colab-df-convert {\n",
              "      background-color: #3B4455;\n",
              "      fill: #D2E3FC;\n",
              "    }\n",
              "\n",
              "    [theme=dark] .colab-df-convert:hover {\n",
              "      background-color: #434B5C;\n",
              "      box-shadow: 0px 1px 3px 1px rgba(0, 0, 0, 0.15);\n",
              "      filter: drop-shadow(0px 1px 2px rgba(0, 0, 0, 0.3));\n",
              "      fill: #FFFFFF;\n",
              "    }\n",
              "  </style>\n",
              "\n",
              "      <script>\n",
              "        const buttonEl =\n",
              "          document.querySelector('#df-78799965-082a-423a-9e81-18cae9276f5c button.colab-df-convert');\n",
              "        buttonEl.style.display =\n",
              "          google.colab.kernel.accessAllowed ? 'block' : 'none';\n",
              "\n",
              "        async function convertToInteractive(key) {\n",
              "          const element = document.querySelector('#df-78799965-082a-423a-9e81-18cae9276f5c');\n",
              "          const dataTable =\n",
              "            await google.colab.kernel.invokeFunction('convertToInteractive',\n",
              "                                                     [key], {});\n",
              "          if (!dataTable) return;\n",
              "\n",
              "          const docLinkHtml = 'Like what you see? Visit the ' +\n",
              "            '<a target=\"_blank\" href=https://colab.research.google.com/notebooks/data_table.ipynb>data table notebook</a>'\n",
              "            + ' to learn more about interactive tables.';\n",
              "          element.innerHTML = '';\n",
              "          dataTable['output_type'] = 'display_data';\n",
              "          await google.colab.output.renderOutput(dataTable, element);\n",
              "          const docLink = document.createElement('div');\n",
              "          docLink.innerHTML = docLinkHtml;\n",
              "          element.appendChild(docLink);\n",
              "        }\n",
              "      </script>\n",
              "    </div>\n",
              "  </div>\n",
              "  "
            ]
          },
          "metadata": {},
          "execution_count": 13
        }
      ]
    },
    {
      "cell_type": "code",
      "metadata": {
        "id": "jbim4UeSP__E",
        "colab": {
          "base_uri": "https://localhost:8080/",
          "height": 317
        },
        "outputId": "9109e663-cadb-4ba5-ea82-3e6d541cde89"
      },
      "source": [
        "features = pd.concat([numeric_features, pd.get_dummies(categorical_features)], axis=1)\n",
        "features = (features - features.mean()) / features.std()\n",
        "features.head()"
      ],
      "execution_count": null,
      "outputs": [
        {
          "output_type": "execute_result",
          "data": {
            "text/plain": [
              "   OverallQual  GrLivArea  MSZoning_C (all)  MSZoning_FV  MSZoning_RH  \\\n",
              "0     0.651256   0.370207         -0.083017    -0.215785    -0.105227   \n",
              "1    -0.071812  -0.482347         -0.083017    -0.215785    -0.105227   \n",
              "2     0.651256   0.514836         -0.083017    -0.215785    -0.105227   \n",
              "3     0.651256   0.383528         -0.083017    -0.215785    -0.105227   \n",
              "4     1.374324   1.298881         -0.083017    -0.215785    -0.105227   \n",
              "\n",
              "   MSZoning_RL  MSZoning_RM  Neighborhood_Blmngtn  Neighborhood_Blueste  \\\n",
              "0     0.517956    -0.418812             -0.108503             -0.037024   \n",
              "1     0.517956    -0.418812             -0.108503             -0.037024   \n",
              "2     0.517956    -0.418812             -0.108503             -0.037024   \n",
              "3     0.517956    -0.418812             -0.108503             -0.037024   \n",
              "4     0.517956    -0.418812             -0.108503             -0.037024   \n",
              "\n",
              "   Neighborhood_BrDale  ...  Neighborhood_NoRidge  Neighborhood_NridgHt  \\\n",
              "0            -0.105227  ...             -0.169923             -0.235877   \n",
              "1            -0.105227  ...             -0.169923             -0.235877   \n",
              "2            -0.105227  ...             -0.169923             -0.235877   \n",
              "3            -0.105227  ...             -0.169923             -0.235877   \n",
              "4            -0.105227  ...              5.880991             -0.235877   \n",
              "\n",
              "   Neighborhood_OldTown  Neighborhood_SWISU  Neighborhood_Sawyer  \\\n",
              "0             -0.289539           -0.131946            -0.230986   \n",
              "1             -0.289539           -0.131946            -0.230986   \n",
              "2             -0.289539           -0.131946            -0.230986   \n",
              "3             -0.289539           -0.131946            -0.230986   \n",
              "4             -0.289539           -0.131946            -0.230986   \n",
              "\n",
              "   Neighborhood_SawyerW  Neighborhood_Somerst  Neighborhood_StoneBr  \\\n",
              "0             -0.205144             -0.250096             -0.131946   \n",
              "1             -0.205144             -0.250096             -0.131946   \n",
              "2             -0.205144             -0.250096             -0.131946   \n",
              "3             -0.205144             -0.250096             -0.131946   \n",
              "4             -0.205144             -0.250096             -0.131946   \n",
              "\n",
              "   Neighborhood_Timber  Neighborhood_Veenker  \n",
              "0            -0.163415             -0.087099  \n",
              "1            -0.163415             11.473319  \n",
              "2            -0.163415             -0.087099  \n",
              "3            -0.163415             -0.087099  \n",
              "4            -0.163415             -0.087099  \n",
              "\n",
              "[5 rows x 32 columns]"
            ],
            "text/html": [
              "\n",
              "  <div id=\"df-7b6a239c-e31d-415e-853e-1c1da8acf87a\">\n",
              "    <div class=\"colab-df-container\">\n",
              "      <div>\n",
              "<style scoped>\n",
              "    .dataframe tbody tr th:only-of-type {\n",
              "        vertical-align: middle;\n",
              "    }\n",
              "\n",
              "    .dataframe tbody tr th {\n",
              "        vertical-align: top;\n",
              "    }\n",
              "\n",
              "    .dataframe thead th {\n",
              "        text-align: right;\n",
              "    }\n",
              "</style>\n",
              "<table border=\"1\" class=\"dataframe\">\n",
              "  <thead>\n",
              "    <tr style=\"text-align: right;\">\n",
              "      <th></th>\n",
              "      <th>OverallQual</th>\n",
              "      <th>GrLivArea</th>\n",
              "      <th>MSZoning_C (all)</th>\n",
              "      <th>MSZoning_FV</th>\n",
              "      <th>MSZoning_RH</th>\n",
              "      <th>MSZoning_RL</th>\n",
              "      <th>MSZoning_RM</th>\n",
              "      <th>Neighborhood_Blmngtn</th>\n",
              "      <th>Neighborhood_Blueste</th>\n",
              "      <th>Neighborhood_BrDale</th>\n",
              "      <th>...</th>\n",
              "      <th>Neighborhood_NoRidge</th>\n",
              "      <th>Neighborhood_NridgHt</th>\n",
              "      <th>Neighborhood_OldTown</th>\n",
              "      <th>Neighborhood_SWISU</th>\n",
              "      <th>Neighborhood_Sawyer</th>\n",
              "      <th>Neighborhood_SawyerW</th>\n",
              "      <th>Neighborhood_Somerst</th>\n",
              "      <th>Neighborhood_StoneBr</th>\n",
              "      <th>Neighborhood_Timber</th>\n",
              "      <th>Neighborhood_Veenker</th>\n",
              "    </tr>\n",
              "  </thead>\n",
              "  <tbody>\n",
              "    <tr>\n",
              "      <th>0</th>\n",
              "      <td>0.651256</td>\n",
              "      <td>0.370207</td>\n",
              "      <td>-0.083017</td>\n",
              "      <td>-0.215785</td>\n",
              "      <td>-0.105227</td>\n",
              "      <td>0.517956</td>\n",
              "      <td>-0.418812</td>\n",
              "      <td>-0.108503</td>\n",
              "      <td>-0.037024</td>\n",
              "      <td>-0.105227</td>\n",
              "      <td>...</td>\n",
              "      <td>-0.169923</td>\n",
              "      <td>-0.235877</td>\n",
              "      <td>-0.289539</td>\n",
              "      <td>-0.131946</td>\n",
              "      <td>-0.230986</td>\n",
              "      <td>-0.205144</td>\n",
              "      <td>-0.250096</td>\n",
              "      <td>-0.131946</td>\n",
              "      <td>-0.163415</td>\n",
              "      <td>-0.087099</td>\n",
              "    </tr>\n",
              "    <tr>\n",
              "      <th>1</th>\n",
              "      <td>-0.071812</td>\n",
              "      <td>-0.482347</td>\n",
              "      <td>-0.083017</td>\n",
              "      <td>-0.215785</td>\n",
              "      <td>-0.105227</td>\n",
              "      <td>0.517956</td>\n",
              "      <td>-0.418812</td>\n",
              "      <td>-0.108503</td>\n",
              "      <td>-0.037024</td>\n",
              "      <td>-0.105227</td>\n",
              "      <td>...</td>\n",
              "      <td>-0.169923</td>\n",
              "      <td>-0.235877</td>\n",
              "      <td>-0.289539</td>\n",
              "      <td>-0.131946</td>\n",
              "      <td>-0.230986</td>\n",
              "      <td>-0.205144</td>\n",
              "      <td>-0.250096</td>\n",
              "      <td>-0.131946</td>\n",
              "      <td>-0.163415</td>\n",
              "      <td>11.473319</td>\n",
              "    </tr>\n",
              "    <tr>\n",
              "      <th>2</th>\n",
              "      <td>0.651256</td>\n",
              "      <td>0.514836</td>\n",
              "      <td>-0.083017</td>\n",
              "      <td>-0.215785</td>\n",
              "      <td>-0.105227</td>\n",
              "      <td>0.517956</td>\n",
              "      <td>-0.418812</td>\n",
              "      <td>-0.108503</td>\n",
              "      <td>-0.037024</td>\n",
              "      <td>-0.105227</td>\n",
              "      <td>...</td>\n",
              "      <td>-0.169923</td>\n",
              "      <td>-0.235877</td>\n",
              "      <td>-0.289539</td>\n",
              "      <td>-0.131946</td>\n",
              "      <td>-0.230986</td>\n",
              "      <td>-0.205144</td>\n",
              "      <td>-0.250096</td>\n",
              "      <td>-0.131946</td>\n",
              "      <td>-0.163415</td>\n",
              "      <td>-0.087099</td>\n",
              "    </tr>\n",
              "    <tr>\n",
              "      <th>3</th>\n",
              "      <td>0.651256</td>\n",
              "      <td>0.383528</td>\n",
              "      <td>-0.083017</td>\n",
              "      <td>-0.215785</td>\n",
              "      <td>-0.105227</td>\n",
              "      <td>0.517956</td>\n",
              "      <td>-0.418812</td>\n",
              "      <td>-0.108503</td>\n",
              "      <td>-0.037024</td>\n",
              "      <td>-0.105227</td>\n",
              "      <td>...</td>\n",
              "      <td>-0.169923</td>\n",
              "      <td>-0.235877</td>\n",
              "      <td>-0.289539</td>\n",
              "      <td>-0.131946</td>\n",
              "      <td>-0.230986</td>\n",
              "      <td>-0.205144</td>\n",
              "      <td>-0.250096</td>\n",
              "      <td>-0.131946</td>\n",
              "      <td>-0.163415</td>\n",
              "      <td>-0.087099</td>\n",
              "    </tr>\n",
              "    <tr>\n",
              "      <th>4</th>\n",
              "      <td>1.374324</td>\n",
              "      <td>1.298881</td>\n",
              "      <td>-0.083017</td>\n",
              "      <td>-0.215785</td>\n",
              "      <td>-0.105227</td>\n",
              "      <td>0.517956</td>\n",
              "      <td>-0.418812</td>\n",
              "      <td>-0.108503</td>\n",
              "      <td>-0.037024</td>\n",
              "      <td>-0.105227</td>\n",
              "      <td>...</td>\n",
              "      <td>5.880991</td>\n",
              "      <td>-0.235877</td>\n",
              "      <td>-0.289539</td>\n",
              "      <td>-0.131946</td>\n",
              "      <td>-0.230986</td>\n",
              "      <td>-0.205144</td>\n",
              "      <td>-0.250096</td>\n",
              "      <td>-0.131946</td>\n",
              "      <td>-0.163415</td>\n",
              "      <td>-0.087099</td>\n",
              "    </tr>\n",
              "  </tbody>\n",
              "</table>\n",
              "<p>5 rows × 32 columns</p>\n",
              "</div>\n",
              "      <button class=\"colab-df-convert\" onclick=\"convertToInteractive('df-7b6a239c-e31d-415e-853e-1c1da8acf87a')\"\n",
              "              title=\"Convert this dataframe to an interactive table.\"\n",
              "              style=\"display:none;\">\n",
              "        \n",
              "  <svg xmlns=\"http://www.w3.org/2000/svg\" height=\"24px\"viewBox=\"0 0 24 24\"\n",
              "       width=\"24px\">\n",
              "    <path d=\"M0 0h24v24H0V0z\" fill=\"none\"/>\n",
              "    <path d=\"M18.56 5.44l.94 2.06.94-2.06 2.06-.94-2.06-.94-.94-2.06-.94 2.06-2.06.94zm-11 1L8.5 8.5l.94-2.06 2.06-.94-2.06-.94L8.5 2.5l-.94 2.06-2.06.94zm10 10l.94 2.06.94-2.06 2.06-.94-2.06-.94-.94-2.06-.94 2.06-2.06.94z\"/><path d=\"M17.41 7.96l-1.37-1.37c-.4-.4-.92-.59-1.43-.59-.52 0-1.04.2-1.43.59L10.3 9.45l-7.72 7.72c-.78.78-.78 2.05 0 2.83L4 21.41c.39.39.9.59 1.41.59.51 0 1.02-.2 1.41-.59l7.78-7.78 2.81-2.81c.8-.78.8-2.07 0-2.86zM5.41 20L4 18.59l7.72-7.72 1.47 1.35L5.41 20z\"/>\n",
              "  </svg>\n",
              "      </button>\n",
              "      \n",
              "  <style>\n",
              "    .colab-df-container {\n",
              "      display:flex;\n",
              "      flex-wrap:wrap;\n",
              "      gap: 12px;\n",
              "    }\n",
              "\n",
              "    .colab-df-convert {\n",
              "      background-color: #E8F0FE;\n",
              "      border: none;\n",
              "      border-radius: 50%;\n",
              "      cursor: pointer;\n",
              "      display: none;\n",
              "      fill: #1967D2;\n",
              "      height: 32px;\n",
              "      padding: 0 0 0 0;\n",
              "      width: 32px;\n",
              "    }\n",
              "\n",
              "    .colab-df-convert:hover {\n",
              "      background-color: #E2EBFA;\n",
              "      box-shadow: 0px 1px 2px rgba(60, 64, 67, 0.3), 0px 1px 3px 1px rgba(60, 64, 67, 0.15);\n",
              "      fill: #174EA6;\n",
              "    }\n",
              "\n",
              "    [theme=dark] .colab-df-convert {\n",
              "      background-color: #3B4455;\n",
              "      fill: #D2E3FC;\n",
              "    }\n",
              "\n",
              "    [theme=dark] .colab-df-convert:hover {\n",
              "      background-color: #434B5C;\n",
              "      box-shadow: 0px 1px 3px 1px rgba(0, 0, 0, 0.15);\n",
              "      filter: drop-shadow(0px 1px 2px rgba(0, 0, 0, 0.3));\n",
              "      fill: #FFFFFF;\n",
              "    }\n",
              "  </style>\n",
              "\n",
              "      <script>\n",
              "        const buttonEl =\n",
              "          document.querySelector('#df-7b6a239c-e31d-415e-853e-1c1da8acf87a button.colab-df-convert');\n",
              "        buttonEl.style.display =\n",
              "          google.colab.kernel.accessAllowed ? 'block' : 'none';\n",
              "\n",
              "        async function convertToInteractive(key) {\n",
              "          const element = document.querySelector('#df-7b6a239c-e31d-415e-853e-1c1da8acf87a');\n",
              "          const dataTable =\n",
              "            await google.colab.kernel.invokeFunction('convertToInteractive',\n",
              "                                                     [key], {});\n",
              "          if (!dataTable) return;\n",
              "\n",
              "          const docLinkHtml = 'Like what you see? Visit the ' +\n",
              "            '<a target=\"_blank\" href=https://colab.research.google.com/notebooks/data_table.ipynb>data table notebook</a>'\n",
              "            + ' to learn more about interactive tables.';\n",
              "          element.innerHTML = '';\n",
              "          dataTable['output_type'] = 'display_data';\n",
              "          await google.colab.output.renderOutput(dataTable, element);\n",
              "          const docLink = document.createElement('div');\n",
              "          docLink.innerHTML = docLinkHtml;\n",
              "          element.appendChild(docLink);\n",
              "        }\n",
              "      </script>\n",
              "    </div>\n",
              "  </div>\n",
              "  "
            ]
          },
          "metadata": {},
          "execution_count": 14
        }
      ]
    },
    {
      "cell_type": "code",
      "metadata": {
        "id": "ADOimGH2SzyW"
      },
      "source": [
        "from sklearn.model_selection import train_test_split\n",
        "x_train, x_test, y_train, y_test = train_test_split(features, target, random_state=0)"
      ],
      "execution_count": null,
      "outputs": []
    },
    {
      "cell_type": "code",
      "metadata": {
        "id": "ZpDdsMBjTDm3",
        "colab": {
          "base_uri": "https://localhost:8080/"
        },
        "outputId": "b29b186d-fa9a-420c-8a5e-72e812705ef2"
      },
      "source": [
        "from sklearn.dummy import DummyRegressor\n",
        "from sklearn.metrics import mean_squared_error\n",
        "\n",
        "baseline = DummyRegressor()\n",
        "baseline.fit(x_train, y_train)\n",
        "mean_squared_error(y_test, baseline.predict(x_test))"
      ],
      "execution_count": null,
      "outputs": [
        {
          "output_type": "execute_result",
          "data": {
            "text/plain": [
              "0.14877147033553434"
            ]
          },
          "metadata": {},
          "execution_count": 16
        }
      ]
    },
    {
      "cell_type": "code",
      "metadata": {
        "id": "Cz9DkujXQSh6",
        "colab": {
          "base_uri": "https://localhost:8080/"
        },
        "outputId": "b745465b-4ebd-4f7d-e863-ba266a668596"
      },
      "source": [
        "from sklearn.linear_model import LinearRegression\n",
        "\n",
        "model = LinearRegression()\n",
        "model.fit(x_train, y_train)\n",
        "mean_squared_error(y_test, model.predict(x_test))"
      ],
      "execution_count": null,
      "outputs": [
        {
          "output_type": "execute_result",
          "data": {
            "text/plain": [
              "0.030541267334850977"
            ]
          },
          "metadata": {},
          "execution_count": 17
        }
      ]
    },
    {
      "cell_type": "code",
      "metadata": {
        "id": "6N_Bpy2Qdvjo",
        "colab": {
          "base_uri": "https://localhost:8080/"
        },
        "outputId": "9b2f34ce-60d4-4726-a06e-3464b91c3fbc"
      },
      "source": [
        "model.predict(x_test)"
      ],
      "execution_count": null,
      "outputs": [
        {
          "output_type": "execute_result",
          "data": {
            "text/plain": [
              "array([12.39787765, 12.02312179, 11.69304367, 12.44890304, 11.55339523,\n",
              "       11.52306076, 12.41878219, 11.66911789, 13.4998674 , 12.08357712,\n",
              "       12.15584274, 11.9866838 , 12.30949875, 11.71623703, 11.87981125,\n",
              "       11.83586593, 12.4295549 , 11.73161789, 11.80650802, 11.97716232,\n",
              "       11.85637375, 11.86198898, 11.39665695, 12.05339523, 12.15416427,\n",
              "       12.06383224, 12.1099443 , 11.30266281, 12.27019211, 11.80754562,\n",
              "       11.96941086, 12.21910568, 11.86320968, 12.61998459, 12.61482712,\n",
              "       12.15422531, 12.58971115, 11.81120773, 12.37068649, 12.74254318,\n",
              "       12.07024093, 11.8491716 , 12.15691086, 12.55821701, 12.79210373,\n",
              "       11.95549484, 11.46617599, 11.8146257 , 12.04893966, 11.49382492,\n",
              "       12.90953537, 11.76628586, 11.99767013, 11.46208664, 12.18126388,\n",
              "       11.59734054, 11.64146896, 12.36784836, 11.7757463 , 11.45567795,\n",
              "       11.87175461, 11.75896164, 11.813405  , 11.789113  , 12.0804338 ,\n",
              "       11.99419113, 11.72429367, 12.33235641, 11.92155929, 12.23723312,\n",
              "       12.15031906, 11.65666671, 11.38689132, 12.43367477, 11.50236984,\n",
              "       12.43001266, 11.74480148, 11.56511398, 12.44792648, 11.94328781,\n",
              "       11.49815841, 11.80608078, 11.72502609, 11.84245773, 12.53435226,\n",
              "       12.16472336, 11.40709396, 12.31212326, 11.79704757, 11.87920089,\n",
              "       12.15324875, 12.06700607, 12.05852218, 12.3158464 , 12.1115007 ,\n",
              "       11.92912765, 12.20695968, 11.9305925 , 11.59489914, 11.74944015,\n",
              "       12.27922531, 12.11320968, 11.72307296, 11.85881515, 11.5467424 ,\n",
              "       12.68321701, 11.88225265, 11.32487961, 12.05437179, 11.66338058,\n",
              "       11.76091476, 11.63805099, 12.18809982, 11.55089279, 12.18513962,\n",
              "       11.9620256 , 12.94054123, 11.7523088 , 12.18596359, 12.44295212,\n",
              "       12.01842209, 12.16756149, 11.73717209, 12.29454513, 12.23698898,\n",
              "       12.19197555, 12.75133224, 12.1411943 , 12.12361618, 12.05235763,\n",
              "       12.04851242, 12.13664718, 12.13170334, 12.02818771, 11.59489914,\n",
              "       12.20860763, 11.82408615, 12.0960588 , 11.37706466, 12.05846115,\n",
              "       12.00407882, 11.59538742, 12.32390304, 11.85686203, 11.7042131 ,\n",
              "       12.05925461, 12.37801071, 11.76042648, 12.64488693, 12.13805099,\n",
              "       11.97893234, 12.63048263, 12.52019211, 11.97160812, 12.04185959,\n",
              "       12.52745529, 11.44371505, 12.3314714 , 11.81230636, 12.16472336,\n",
              "       11.59489914, 11.79948898, 12.22029587, 11.51189132, 12.45052047,\n",
              "       11.59929367, 11.87462326, 12.55113693, 12.25865646, 12.11394211,\n",
              "       11.96648117, 12.04723068, 12.18321701, 12.06111618, 11.77409836,\n",
              "       11.77666183, 11.78386398, 12.36729904, 11.76768966, 11.9116716 ,\n",
              "       12.43322273, 12.27773567, 11.66158577, 12.52013107, 11.47380539,\n",
              "       12.1158342 , 11.52287765, 12.13078781, 12.15300461, 11.86198898,\n",
              "       11.84245773, 11.83903976, 12.36021896, 11.82048507, 11.70720382,\n",
              "       11.8894548 , 11.30266281, 11.89592453, 12.06291671, 11.52116867,\n",
              "       11.84319015, 12.37849899, 11.38579269, 11.85686203, 11.6783342 ,\n",
              "       12.21721359, 11.92863937, 12.62224289, 12.40544601, 11.36369796,\n",
              "       11.80626388, 12.50105758, 11.53484054, 11.52165695, 12.65413376,\n",
              "       12.25481125, 12.13097091, 12.49498459, 12.35506149, 11.30266281,\n",
              "       12.14854904, 11.96941086, 11.8111467 , 11.80608078, 12.1830339 ,\n",
              "       12.50792404, 12.40691086, 12.11259933, 11.80894943, 12.11900802,\n",
              "       11.53484054, 11.83287521, 11.59489914, 11.87395187, 12.4085588 ,\n",
              "       11.81389328, 11.97392746, 11.51891037, 11.55778976, 11.99419113,\n",
              "       11.59874435, 12.10954757, 12.29143234, 12.29436203, 12.15388962,\n",
              "       12.33821579, 12.41682907, 12.23528   , 11.93816086, 12.19182296,\n",
              "       11.98003097, 12.43709274, 11.58562179, 13.09651657, 12.25642868,\n",
              "       12.30876632, 11.47789474, 12.20134445, 12.97102829, 13.52043625,\n",
              "       12.37947555, 11.66130539, 11.74644943, 11.54112716, 12.85167404,\n",
              "       12.49763962, 12.57024093, 11.33440109, 12.37639328, 12.37859054,\n",
              "       11.65294357, 12.38322921, 11.78020187, 12.07042404, 11.98253341,\n",
              "       12.30846115, 12.3536882 , 12.28484054, 12.34099289, 11.11247726,\n",
              "       11.8146257 , 12.7108049 , 12.10295578, 11.90642257, 12.15227218,\n",
              "       12.07329269, 11.58952804, 12.50764938, 12.94347091, 12.06847091,\n",
              "       11.43913742, 11.48186203, 12.66685959, 11.71452804, 11.83879562,\n",
              "       12.30949875, 12.22356125, 12.1177568 , 11.94963546, 12.17439743,\n",
              "       11.40605636, 11.75798507, 12.03630539, 12.19933029, 12.09843918,\n",
              "       11.96440597, 11.55186935, 12.09212204, 12.157155  , 12.06218429,\n",
              "       11.75676437, 12.0083818 , 11.96226974, 11.73088546, 11.55388351,\n",
              "       11.86198898, 12.60799118, 11.57756515, 12.10588546, 11.93321701,\n",
              "       11.68492599, 12.50301071, 11.56425949, 12.39537521, 11.75133224,\n",
              "       12.32283493, 11.83195968, 12.59651657, 12.14519211, 11.78801437,\n",
              "       11.73076339, 12.3694963 , 11.92888351, 12.15861984, 12.02892013,\n",
              "       11.7677507 , 11.66441818, 12.25749679, 11.85094162, 11.76335617,\n",
              "       12.65636154, 11.9005632 , 11.95860763, 12.30241867, 12.13826462,\n",
              "       11.89653488, 11.38347336, 11.75896164, 11.48375412, 11.7286882 ,\n",
              "       12.27595993, 12.84679123, 11.71977707, 11.48253341, 11.79167648,\n",
              "       12.84923263, 12.71617599, 11.79381271, 12.31218429, 12.37321945,\n",
              "       12.58409591, 12.15196701, 12.21892257, 12.40838905, 11.56569954])"
            ]
          },
          "metadata": {},
          "execution_count": 18
        }
      ]
    },
    {
      "cell_type": "code",
      "metadata": {
        "colab": {
          "base_uri": "https://localhost:8080/"
        },
        "id": "hA_q4zCdeAe9",
        "outputId": "259161d7-a234-4810-df4b-4dab94495ee5"
      },
      "source": [
        "y_test"
      ],
      "execution_count": null,
      "outputs": [
        {
          "output_type": "execute_result",
          "data": {
            "text/plain": [
              "529     12.209188\n",
              "491     11.798104\n",
              "459     11.608236\n",
              "279     12.165251\n",
              "655     11.385092\n",
              "          ...    \n",
              "583     12.691580\n",
              "1245    12.089539\n",
              "1390    12.367341\n",
              "1375    12.384219\n",
              "638     11.350407\n",
              "Name: SalePrice, Length: 365, dtype: float64"
            ]
          },
          "metadata": {},
          "execution_count": 19
        }
      ]
    },
    {
      "cell_type": "code",
      "metadata": {
        "id": "ZAQDWvvdPGUX",
        "colab": {
          "base_uri": "https://localhost:8080/"
        },
        "outputId": "31f45118-a56a-4fa8-dede-faa802ef1604"
      },
      "source": [
        "len(features.columns)"
      ],
      "execution_count": null,
      "outputs": [
        {
          "output_type": "execute_result",
          "data": {
            "text/plain": [
              "32"
            ]
          },
          "metadata": {},
          "execution_count": 20
        }
      ]
    },
    {
      "cell_type": "code",
      "metadata": {
        "id": "IFqwnlghPILF",
        "colab": {
          "base_uri": "https://localhost:8080/"
        },
        "outputId": "dd7ec24e-a6bc-4af9-d25d-26b65d54a9d7"
      },
      "source": [
        "len(model.coef_)"
      ],
      "execution_count": null,
      "outputs": [
        {
          "output_type": "execute_result",
          "data": {
            "text/plain": [
              "32"
            ]
          },
          "metadata": {},
          "execution_count": 21
        }
      ]
    },
    {
      "cell_type": "code",
      "metadata": {
        "id": "qKqSc_1FTXCz",
        "colab": {
          "base_uri": "https://localhost:8080/"
        },
        "outputId": "5ae5db67-70f6-4c90-9e69-d7669c6d94c1"
      },
      "source": [
        "model.coef_"
      ],
      "execution_count": null,
      "outputs": [
        {
          "output_type": "execute_result",
          "data": {
            "text/plain": [
              "array([ 1.53427087e-01,  1.51789577e-01, -4.48354354e+11, -1.12119505e+12,\n",
              "       -5.65953798e+11, -2.22051797e+12, -1.93743185e+12,  1.75371668e+11,\n",
              "        6.04638177e+10,  1.70194450e+11,  3.19293303e+11,  2.24208633e+11,\n",
              "        4.96344351e+11,  3.00152794e+11,  4.12925078e+11,  3.69838561e+11,\n",
              "        2.56924262e+11,  1.75371668e+11,  2.94417318e+11,  5.90237154e+11,\n",
              "        1.27954854e+11,  3.56288222e+11,  2.70075340e+11,  3.65391347e+11,\n",
              "        4.36842441e+11,  2.12079046e+11,  3.58590914e+11,  3.21919200e+11,\n",
              "        3.84896886e+11,  2.12079046e+11,  2.60281561e+11,  1.41361889e+11])"
            ]
          },
          "metadata": {},
          "execution_count": 22
        }
      ]
    },
    {
      "cell_type": "code",
      "metadata": {
        "id": "SFG3Cbg6PL2c"
      },
      "source": [],
      "execution_count": null,
      "outputs": []
    }
  ]
}